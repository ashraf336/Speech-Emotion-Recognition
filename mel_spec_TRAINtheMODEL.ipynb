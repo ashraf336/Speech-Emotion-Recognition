{
  "nbformat": 4,
  "nbformat_minor": 0,
  "metadata": {
    "colab": {
      "name": "mel spec TRAINtheMODEL.ipynb",
      "provenance": [],
      "collapsed_sections": [],
      "include_colab_link": true
    },
    "kernelspec": {
      "display_name": "Python 3",
      "name": "python3"
    },
    "language_info": {
      "name": "python"
    }
  },
  "cells": [
    {
      "cell_type": "markdown",
      "metadata": {
        "id": "view-in-github",
        "colab_type": "text"
      },
      "source": [
        "<a href=\"https://colab.research.google.com/github/habiib1999/Speech-Emotion-Recognition/blob/main/mel_spec_TRAINtheMODEL.ipynb\" target=\"_parent\"><img src=\"https://colab.research.google.com/assets/colab-badge.svg\" alt=\"Open In Colab\"/></a>"
      ]
    },
    {
      "cell_type": "code",
      "metadata": {
        "colab": {
          "base_uri": "https://localhost:8080/"
        },
        "id": "KpZ42aw36mZs",
        "outputId": "ad2bc728-4a03-4eae-936e-dcf3095d8929"
      },
      "source": [
        "from google.colab import drive\n",
        "drive.mount('/content/drive')"
      ],
      "execution_count": 1,
      "outputs": [
        {
          "output_type": "stream",
          "text": [
            "Drive already mounted at /content/drive; to attempt to forcibly remount, call drive.mount(\"/content/drive\", force_remount=True).\n"
          ],
          "name": "stdout"
        }
      ]
    },
    {
      "cell_type": "code",
      "metadata": {
        "id": "mEwDO1iz6Pt7"
      },
      "source": [
        "import numpy as np\n",
        "import matplotlib.pyplot as plt\n",
        "import os\n",
        "import matplotlib.pyplot as plt\n",
        "import numpy as np\n",
        "# from entropy import spectral_entropy\n",
        "from keras import layers\n",
        "from keras import models\n",
        "from keras.utils import np_utils\n",
        "from sklearn.model_selection import train_test_split\n",
        "from sklearn.preprocessing import LabelEncoder, StandardScaler\n",
        "from tensorflow.python.keras.callbacks import EarlyStopping, ReduceLROnPlateau\n"
      ],
      "execution_count": 2,
      "outputs": []
    },
    {
      "cell_type": "code",
      "metadata": {
        "id": "YLldtkiR5Ztu",
        "colab": {
          "base_uri": "https://localhost:8080/"
        },
        "outputId": "6f45a6da-6f95-4689-af1f-74fdd1388e1e"
      },
      "source": [
        "\n",
        "mel_spec_data = np.load(\"/content/drive/MyDrive/emotionDataset/crema_mel_spec_data_features2.npy\",allow_pickle=True) \n",
        "mel_spec_labels = np.load( \"/content/drive/MyDrive/emotionDataset/crema_mel_spec_labels_feature2.npy\",allow_pickle=True)\n",
        "\n",
        "import sys\n",
        "np.set_printoptions(threshold=sys.maxsize)\n",
        "print(mel_spec_labels)"
      ],
      "execution_count": 3,
      "outputs": [
        {
          "output_type": "stream",
          "text": [
            "['fear' 'fear' 'sad' 'disgust' 'disgust' 'angry' 'sad' 'disgust' 'fear'\n",
            " 'fear' 'disgust' 'neutral' 'happy' 'neutral' 'happy' 'fear' 'happy'\n",
            " 'happy' 'angry' 'disgust' 'neutral' 'angry' 'sad' 'disgust' 'disgust'\n",
            " 'angry' 'fear' 'neutral' 'angry' 'angry' 'happy' 'neutral' 'happy' 'fear'\n",
            " 'happy' 'sad' 'disgust' 'neutral' 'fear' 'angry' 'sad' 'neutral' 'fear'\n",
            " 'sad' 'angry' 'happy' 'sad' 'neutral' 'angry' 'sad' 'happy' 'disgust'\n",
            " 'neutral' 'happy' 'disgust' 'happy' 'disgust' 'angry' 'neutral' 'happy'\n",
            " 'happy' 'angry' 'fear' 'fear' 'sad' 'disgust' 'angry' 'angry' 'fear'\n",
            " 'sad' 'sad' 'fear' 'neutral' 'sad' 'fear' 'fear' 'sad' 'angry' 'sad'\n",
            " 'neutral' 'sad' 'angry' 'fear' 'sad' 'angry' 'happy' 'happy' 'disgust'\n",
            " 'angry' 'sad' 'happy' 'angry' 'fear' 'disgust' 'angry' 'angry' 'disgust'\n",
            " 'sad' 'happy' 'sad' 'angry' 'fear' 'happy' 'sad' 'fear' 'happy' 'sad'\n",
            " 'sad' 'neutral' 'neutral' 'disgust' 'disgust' 'neutral' 'fear' 'sad'\n",
            " 'neutral' 'neutral' 'neutral' 'happy' 'happy' 'neutral' 'sad' 'neutral'\n",
            " 'angry' 'disgust' 'disgust' 'sad' 'neutral' 'fear' 'sad' 'disgust'\n",
            " 'disgust' 'fear' 'happy' 'angry' 'neutral' 'sad' 'disgust' 'happy'\n",
            " 'neutral' 'happy' 'fear' 'happy' 'disgust' 'neutral' 'happy' 'happy'\n",
            " 'happy' 'neutral' 'fear' 'happy' 'fear' 'happy' 'angry' 'sad' 'disgust'\n",
            " 'neutral' 'disgust' 'angry' 'fear' 'happy' 'fear' 'disgust' 'sad' 'fear'\n",
            " 'sad' 'angry' 'disgust' 'happy' 'sad' 'happy' 'disgust' 'disgust'\n",
            " 'disgust' 'sad' 'fear' 'angry' 'fear' 'neutral' 'disgust' 'neutral'\n",
            " 'fear' 'neutral' 'fear' 'neutral' 'sad' 'angry' 'happy' 'sad' 'angry'\n",
            " 'neutral' 'sad' 'sad' 'neutral' 'happy' 'happy' 'fear' 'happy' 'angry'\n",
            " 'angry' 'happy' 'happy' 'angry' 'angry' 'angry' 'angry' 'fear' 'sad'\n",
            " 'fear' 'angry' 'neutral' 'angry' 'happy' 'happy' 'disgust' 'happy'\n",
            " 'neutral' 'neutral' 'fear' 'disgust' 'angry' 'angry' 'sad' 'fear'\n",
            " 'disgust' 'disgust' 'fear' 'fear' 'angry' 'neutral' 'happy' 'sad'\n",
            " 'disgust' 'disgust' 'angry' 'happy' 'disgust' 'happy' 'neutral' 'sad'\n",
            " 'fear' 'angry' 'disgust' 'sad' 'disgust' 'sad' 'fear' 'disgust' 'angry'\n",
            " 'sad' 'neutral' 'neutral' 'sad' 'happy' 'sad' 'happy' 'angry' 'angry'\n",
            " 'angry' 'fear' 'happy' 'sad' 'angry' 'happy' 'fear' 'neutral' 'disgust'\n",
            " 'sad' 'fear' 'fear' 'happy' 'disgust' 'sad' 'happy' 'happy' 'disgust'\n",
            " 'sad' 'sad' 'happy' 'angry' 'happy' 'disgust' 'disgust' 'sad' 'sad'\n",
            " 'fear' 'neutral' 'happy' 'neutral' 'disgust' 'angry' 'angry' 'happy'\n",
            " 'angry' 'angry' 'fear' 'sad' 'happy' 'fear' 'fear' 'disgust' 'disgust'\n",
            " 'sad' 'happy' 'angry' 'fear' 'neutral' 'fear' 'fear' 'disgust' 'happy'\n",
            " 'angry' 'sad' 'neutral' 'disgust' 'disgust' 'disgust' 'disgust' 'angry'\n",
            " 'neutral' 'fear' 'disgust' 'angry' 'sad' 'disgust' 'neutral' 'happy'\n",
            " 'angry' 'disgust' 'sad' 'sad' 'disgust' 'happy' 'happy' 'disgust'\n",
            " 'neutral' 'disgust' 'sad' 'angry' 'happy' 'fear' 'sad' 'disgust' 'fear'\n",
            " 'fear' 'happy' 'fear' 'sad' 'fear' 'neutral' 'angry' 'sad' 'disgust'\n",
            " 'disgust' 'happy' 'fear' 'happy' 'neutral' 'neutral' 'neutral' 'sad'\n",
            " 'fear' 'fear' 'fear' 'neutral' 'fear' 'happy' 'angry' 'disgust' 'angry'\n",
            " 'disgust' 'angry' 'fear' 'sad' 'neutral' 'sad' 'angry' 'neutral' 'sad'\n",
            " 'happy' 'neutral' 'fear' 'happy' 'happy' 'sad' 'sad' 'angry' 'angry'\n",
            " 'fear' 'neutral' 'sad' 'fear' 'disgust' 'disgust' 'neutral' 'neutral'\n",
            " 'neutral' 'angry' 'happy' 'fear' 'happy' 'angry' 'neutral' 'neutral'\n",
            " 'disgust' 'happy' 'angry' 'angry' 'sad' 'neutral' 'disgust' 'disgust'\n",
            " 'angry' 'sad' 'neutral' 'angry' 'disgust' 'happy' 'sad' 'happy' 'neutral'\n",
            " 'happy' 'neutral' 'fear' 'angry' 'disgust' 'angry' 'angry' 'disgust'\n",
            " 'neutral' 'fear' 'disgust' 'happy' 'neutral' 'disgust' 'happy' 'disgust'\n",
            " 'fear' 'disgust' 'sad' 'neutral' 'sad' 'happy' 'fear' 'disgust' 'fear'\n",
            " 'fear' 'angry' 'fear' 'sad' 'angry' 'angry' 'neutral' 'fear' 'angry'\n",
            " 'disgust' 'sad' 'angry' 'fear' 'fear' 'fear' 'fear' 'happy' 'angry'\n",
            " 'angry' 'happy' 'sad' 'fear' 'happy' 'angry' 'happy' 'happy' 'fear'\n",
            " 'neutral' 'happy' 'fear' 'fear' 'disgust' 'sad' 'angry' 'happy' 'disgust'\n",
            " 'angry' 'happy' 'sad' 'sad' 'happy' 'neutral' 'neutral' 'sad' 'neutral'\n",
            " 'fear' 'fear' 'sad' 'disgust' 'neutral' 'disgust' 'disgust' 'neutral'\n",
            " 'disgust' 'angry' 'happy' 'sad' 'sad' 'fear' 'neutral' 'sad' 'fear'\n",
            " 'happy' 'disgust' 'fear' 'angry' 'angry' 'disgust' 'disgust' 'fear'\n",
            " 'happy' 'neutral' 'disgust' 'neutral' 'neutral' 'sad' 'sad' 'neutral'\n",
            " 'angry' 'sad' 'fear' 'neutral' 'sad' 'happy' 'happy' 'angry' 'angry'\n",
            " 'disgust' 'fear' 'sad' 'angry' 'happy' 'fear' 'sad' 'angry' 'happy' 'sad'\n",
            " 'fear' 'neutral' 'angry' 'neutral' 'angry' 'disgust' 'angry' 'disgust'\n",
            " 'disgust' 'disgust' 'disgust' 'happy' 'fear' 'happy' 'neutral' 'disgust'\n",
            " 'neutral' 'fear' 'neutral' 'angry' 'disgust' 'sad' 'sad' 'fear' 'angry'\n",
            " 'fear' 'happy' 'neutral' 'angry' 'disgust' 'sad' 'happy' 'happy' 'angry'\n",
            " 'happy' 'sad' 'happy' 'sad' 'happy' 'angry' 'disgust' 'happy' 'neutral'\n",
            " 'sad' 'neutral' 'sad' 'angry' 'sad' 'fear' 'sad' 'disgust' 'neutral'\n",
            " 'sad' 'angry' 'disgust' 'sad' 'disgust' 'fear' 'disgust' 'sad' 'fear'\n",
            " 'sad' 'fear' 'angry' 'fear' 'angry' 'disgust' 'sad' 'neutral' 'fear'\n",
            " 'happy' 'fear' 'fear' 'happy' 'neutral' 'disgust' 'happy' 'happy' 'happy'\n",
            " 'disgust' 'sad' 'sad' 'sad' 'neutral' 'happy' 'fear' 'angry' 'fear'\n",
            " 'neutral' 'neutral' 'sad' 'fear' 'angry' 'fear' 'angry' 'disgust'\n",
            " 'disgust' 'angry' 'neutral' 'fear' 'happy' 'fear' 'fear' 'disgust'\n",
            " 'disgust' 'sad' 'happy' 'disgust' 'disgust' 'neutral' 'sad' 'sad'\n",
            " 'neutral' 'neutral' 'happy' 'neutral' 'disgust' 'neutral' 'fear' 'sad'\n",
            " 'fear' 'disgust' 'happy' 'disgust' 'happy' 'sad' 'disgust' 'disgust'\n",
            " 'disgust' 'sad' 'disgust' 'neutral' 'angry' 'fear' 'happy' 'neutral'\n",
            " 'neutral' 'sad' 'disgust' 'sad' 'happy' 'neutral' 'neutral' 'fear' 'fear'\n",
            " 'angry' 'happy' 'disgust' 'fear' 'angry' 'angry' 'fear' 'neutral' 'happy'\n",
            " 'neutral' 'angry' 'happy' 'happy' 'neutral' 'happy' 'fear' 'fear' 'sad'\n",
            " 'happy' 'neutral' 'sad' 'happy' 'disgust' 'sad' 'sad' 'fear' 'angry'\n",
            " 'fear' 'disgust' 'fear' 'angry' 'neutral' 'happy' 'angry' 'angry' 'happy'\n",
            " 'fear' 'neutral' 'disgust' 'disgust' 'disgust' 'neutral' 'fear' 'fear'\n",
            " 'neutral' 'disgust' 'angry' 'neutral' 'disgust' 'sad' 'neutral' 'sad'\n",
            " 'disgust' 'happy' 'sad' 'neutral' 'fear' 'neutral' 'sad' 'angry'\n",
            " 'neutral' 'angry' 'sad' 'happy' 'disgust' 'happy' 'happy' 'sad' 'neutral'\n",
            " 'sad' 'angry' 'neutral' 'angry' 'neutral' 'happy' 'fear' 'neutral' 'sad'\n",
            " 'happy' 'happy' 'disgust' 'sad' 'happy' 'happy' 'fear' 'sad' 'happy'\n",
            " 'happy' 'angry' 'happy' 'angry' 'sad' 'angry' 'disgust' 'disgust' 'angry'\n",
            " 'disgust' 'angry' 'sad' 'angry' 'sad' 'sad' 'fear' 'sad' 'fear' 'happy'\n",
            " 'fear' 'happy' 'angry' 'disgust' 'angry' 'angry' 'fear' 'sad' 'happy'\n",
            " 'happy' 'fear' 'fear' 'disgust' 'angry' 'neutral' 'fear' 'happy' 'angry'\n",
            " 'fear' 'happy' 'sad' 'fear' 'fear' 'happy' 'fear' 'angry' 'sad' 'sad'\n",
            " 'angry' 'disgust' 'sad' 'fear' 'happy' 'angry' 'angry' 'fear' 'angry'\n",
            " 'disgust' 'neutral' 'disgust' 'disgust' 'sad' 'fear' 'happy' 'angry'\n",
            " 'disgust' 'happy' 'sad' 'sad' 'disgust' 'sad' 'angry' 'sad' 'happy' 'sad'\n",
            " 'happy' 'disgust' 'sad' 'angry' 'disgust' 'angry' 'fear' 'angry'\n",
            " 'disgust' 'angry' 'fear' 'angry' 'angry' 'neutral' 'disgust' 'disgust'\n",
            " 'neutral' 'fear' 'angry' 'sad' 'neutral' 'fear' 'fear' 'neutral'\n",
            " 'neutral' 'sad' 'fear' 'angry' 'disgust' 'fear' 'neutral' 'sad' 'disgust'\n",
            " 'fear' 'neutral' 'angry' 'happy' 'happy' 'neutral' 'disgust' 'neutral'\n",
            " 'angry' 'fear' 'happy' 'fear' 'angry' 'angry' 'sad' 'happy' 'sad'\n",
            " 'neutral' 'neutral' 'angry' 'happy' 'disgust' 'angry' 'sad' 'happy'\n",
            " 'happy' 'disgust' 'fear' 'fear' 'disgust' 'happy' 'fear' 'neutral'\n",
            " 'neutral' 'angry' 'sad' 'disgust' 'neutral' 'happy' 'sad' 'disgust'\n",
            " 'happy' 'sad' 'sad' 'sad' 'neutral' 'disgust' 'sad' 'disgust' 'fear'\n",
            " 'disgust' 'sad' 'sad' 'disgust' 'sad' 'neutral' 'happy' 'fear' 'happy'\n",
            " 'neutral' 'happy' 'sad' 'sad' 'neutral' 'disgust' 'fear' 'angry'\n",
            " 'disgust' 'angry' 'happy' 'sad' 'angry' 'neutral' 'happy' 'neutral' 'sad'\n",
            " 'happy' 'happy' 'happy' 'angry' 'happy' 'happy' 'disgust' 'sad' 'neutral'\n",
            " 'angry' 'fear' 'fear' 'disgust' 'fear' 'fear' 'happy' 'angry' 'fear'\n",
            " 'fear' 'disgust' 'angry' 'fear' 'fear' 'sad' 'angry' 'disgust' 'happy'\n",
            " 'angry' 'neutral' 'angry' 'disgust' 'neutral' 'sad' 'angry' 'angry'\n",
            " 'disgust' 'fear' 'sad' 'angry' 'disgust' 'happy' 'disgust' 'fear' 'fear'\n",
            " 'sad' 'happy' 'neutral' 'sad' 'sad' 'fear' 'angry' 'fear' 'sad' 'sad'\n",
            " 'neutral' 'sad' 'neutral' 'happy' 'neutral' 'fear' 'fear' 'fear' 'happy'\n",
            " 'happy' 'neutral' 'angry' 'happy' 'neutral' 'neutral' 'disgust' 'disgust'\n",
            " 'sad' 'sad' 'fear' 'angry' 'happy' 'happy' 'sad' 'sad' 'sad' 'fear'\n",
            " 'disgust' 'disgust' 'fear' 'sad' 'sad' 'angry' 'happy' 'sad' 'disgust'\n",
            " 'fear' 'sad' 'sad' 'angry' 'happy' 'sad' 'angry' 'fear' 'angry' 'disgust'\n",
            " 'angry' 'happy' 'fear' 'neutral' 'happy' 'sad' 'happy' 'happy' 'sad'\n",
            " 'neutral' 'fear' 'disgust' 'angry' 'happy' 'fear' 'angry' 'fear'\n",
            " 'disgust' 'angry' 'disgust' 'angry' 'sad' 'angry' 'fear' 'disgust'\n",
            " 'neutral' 'sad' 'neutral' 'neutral' 'disgust' 'angry' 'neutral' 'sad'\n",
            " 'angry' 'sad' 'sad' 'happy' 'sad' 'happy' 'angry' 'fear' 'disgust'\n",
            " 'happy' 'happy' 'neutral' 'disgust' 'sad' 'angry' 'neutral' 'neutral'\n",
            " 'happy' 'neutral' 'happy' 'happy' 'sad' 'disgust' 'angry' 'fear' 'fear'\n",
            " 'happy' 'disgust' 'fear' 'disgust' 'fear' 'happy' 'fear' 'fear' 'fear'\n",
            " 'angry' 'sad' 'neutral' 'disgust' 'neutral' 'fear' 'disgust' 'fear'\n",
            " 'angry' 'neutral' 'happy' 'disgust' 'fear' 'disgust' 'angry' 'angry'\n",
            " 'disgust' 'disgust' 'neutral' 'fear' 'fear' 'neutral' 'fear' 'happy'\n",
            " 'happy' 'sad' 'disgust' 'angry' 'sad' 'happy' 'sad' 'happy' 'angry'\n",
            " 'angry' 'disgust' 'fear' 'neutral' 'angry' 'happy' 'disgust' 'sad'\n",
            " 'angry' 'neutral' 'disgust' 'sad' 'neutral' 'happy' 'disgust' 'disgust'\n",
            " 'angry' 'disgust' 'sad' 'angry' 'fear' 'happy' 'disgust' 'neutral'\n",
            " 'happy' 'fear' 'disgust' 'happy' 'neutral' 'neutral' 'sad' 'disgust'\n",
            " 'neutral' 'sad' 'angry' 'disgust' 'disgust' 'angry' 'neutral' 'sad' 'sad'\n",
            " 'neutral' 'angry' 'happy' 'neutral' 'fear' 'neutral' 'sad' 'happy'\n",
            " 'happy' 'angry' 'angry' 'happy' 'happy' 'angry' 'sad' 'fear' 'sad' 'fear'\n",
            " 'sad' 'happy' 'fear' 'happy' 'neutral' 'disgust' 'disgust' 'sad'\n",
            " 'disgust' 'angry' 'happy' 'neutral' 'happy' 'neutral' 'angry' 'neutral'\n",
            " 'neutral' 'happy' 'angry' 'neutral' 'disgust' 'sad' 'happy' 'fear' 'fear'\n",
            " 'disgust' 'disgust' 'disgust' 'disgust' 'angry' 'disgust' 'fear' 'fear'\n",
            " 'neutral' 'fear' 'fear' 'sad' 'fear' 'sad' 'disgust' 'sad' 'fear' 'sad'\n",
            " 'neutral' 'happy' 'happy' 'sad' 'angry' 'happy' 'neutral' 'fear'\n",
            " 'neutral' 'angry' 'angry' 'angry' 'disgust' 'fear' 'fear' 'sad' 'fear'\n",
            " 'fear' 'angry' 'disgust' 'happy' 'sad' 'disgust' 'disgust' 'neutral'\n",
            " 'happy' 'disgust' 'happy' 'disgust' 'happy' 'fear' 'happy' 'disgust'\n",
            " 'sad' 'sad' 'neutral' 'fear' 'fear' 'sad' 'fear' 'disgust' 'happy'\n",
            " 'happy' 'happy' 'neutral' 'happy' 'happy' 'neutral' 'sad' 'disgust'\n",
            " 'fear' 'angry' 'sad' 'neutral' 'angry' 'neutral' 'sad' 'happy' 'sad'\n",
            " 'angry' 'neutral' 'disgust' 'happy' 'sad' 'disgust' 'sad' 'disgust'\n",
            " 'fear' 'angry' 'fear' 'happy' 'disgust' 'disgust' 'disgust' 'happy' 'sad'\n",
            " 'disgust' 'fear' 'angry' 'fear' 'happy' 'angry' 'neutral' 'angry'\n",
            " 'neutral' 'happy' 'happy' 'angry' 'sad' 'disgust' 'fear' 'fear' 'fear'\n",
            " 'fear' 'sad' 'sad' 'fear' 'angry' 'disgust' 'sad' 'sad' 'happy' 'fear'\n",
            " 'happy' 'angry' 'happy' 'fear' 'fear' 'angry' 'disgust' 'angry' 'fear'\n",
            " 'neutral' 'fear' 'neutral' 'happy' 'disgust' 'neutral' 'neutral' 'fear'\n",
            " 'happy' 'neutral' 'neutral' 'angry' 'disgust' 'disgust' 'angry' 'angry'\n",
            " 'sad' 'sad' 'disgust' 'fear' 'angry' 'fear' 'sad' 'disgust' 'happy'\n",
            " 'happy' 'fear' 'neutral' 'happy' 'sad' 'happy' 'angry' 'fear' 'disgust'\n",
            " 'neutral' 'fear' 'angry' 'sad' 'fear' 'neutral' 'angry' 'sad' 'angry'\n",
            " 'neutral' 'disgust' 'sad' 'angry' 'neutral' 'fear' 'neutral' 'angry'\n",
            " 'sad' 'disgust' 'fear' 'happy' 'angry' 'sad' 'happy' 'sad' 'disgust'\n",
            " 'sad' 'happy' 'sad' 'angry' 'angry' 'sad' 'angry' 'disgust' 'happy'\n",
            " 'disgust' 'neutral' 'disgust' 'sad' 'angry' 'disgust' 'angry' 'angry'\n",
            " 'angry' 'neutral' 'angry' 'sad' 'angry' 'happy' 'angry' 'neutral' 'happy'\n",
            " 'neutral' 'happy' 'neutral' 'disgust' 'neutral' 'neutral' 'disgust' 'sad'\n",
            " 'sad' 'fear' 'neutral' 'angry' 'angry' 'angry' 'angry' 'sad' 'disgust'\n",
            " 'fear' 'happy' 'happy' 'disgust' 'sad' 'fear' 'sad' 'disgust' 'happy'\n",
            " 'angry' 'fear' 'happy' 'neutral' 'neutral' 'fear' 'sad' 'angry' 'angry'\n",
            " 'sad' 'sad' 'neutral' 'angry' 'happy' 'happy' 'happy' 'neutral' 'sad'\n",
            " 'angry' 'happy' 'fear' 'fear' 'neutral' 'happy' 'fear' 'disgust' 'fear'\n",
            " 'angry' 'disgust' 'disgust' 'angry' 'happy' 'fear' 'disgust' 'disgust'\n",
            " 'disgust' 'angry' 'happy' 'sad' 'fear' 'fear' 'neutral' 'sad' 'angry'\n",
            " 'disgust' 'neutral' 'fear' 'fear' 'neutral' 'angry' 'disgust' 'disgust'\n",
            " 'fear' 'sad' 'disgust' 'angry' 'neutral' 'happy' 'angry' 'sad' 'happy'\n",
            " 'sad' 'angry' 'sad' 'neutral' 'disgust' 'happy' 'fear' 'angry' 'neutral'\n",
            " 'neutral' 'neutral' 'happy' 'neutral' 'angry' 'happy' 'happy' 'sad' 'sad'\n",
            " 'angry' 'disgust' 'happy' 'angry' 'happy' 'happy' 'neutral' 'disgust'\n",
            " 'fear' 'neutral' 'sad' 'sad' 'fear' 'happy' 'neutral' 'fear' 'happy'\n",
            " 'angry' 'disgust' 'disgust' 'sad' 'fear' 'angry' 'fear' 'fear' 'angry'\n",
            " 'happy' 'fear' 'disgust' 'sad' 'fear' 'angry' 'sad' 'fear' 'sad' 'angry'\n",
            " 'disgust' 'neutral' 'disgust' 'neutral' 'disgust' 'disgust' 'sad'\n",
            " 'disgust' 'neutral' 'angry' 'happy' 'sad' 'sad' 'angry' 'angry' 'angry'\n",
            " 'disgust' 'sad' 'sad' 'angry' 'disgust' 'disgust' 'sad' 'angry' 'happy'\n",
            " 'fear' 'disgust' 'angry' 'neutral' 'happy' 'happy' 'happy' 'fear'\n",
            " 'neutral' 'fear' 'fear' 'happy' 'happy' 'fear' 'sad' 'fear' 'happy' 'sad'\n",
            " 'sad' 'happy' 'neutral' 'sad' 'disgust' 'sad' 'neutral' 'neutral' 'sad'\n",
            " 'neutral' 'angry' 'angry' 'angry' 'fear' 'disgust' 'sad' 'neutral' 'fear'\n",
            " 'sad' 'fear' 'disgust' 'sad' 'happy' 'angry' 'neutral' 'neutral'\n",
            " 'disgust' 'disgust' 'sad' 'sad' 'angry' 'fear' 'happy' 'neutral' 'fear'\n",
            " 'disgust' 'happy' 'happy' 'disgust' 'fear' 'happy' 'sad' 'happy'\n",
            " 'neutral' 'sad' 'sad' 'sad' 'fear' 'sad' 'neutral' 'angry' 'fear'\n",
            " 'neutral' 'fear' 'neutral' 'angry' 'fear' 'disgust' 'neutral' 'neutral'\n",
            " 'sad' 'neutral' 'happy' 'neutral' 'neutral' 'sad' 'sad' 'neutral' 'angry'\n",
            " 'disgust' 'happy' 'disgust' 'neutral' 'sad' 'fear' 'sad' 'angry' 'happy'\n",
            " 'angry' 'sad' 'angry' 'sad' 'angry' 'happy' 'angry' 'angry' 'neutral'\n",
            " 'happy' 'disgust' 'angry' 'angry' 'fear' 'neutral' 'happy' 'happy' 'sad'\n",
            " 'disgust' 'fear' 'angry' 'happy' 'disgust' 'neutral' 'angry' 'sad'\n",
            " 'happy' 'neutral' 'disgust' 'sad' 'disgust' 'angry' 'angry' 'disgust'\n",
            " 'fear' 'happy' 'disgust' 'sad' 'fear' 'disgust' 'happy' 'sad' 'fear'\n",
            " 'sad' 'happy' 'angry' 'fear' 'happy' 'fear' 'angry' 'angry' 'fear'\n",
            " 'happy' 'neutral' 'sad' 'happy' 'disgust' 'fear' 'neutral' 'neutral'\n",
            " 'angry' 'sad' 'angry' 'angry' 'fear' 'fear' 'angry' 'angry' 'happy'\n",
            " 'happy' 'neutral' 'neutral' 'disgust' 'sad' 'sad' 'sad' 'disgust' 'happy'\n",
            " 'fear' 'happy' 'angry' 'fear' 'disgust' 'angry' 'disgust' 'disgust'\n",
            " 'fear' 'angry' 'angry' 'sad' 'fear' 'happy' 'disgust' 'disgust' 'neutral'\n",
            " 'disgust' 'happy' 'sad' 'happy' 'disgust' 'disgust' 'fear' 'sad' 'happy'\n",
            " 'neutral' 'disgust' 'neutral' 'sad' 'angry' 'neutral' 'disgust' 'fear'\n",
            " 'fear' 'angry' 'neutral' 'fear' 'disgust' 'fear' 'angry' 'happy' 'happy'\n",
            " 'neutral' 'angry' 'angry' 'fear' 'fear' 'fear' 'disgust' 'happy'\n",
            " 'disgust' 'disgust' 'sad' 'happy' 'disgust' 'sad' 'happy' 'disgust' 'sad'\n",
            " 'disgust' 'happy' 'sad' 'angry' 'disgust' 'sad' 'neutral' 'happy' 'fear'\n",
            " 'neutral' 'happy' 'neutral' 'fear' 'happy' 'sad' 'angry' 'sad' 'sad'\n",
            " 'fear' 'neutral' 'happy' 'happy' 'happy' 'fear' 'happy' 'disgust'\n",
            " 'neutral' 'disgust' 'angry' 'disgust' 'happy' 'disgust' 'happy' 'happy'\n",
            " 'angry' 'sad' 'disgust' 'angry' 'sad' 'sad' 'fear' 'disgust' 'sad' 'fear'\n",
            " 'angry' 'angry' 'fear' 'disgust' 'sad' 'neutral' 'fear' 'fear' 'neutral'\n",
            " 'disgust' 'fear' 'disgust' 'disgust' 'angry' 'neutral' 'sad' 'angry'\n",
            " 'fear' 'happy' 'fear' 'angry' 'disgust' 'fear' 'happy' 'neutral' 'fear'\n",
            " 'sad' 'fear' 'happy' 'neutral' 'sad' 'disgust' 'neutral' 'happy' 'angry'\n",
            " 'angry' 'happy' 'neutral' 'fear' 'fear' 'happy' 'disgust' 'angry' 'angry'\n",
            " 'happy' 'disgust' 'happy' 'angry' 'fear' 'sad' 'disgust' 'angry' 'sad'\n",
            " 'disgust' 'angry' 'disgust' 'sad' 'neutral' 'angry' 'disgust' 'fear'\n",
            " 'fear' 'sad' 'fear' 'happy' 'happy' 'happy' 'fear' 'angry' 'neutral'\n",
            " 'sad' 'angry' 'fear' 'sad' 'neutral' 'disgust' 'sad' 'angry' 'disgust'\n",
            " 'angry' 'fear' 'disgust' 'disgust' 'fear' 'sad' 'fear' 'sad' 'fear'\n",
            " 'angry' 'happy' 'sad' 'neutral' 'neutral' 'angry' 'neutral' 'disgust'\n",
            " 'disgust' 'fear' 'neutral' 'happy' 'happy' 'neutral' 'sad' 'happy'\n",
            " 'angry' 'neutral' 'fear' 'disgust' 'angry' 'fear' 'happy' 'happy' 'sad'\n",
            " 'disgust' 'sad' 'disgust' 'disgust' 'happy' 'angry' 'disgust' 'happy'\n",
            " 'sad' 'fear' 'neutral' 'happy' 'disgust' 'happy' 'fear' 'disgust' 'angry'\n",
            " 'sad' 'angry' 'neutral' 'fear' 'sad' 'fear' 'angry' 'fear' 'angry'\n",
            " 'disgust' 'sad' 'fear' 'happy' 'angry' 'sad' 'angry' 'neutral' 'neutral'\n",
            " 'disgust' 'fear' 'angry' 'sad' 'fear' 'happy' 'sad' 'sad' 'fear' 'angry'\n",
            " 'fear' 'sad' 'angry' 'neutral' 'disgust' 'sad' 'neutral' 'angry' 'sad'\n",
            " 'fear' 'disgust' 'angry' 'disgust' 'fear' 'neutral' 'neutral' 'angry'\n",
            " 'sad' 'disgust' 'neutral' 'happy' 'neutral' 'angry' 'disgust' 'happy'\n",
            " 'neutral' 'sad' 'happy' 'sad' 'happy' 'neutral' 'disgust' 'angry' 'fear'\n",
            " 'disgust' 'disgust' 'angry' 'happy' 'disgust' 'fear' 'fear' 'fear' 'sad'\n",
            " 'happy' 'sad' 'fear' 'angry' 'disgust' 'happy' 'angry' 'angry' 'sad'\n",
            " 'angry' 'sad' 'neutral' 'fear' 'happy' 'happy' 'angry' 'happy' 'sad'\n",
            " 'fear' 'happy' 'disgust' 'sad' 'angry' 'happy' 'fear' 'happy' 'angry'\n",
            " 'fear' 'sad' 'angry' 'happy' 'disgust' 'angry' 'neutral' 'sad' 'disgust'\n",
            " 'disgust' 'disgust' 'fear' 'neutral' 'disgust' 'disgust' 'fear' 'fear'\n",
            " 'neutral' 'angry' 'angry' 'happy' 'angry' 'happy' 'neutral' 'disgust'\n",
            " 'neutral' 'neutral' 'angry' 'fear' 'angry' 'happy' 'neutral' 'fear'\n",
            " 'angry' 'sad' 'disgust' 'disgust' 'sad' 'neutral' 'sad' 'fear' 'angry'\n",
            " 'happy' 'sad' 'happy' 'fear' 'disgust' 'neutral' 'angry' 'neutral'\n",
            " 'disgust' 'sad' 'angry' 'disgust' 'angry' 'angry' 'happy' 'angry' 'angry'\n",
            " 'neutral' 'neutral' 'happy' 'neutral' 'angry' 'happy' 'sad' 'happy'\n",
            " 'fear' 'happy' 'sad' 'fear' 'happy' 'disgust' 'neutral' 'disgust' 'happy'\n",
            " 'neutral' 'disgust' 'neutral' 'angry' 'disgust' 'disgust' 'neutral'\n",
            " 'happy' 'disgust' 'fear' 'sad' 'fear' 'neutral' 'disgust' 'fear'\n",
            " 'disgust' 'disgust' 'angry' 'sad' 'fear' 'sad' 'angry' 'fear' 'sad'\n",
            " 'fear' 'disgust' 'happy' 'disgust' 'neutral' 'fear' 'disgust' 'disgust'\n",
            " 'fear' 'neutral' 'angry' 'fear' 'neutral' 'angry' 'angry' 'happy' 'fear'\n",
            " 'disgust' 'sad' 'neutral' 'fear' 'disgust' 'angry' 'fear' 'happy' 'sad'\n",
            " 'disgust' 'fear' 'sad' 'sad' 'happy' 'sad' 'fear' 'sad' 'disgust' 'happy'\n",
            " 'sad' 'happy' 'sad' 'happy' 'happy' 'disgust' 'neutral' 'sad' 'fear'\n",
            " 'angry' 'angry' 'neutral' 'disgust' 'fear' 'neutral' 'fear' 'sad' 'sad'\n",
            " 'neutral' 'neutral' 'angry' 'disgust' 'sad' 'angry' 'angry' 'disgust'\n",
            " 'sad' 'angry' 'sad' 'disgust' 'disgust' 'happy' 'happy' 'happy' 'neutral'\n",
            " 'angry' 'sad' 'fear' 'sad' 'disgust' 'neutral' 'fear' 'happy' 'sad'\n",
            " 'happy' 'sad' 'angry' 'sad' 'angry' 'fear' 'happy' 'fear' 'fear' 'happy'\n",
            " 'fear' 'disgust' 'neutral' 'fear' 'fear' 'fear' 'fear' 'sad' 'disgust'\n",
            " 'sad' 'sad' 'happy' 'neutral' 'disgust' 'sad' 'disgust' 'happy' 'fear'\n",
            " 'angry' 'neutral' 'angry' 'fear' 'angry' 'fear' 'sad' 'fear' 'happy'\n",
            " 'fear' 'disgust' 'sad' 'angry' 'happy' 'angry' 'sad' 'sad' 'neutral'\n",
            " 'happy' 'sad' 'neutral' 'happy' 'fear' 'neutral' 'sad' 'angry' 'happy'\n",
            " 'sad' 'disgust' 'angry' 'sad' 'neutral' 'fear' 'neutral' 'angry' 'happy'\n",
            " 'disgust' 'angry' 'angry' 'disgust' 'happy' 'disgust' 'fear' 'fear'\n",
            " 'happy' 'disgust' 'neutral' 'angry' 'happy' 'disgust' 'sad' 'angry'\n",
            " 'neutral' 'neutral' 'angry' 'angry' 'happy' 'happy' 'sad' 'neutral'\n",
            " 'fear' 'sad' 'fear' 'angry' 'angry' 'sad' 'happy' 'disgust' 'disgust'\n",
            " 'sad' 'happy' 'fear' 'angry' 'fear' 'neutral' 'happy' 'happy' 'neutral'\n",
            " 'angry' 'disgust' 'happy' 'sad' 'angry' 'disgust' 'disgust' 'fear' 'sad'\n",
            " 'fear' 'disgust' 'happy' 'sad' 'neutral' 'neutral' 'fear' 'disgust' 'sad'\n",
            " 'happy' 'neutral' 'sad' 'angry' 'disgust' 'disgust' 'angry' 'happy'\n",
            " 'fear' 'happy' 'fear' 'sad' 'fear' 'disgust' 'disgust' 'fear' 'fear'\n",
            " 'angry' 'neutral' 'happy' 'sad' 'sad' 'angry' 'happy' 'angry' 'neutral'\n",
            " 'sad' 'angry' 'happy' 'angry' 'neutral' 'neutral' 'disgust' 'neutral'\n",
            " 'sad' 'disgust' 'neutral' 'neutral' 'neutral' 'sad' 'fear' 'disgust'\n",
            " 'angry' 'angry' 'happy' 'fear' 'angry' 'angry' 'disgust' 'disgust'\n",
            " 'angry' 'sad' 'fear' 'neutral' 'sad' 'sad' 'neutral' 'fear' 'angry' 'sad'\n",
            " 'happy' 'fear' 'sad' 'sad' 'disgust' 'angry' 'sad' 'disgust' 'fear'\n",
            " 'fear' 'fear' 'disgust' 'fear' 'disgust' 'angry' 'angry' 'angry' 'angry'\n",
            " 'neutral' 'fear' 'disgust' 'fear' 'sad' 'fear' 'angry' 'disgust'\n",
            " 'disgust' 'happy' 'happy' 'neutral' 'happy' 'happy' 'disgust' 'disgust'\n",
            " 'happy' 'disgust' 'disgust' 'disgust' 'happy' 'fear' 'fear' 'neutral'\n",
            " 'angry' 'happy' 'neutral' 'fear' 'angry' 'neutral' 'fear' 'happy' 'sad'\n",
            " 'happy' 'disgust' 'disgust' 'neutral' 'angry' 'happy' 'happy' 'sad'\n",
            " 'neutral' 'happy' 'sad' 'happy' 'neutral' 'angry' 'neutral' 'happy' 'sad'\n",
            " 'happy' 'sad' 'neutral' 'happy' 'fear' 'angry' 'sad' 'angry' 'fear'\n",
            " 'happy' 'disgust' 'happy' 'angry' 'happy' 'disgust' 'happy' 'fear'\n",
            " 'angry' 'angry' 'sad' 'happy' 'happy' 'fear' 'fear' 'disgust' 'neutral'\n",
            " 'disgust' 'happy' 'happy' 'neutral' 'neutral' 'fear' 'disgust' 'happy'\n",
            " 'disgust' 'angry' 'disgust' 'neutral' 'fear' 'sad' 'angry' 'neutral'\n",
            " 'angry' 'happy' 'disgust' 'sad' 'neutral' 'sad' 'fear' 'disgust'\n",
            " 'neutral' 'happy' 'neutral' 'neutral' 'angry' 'fear' 'happy' 'angry'\n",
            " 'disgust' 'sad' 'fear' 'happy' 'disgust' 'happy' 'happy' 'angry' 'fear'\n",
            " 'disgust' 'happy' 'sad' 'sad' 'sad' 'happy' 'sad' 'angry' 'neutral'\n",
            " 'disgust' 'angry' 'neutral' 'happy' 'sad' 'disgust' 'happy' 'fear' 'sad'\n",
            " 'happy' 'fear' 'neutral' 'sad' 'disgust' 'sad' 'sad' 'angry' 'sad'\n",
            " 'disgust' 'disgust' 'sad' 'angry' 'angry' 'sad' 'disgust' 'sad' 'fear'\n",
            " 'sad' 'neutral' 'angry' 'angry' 'angry' 'neutral' 'sad' 'fear' 'fear'\n",
            " 'neutral' 'fear' 'fear' 'disgust' 'angry' 'disgust' 'angry' 'fear' 'fear'\n",
            " 'fear' 'fear' 'angry' 'fear' 'happy' 'fear' 'neutral' 'angry' 'neutral'\n",
            " 'sad' 'happy' 'fear' 'neutral' 'sad' 'happy' 'disgust' 'angry' 'fear'\n",
            " 'disgust' 'angry' 'fear' 'happy' 'angry' 'sad' 'angry' 'fear' 'happy'\n",
            " 'disgust' 'sad' 'angry' 'sad' 'disgust' 'sad' 'angry' 'sad' 'sad'\n",
            " 'disgust' 'happy' 'neutral' 'disgust' 'neutral' 'sad' 'angry' 'sad'\n",
            " 'disgust' 'fear' 'sad' 'happy' 'sad' 'sad' 'sad' 'neutral' 'fear' 'happy'\n",
            " 'happy' 'disgust' 'happy' 'happy' 'fear' 'happy' 'sad' 'sad' 'disgust'\n",
            " 'fear' 'angry' 'sad' 'disgust' 'neutral' 'fear' 'neutral' 'angry' 'fear'\n",
            " 'fear' 'disgust' 'neutral' 'fear' 'disgust' 'fear' 'fear' 'disgust'\n",
            " 'fear' 'happy' 'fear' 'happy' 'disgust' 'fear' 'angry' 'disgust' 'sad'\n",
            " 'neutral' 'angry' 'happy' 'happy' 'happy' 'angry' 'angry' 'neutral' 'sad'\n",
            " 'disgust' 'happy' 'fear' 'angry' 'happy' 'happy' 'happy' 'fear' 'neutral'\n",
            " 'disgust' 'neutral' 'neutral' 'angry' 'neutral' 'angry' 'angry' 'angry'\n",
            " 'fear' 'neutral' 'happy' 'sad' 'happy' 'disgust' 'fear' 'angry' 'happy'\n",
            " 'sad' 'angry' 'neutral' 'disgust' 'sad' 'fear' 'angry' 'disgust' 'angry'\n",
            " 'fear' 'neutral' 'sad' 'disgust' 'disgust' 'disgust' 'disgust' 'happy'\n",
            " 'sad' 'neutral' 'angry' 'happy' 'angry' 'sad' 'disgust' 'sad' 'sad'\n",
            " 'happy' 'happy' 'fear' 'neutral' 'fear' 'sad' 'happy' 'happy' 'angry'\n",
            " 'disgust' 'disgust' 'sad' 'disgust' 'fear' 'fear' 'fear' 'disgust'\n",
            " 'disgust' 'sad' 'angry' 'sad' 'fear' 'happy' 'happy' 'angry' 'neutral'\n",
            " 'disgust' 'happy' 'neutral' 'fear' 'fear' 'neutral' 'fear' 'disgust'\n",
            " 'disgust' 'sad' 'disgust' 'disgust' 'angry' 'angry' 'happy' 'neutral'\n",
            " 'angry' 'sad' 'happy' 'angry' 'angry' 'disgust' 'sad' 'happy' 'sad' 'sad'\n",
            " 'disgust' 'disgust' 'sad' 'angry' 'neutral' 'happy' 'neutral' 'happy'\n",
            " 'neutral' 'sad' 'fear' 'fear' 'happy' 'neutral' 'happy' 'neutral' 'fear'\n",
            " 'angry' 'angry' 'sad' 'neutral' 'disgust' 'angry' 'angry' 'neutral'\n",
            " 'angry' 'fear' 'fear' 'neutral' 'sad' 'angry' 'happy' 'sad' 'fear'\n",
            " 'neutral' 'neutral' 'angry' 'angry' 'neutral' 'angry' 'happy' 'fear'\n",
            " 'neutral' 'sad' 'sad' 'sad' 'disgust' 'disgust' 'fear' 'disgust'\n",
            " 'neutral' 'happy' 'neutral' 'happy' 'disgust' 'sad' 'fear' 'disgust'\n",
            " 'disgust' 'angry' 'neutral' 'fear' 'fear' 'happy' 'sad' 'happy' 'happy'\n",
            " 'disgust' 'sad' 'angry' 'angry' 'angry' 'angry' 'fear' 'disgust'\n",
            " 'disgust' 'fear' 'disgust' 'happy' 'fear' 'happy' 'fear' 'angry' 'happy'\n",
            " 'disgust' 'sad' 'disgust' 'angry' 'neutral' 'fear' 'angry' 'happy'\n",
            " 'happy' 'sad' 'fear' 'angry' 'neutral' 'neutral' 'disgust' 'fear'\n",
            " 'disgust' 'disgust' 'happy' 'neutral' 'angry' 'neutral' 'disgust' 'sad'\n",
            " 'angry' 'disgust' 'neutral' 'disgust' 'angry' 'fear' 'fear' 'happy'\n",
            " 'fear' 'happy' 'fear' 'angry' 'happy' 'fear' 'happy' 'sad' 'neutral'\n",
            " 'angry' 'fear' 'fear' 'angry' 'angry' 'disgust' 'sad' 'happy' 'disgust'\n",
            " 'neutral' 'sad' 'disgust' 'sad' 'angry' 'angry' 'happy' 'fear' 'fear'\n",
            " 'happy' 'happy' 'angry' 'angry' 'fear' 'disgust' 'sad' 'fear' 'angry'\n",
            " 'fear' 'angry' 'sad' 'happy' 'disgust' 'happy' 'neutral' 'fear' 'fear'\n",
            " 'fear' 'sad' 'angry' 'fear' 'disgust' 'neutral' 'happy' 'disgust'\n",
            " 'disgust' 'disgust' 'happy' 'neutral' 'sad' 'neutral' 'fear' 'disgust'\n",
            " 'angry' 'neutral' 'sad' 'sad' 'neutral' 'disgust' 'neutral' 'angry'\n",
            " 'fear' 'disgust' 'angry' 'fear' 'happy' 'neutral' 'neutral' 'fear'\n",
            " 'disgust' 'sad' 'angry' 'angry' 'disgust' 'sad' 'happy' 'neutral' 'happy'\n",
            " 'disgust' 'fear' 'sad' 'happy' 'sad' 'happy' 'happy' 'fear' 'fear' 'sad'\n",
            " 'fear' 'happy' 'happy' 'angry' 'neutral' 'happy' 'neutral' 'sad'\n",
            " 'disgust' 'neutral' 'fear' 'fear' 'fear' 'sad' 'sad' 'sad' 'neutral'\n",
            " 'neutral' 'angry' 'angry' 'disgust' 'fear' 'neutral' 'happy' 'sad'\n",
            " 'neutral' 'angry' 'sad' 'disgust' 'disgust' 'neutral' 'happy' 'happy'\n",
            " 'happy' 'disgust' 'angry' 'sad' 'neutral' 'fear' 'disgust' 'angry'\n",
            " 'disgust' 'disgust' 'fear' 'fear' 'fear' 'fear' 'angry' 'angry' 'happy'\n",
            " 'neutral' 'sad' 'neutral' 'sad' 'fear' 'fear' 'neutral' 'happy' 'fear'\n",
            " 'fear' 'angry' 'sad' 'disgust' 'happy' 'happy' 'sad' 'neutral' 'neutral'\n",
            " 'disgust' 'disgust' 'neutral' 'angry' 'neutral' 'disgust' 'sad' 'happy'\n",
            " 'angry' 'angry' 'fear' 'neutral' 'fear' 'happy' 'angry' 'disgust' 'happy'\n",
            " 'angry' 'happy' 'fear' 'angry' 'fear' 'fear' 'happy' 'happy' 'angry'\n",
            " 'disgust' 'sad' 'happy' 'angry' 'neutral' 'sad' 'fear' 'disgust' 'sad'\n",
            " 'angry' 'angry' 'angry' 'angry' 'sad' 'happy' 'disgust' 'disgust' 'happy'\n",
            " 'sad' 'angry' 'fear' 'neutral' 'happy' 'disgust' 'sad' 'angry' 'sad'\n",
            " 'sad' 'fear' 'sad' 'angry' 'sad' 'disgust' 'neutral' 'neutral' 'disgust'\n",
            " 'disgust' 'sad' 'fear' 'disgust' 'angry' 'angry' 'neutral' 'disgust'\n",
            " 'fear' 'happy' 'angry' 'fear' 'happy' 'neutral' 'disgust' 'sad' 'sad'\n",
            " 'angry' 'fear' 'sad' 'disgust' 'fear' 'happy' 'fear' 'happy' 'angry'\n",
            " 'sad' 'disgust' 'angry' 'happy' 'disgust' 'happy' 'disgust' 'disgust'\n",
            " 'happy' 'disgust' 'sad' 'angry' 'neutral' 'angry' 'angry' 'fear' 'happy'\n",
            " 'disgust' 'angry' 'sad' 'neutral' 'happy' 'disgust' 'angry' 'fear' 'sad'\n",
            " 'fear' 'sad' 'happy' 'angry' 'disgust' 'sad' 'angry' 'sad' 'sad'\n",
            " 'neutral' 'angry' 'happy' 'fear' 'happy' 'happy' 'happy' 'fear' 'neutral'\n",
            " 'sad' 'happy' 'fear' 'disgust' 'disgust' 'happy' 'neutral' 'fear'\n",
            " 'disgust' 'happy' 'neutral' 'disgust' 'angry' 'angry' 'happy' 'fear'\n",
            " 'fear' 'disgust' 'happy' 'sad' 'neutral' 'fear' 'neutral' 'neutral'\n",
            " 'disgust' 'fear' 'fear' 'sad' 'disgust' 'angry' 'happy' 'happy' 'neutral'\n",
            " 'sad' 'happy' 'sad' 'disgust' 'happy' 'happy' 'angry' 'neutral' 'neutral'\n",
            " 'sad' 'neutral' 'disgust' 'neutral' 'happy' 'neutral' 'happy' 'disgust'\n",
            " 'angry' 'fear' 'disgust' 'happy' 'angry' 'sad' 'happy' 'fear' 'happy'\n",
            " 'sad' 'fear' 'sad' 'happy' 'happy' 'neutral' 'sad' 'angry' 'disgust'\n",
            " 'sad' 'fear' 'neutral' 'sad' 'fear' 'angry' 'fear' 'disgust' 'sad'\n",
            " 'happy' 'fear' 'fear' 'neutral' 'happy' 'disgust' 'fear' 'fear' 'happy'\n",
            " 'fear' 'neutral' 'neutral' 'fear' 'fear' 'neutral' 'happy' 'disgust'\n",
            " 'sad' 'happy' 'sad' 'fear' 'happy' 'sad' 'angry' 'sad' 'neutral' 'angry'\n",
            " 'disgust' 'happy' 'fear' 'happy' 'happy' 'disgust' 'neutral' 'neutral'\n",
            " 'fear' 'sad' 'sad' 'happy' 'sad' 'sad' 'happy' 'sad' 'disgust' 'happy'\n",
            " 'happy' 'angry' 'fear' 'fear' 'angry' 'disgust' 'disgust' 'fear' 'happy'\n",
            " 'angry' 'sad' 'sad' 'neutral' 'disgust' 'sad' 'angry' 'angry' 'happy'\n",
            " 'disgust' 'angry' 'sad' 'disgust' 'angry' 'angry' 'neutral' 'sad' 'sad'\n",
            " 'angry' 'disgust' 'neutral' 'happy' 'angry' 'sad' 'fear' 'angry' 'fear'\n",
            " 'disgust' 'happy' 'disgust' 'angry' 'neutral' 'angry' 'happy' 'sad'\n",
            " 'angry' 'happy' 'sad' 'happy' 'sad' 'fear' 'disgust' 'sad' 'fear' 'angry'\n",
            " 'sad' 'disgust' 'happy' 'fear' 'sad' 'disgust' 'disgust' 'fear' 'fear'\n",
            " 'fear' 'neutral' 'happy' 'angry' 'disgust' 'angry' 'disgust' 'angry'\n",
            " 'neutral' 'angry' 'angry' 'angry' 'angry' 'disgust' 'disgust' 'fear'\n",
            " 'fear' 'disgust' 'neutral' 'neutral' 'fear' 'sad' 'angry' 'disgust'\n",
            " 'disgust' 'disgust' 'angry' 'angry' 'disgust' 'neutral' 'angry' 'neutral'\n",
            " 'neutral' 'angry' 'fear' 'angry' 'neutral' 'fear' 'neutral' 'happy'\n",
            " 'neutral' 'happy' 'happy' 'sad' 'disgust' 'fear' 'fear' 'neutral'\n",
            " 'disgust' 'sad' 'sad' 'neutral' 'neutral' 'sad' 'neutral' 'neutral' 'sad'\n",
            " 'fear' 'happy' 'happy' 'angry' 'sad' 'fear' 'sad' 'angry' 'fear'\n",
            " 'disgust' 'disgust' 'disgust' 'disgust' 'happy' 'angry' 'angry' 'sad'\n",
            " 'disgust' 'sad' 'happy' 'disgust' 'fear' 'fear' 'disgust' 'happy'\n",
            " 'neutral' 'happy' 'happy' 'angry' 'sad' 'angry' 'sad' 'sad' 'angry'\n",
            " 'angry' 'fear' 'neutral' 'neutral' 'disgust' 'angry' 'fear' 'disgust'\n",
            " 'fear' 'sad' 'fear' 'neutral' 'disgust' 'sad' 'angry' 'disgust' 'fear'\n",
            " 'fear' 'happy' 'disgust' 'happy' 'sad' 'happy' 'happy' 'sad' 'sad'\n",
            " 'happy' 'disgust' 'angry' 'disgust' 'neutral' 'happy' 'neutral' 'fear'\n",
            " 'neutral' 'sad' 'sad' 'fear' 'angry' 'disgust' 'fear' 'neutral' 'neutral'\n",
            " 'happy' 'angry' 'fear' 'angry' 'fear' 'happy' 'happy' 'neutral' 'disgust'\n",
            " 'sad' 'disgust' 'angry' 'neutral' 'sad' 'angry' 'neutral' 'disgust'\n",
            " 'fear' 'angry' 'happy' 'disgust' 'disgust' 'happy' 'fear' 'neutral'\n",
            " 'neutral' 'happy' 'neutral' 'neutral' 'neutral' 'disgust' 'disgust'\n",
            " 'disgust' 'angry' 'angry' 'sad' 'neutral' 'fear' 'neutral' 'disgust'\n",
            " 'happy' 'neutral' 'fear' 'sad' 'sad' 'sad' 'fear' 'fear' 'disgust'\n",
            " 'happy' 'neutral' 'happy' 'angry' 'disgust' 'disgust' 'fear' 'disgust'\n",
            " 'happy' 'neutral' 'neutral' 'sad' 'happy' 'neutral' 'neutral' 'neutral'\n",
            " 'disgust' 'happy' 'fear' 'neutral' 'sad' 'angry' 'happy' 'angry' 'sad'\n",
            " 'sad' 'angry' 'disgust' 'neutral' 'fear' 'neutral' 'fear' 'fear'\n",
            " 'neutral' 'disgust' 'angry' 'happy' 'sad' 'fear' 'fear' 'happy' 'happy'\n",
            " 'neutral' 'angry' 'fear' 'happy' 'sad' 'sad' 'fear' 'angry' 'sad' 'fear'\n",
            " 'disgust' 'neutral' 'neutral' 'disgust' 'happy' 'angry' 'neutral' 'sad'\n",
            " 'happy' 'happy' 'sad' 'fear' 'sad' 'neutral' 'angry' 'disgust' 'sad'\n",
            " 'sad' 'fear' 'neutral' 'angry' 'sad' 'fear' 'disgust' 'disgust' 'happy'\n",
            " 'angry' 'angry' 'disgust' 'fear' 'sad' 'disgust' 'sad' 'happy' 'disgust'\n",
            " 'angry' 'disgust' 'disgust' 'neutral' 'angry' 'neutral' 'disgust' 'angry'\n",
            " 'fear' 'angry' 'fear' 'angry' 'disgust' 'sad' 'sad' 'fear' 'disgust'\n",
            " 'happy' 'happy' 'happy' 'angry' 'sad' 'neutral' 'fear' 'fear' 'happy'\n",
            " 'disgust' 'sad' 'angry' 'happy' 'sad' 'neutral' 'angry' 'disgust' 'happy'\n",
            " 'angry' 'fear' 'fear' 'sad' 'sad' 'happy' 'angry' 'sad' 'fear' 'happy'\n",
            " 'fear' 'happy' 'sad' 'neutral' 'fear' 'disgust' 'sad' 'angry' 'happy'\n",
            " 'sad' 'angry' 'sad' 'disgust' 'angry' 'fear' 'fear' 'neutral' 'angry'\n",
            " 'fear' 'fear' 'sad' 'fear' 'happy' 'happy' 'happy' 'fear' 'sad' 'happy'\n",
            " 'happy' 'happy' 'angry' 'angry' 'sad' 'angry' 'sad' 'angry' 'disgust'\n",
            " 'angry' 'fear' 'angry' 'fear' 'sad' 'disgust' 'happy' 'neutral' 'disgust'\n",
            " 'disgust' 'disgust' 'neutral' 'happy' 'angry' 'sad' 'fear' 'angry'\n",
            " 'angry' 'disgust' 'disgust' 'disgust' 'fear' 'angry' 'neutral' 'sad'\n",
            " 'neutral' 'happy' 'sad' 'disgust' 'sad' 'happy' 'disgust' 'sad' 'fear'\n",
            " 'sad' 'disgust' 'angry' 'neutral' 'fear' 'angry' 'happy' 'neutral'\n",
            " 'angry' 'happy' 'happy' 'angry' 'happy' 'angry' 'happy' 'fear' 'disgust'\n",
            " 'neutral' 'neutral' 'fear' 'happy' 'disgust' 'angry' 'angry' 'neutral'\n",
            " 'fear' 'fear' 'fear' 'neutral' 'angry' 'sad' 'sad' 'neutral' 'angry'\n",
            " 'neutral' 'angry' 'happy' 'happy' 'sad' 'sad' 'disgust' 'sad' 'neutral'\n",
            " 'neutral' 'sad' 'fear' 'neutral' 'neutral' 'sad' 'disgust' 'fear' 'fear'\n",
            " 'angry' 'disgust' 'neutral' 'fear' 'fear' 'disgust' 'happy' 'neutral'\n",
            " 'neutral' 'happy' 'disgust' 'sad' 'neutral' 'angry' 'fear' 'disgust'\n",
            " 'disgust' 'angry' 'happy' 'sad' 'angry' 'fear' 'angry' 'angry' 'fear'\n",
            " 'happy' 'angry' 'neutral' 'fear' 'happy' 'disgust' 'happy' 'angry'\n",
            " 'angry' 'happy' 'sad' 'happy' 'disgust' 'happy' 'sad' 'happy' 'disgust'\n",
            " 'happy' 'sad' 'disgust' 'neutral' 'fear' 'neutral' 'fear' 'disgust'\n",
            " 'fear' 'angry' 'sad' 'disgust' 'sad' 'disgust' 'disgust' 'sad' 'neutral'\n",
            " 'fear' 'fear' 'sad' 'neutral' 'happy' 'angry' 'sad' 'neutral' 'happy'\n",
            " 'disgust' 'fear' 'disgust' 'sad' 'disgust' 'happy' 'happy' 'disgust'\n",
            " 'fear' 'happy' 'sad' 'neutral' 'happy' 'fear' 'happy' 'sad' 'sad'\n",
            " 'disgust' 'fear' 'fear' 'happy' 'sad' 'neutral' 'disgust' 'neutral'\n",
            " 'angry' 'sad' 'fear' 'sad' 'happy' 'neutral' 'sad' 'disgust' 'disgust'\n",
            " 'disgust' 'neutral' 'sad' 'sad' 'happy' 'disgust' 'sad' 'sad' 'happy'\n",
            " 'angry' 'fear' 'sad' 'neutral' 'sad' 'angry' 'angry' 'angry' 'sad'\n",
            " 'neutral' 'fear' 'fear' 'angry' 'neutral' 'happy' 'disgust' 'angry'\n",
            " 'fear' 'disgust' 'neutral' 'disgust' 'sad' 'sad' 'angry' 'happy' 'angry'\n",
            " 'fear' 'sad' 'sad' 'angry' 'angry' 'disgust' 'fear' 'angry' 'disgust'\n",
            " 'angry' 'sad' 'sad' 'happy' 'disgust' 'neutral' 'happy' 'fear' 'angry'\n",
            " 'happy' 'neutral' 'happy' 'angry' 'happy' 'fear' 'fear' 'neutral' 'angry'\n",
            " 'happy' 'neutral' 'happy' 'happy' 'fear' 'fear' 'fear' 'disgust'\n",
            " 'neutral' 'fear' 'fear' 'angry' 'fear' 'neutral' 'fear' 'disgust'\n",
            " 'disgust' 'neutral' 'angry' 'neutral' 'disgust' 'disgust' 'sad' 'disgust'\n",
            " 'angry' 'disgust' 'sad' 'disgust' 'sad' 'sad' 'happy' 'fear' 'fear'\n",
            " 'angry' 'neutral' 'disgust' 'neutral' 'happy' 'fear' 'angry' 'fear'\n",
            " 'fear' 'happy' 'angry' 'angry' 'fear' 'sad' 'neutral' 'fear' 'neutral'\n",
            " 'disgust' 'disgust' 'sad' 'disgust' 'neutral' 'happy' 'happy' 'neutral'\n",
            " 'fear' 'fear' 'neutral' 'disgust' 'happy' 'sad' 'fear' 'angry' 'angry'\n",
            " 'sad' 'sad' 'happy' 'angry' 'angry' 'disgust' 'fear' 'angry' 'sad' 'sad'\n",
            " 'neutral' 'happy' 'disgust' 'angry' 'disgust' 'happy' 'happy' 'fear'\n",
            " 'neutral' 'happy' 'sad' 'angry' 'happy' 'sad' 'happy' 'sad' 'sad'\n",
            " 'disgust' 'neutral' 'happy' 'angry' 'angry' 'angry' 'disgust' 'fear'\n",
            " 'happy' 'happy' 'sad' 'neutral' 'sad' 'neutral' 'sad' 'disgust' 'sad'\n",
            " 'neutral' 'neutral' 'fear' 'fear' 'happy' 'disgust' 'angry' 'angry'\n",
            " 'disgust' 'disgust' 'disgust' 'happy' 'happy' 'fear' 'disgust' 'happy'\n",
            " 'sad' 'angry' 'fear' 'fear' 'disgust' 'neutral' 'angry' 'fear' 'angry'\n",
            " 'sad' 'sad' 'sad' 'disgust' 'fear' 'happy' 'angry' 'neutral' 'sad' 'fear'\n",
            " 'angry' 'fear' 'happy' 'neutral' 'fear' 'happy' 'sad' 'disgust' 'neutral'\n",
            " 'disgust' 'disgust' 'neutral' 'sad' 'happy' 'happy' 'angry' 'fear'\n",
            " 'angry' 'disgust' 'happy' 'disgust' 'fear' 'fear' 'sad' 'fear' 'neutral'\n",
            " 'fear' 'happy' 'fear' 'happy' 'angry' 'angry' 'neutral' 'sad' 'sad' 'sad'\n",
            " 'happy' 'disgust' 'sad' 'happy' 'neutral' 'happy' 'disgust' 'happy'\n",
            " 'happy' 'happy' 'neutral' 'neutral' 'fear' 'sad' 'happy' 'sad' 'fear'\n",
            " 'neutral' 'sad' 'sad' 'happy' 'fear' 'angry' 'sad' 'sad' 'fear' 'neutral'\n",
            " 'neutral' 'happy' 'neutral' 'happy' 'sad' 'disgust' 'happy' 'disgust'\n",
            " 'angry' 'angry' 'disgust' 'happy' 'happy' 'angry' 'happy' 'sad' 'angry'\n",
            " 'angry' 'sad' 'fear' 'fear' 'neutral' 'angry' 'angry' 'disgust' 'disgust'\n",
            " 'neutral' 'disgust' 'disgust' 'disgust' 'fear' 'disgust' 'happy' 'happy'\n",
            " 'fear' 'happy' 'happy' 'neutral' 'neutral' 'happy' 'disgust' 'disgust'\n",
            " 'happy' 'disgust' 'disgust' 'fear' 'angry' 'angry' 'disgust' 'angry'\n",
            " 'neutral' 'disgust' 'sad' 'angry' 'neutral' 'disgust' 'sad' 'angry'\n",
            " 'fear' 'fear' 'disgust' 'angry' 'happy' 'neutral' 'angry' 'happy' 'angry'\n",
            " 'angry' 'disgust' 'angry' 'sad' 'angry' 'happy' 'fear' 'happy' 'fear'\n",
            " 'disgust' 'disgust' 'fear' 'neutral' 'happy' 'angry' 'angry' 'sad'\n",
            " 'angry' 'disgust' 'sad' 'happy' 'happy' 'sad' 'neutral' 'sad' 'disgust'\n",
            " 'happy' 'neutral' 'angry' 'neutral' 'angry' 'disgust' 'fear' 'fear'\n",
            " 'disgust' 'sad' 'disgust' 'fear' 'neutral' 'angry' 'happy' 'angry'\n",
            " 'happy' 'fear' 'angry' 'neutral' 'disgust' 'fear' 'sad' 'sad' 'happy'\n",
            " 'fear' 'sad' 'angry' 'angry' 'disgust' 'angry' 'sad' 'angry' 'fear' 'sad'\n",
            " 'happy' 'happy' 'neutral' 'disgust' 'neutral' 'disgust' 'disgust'\n",
            " 'disgust' 'angry' 'happy' 'angry' 'sad' 'disgust' 'angry' 'neutral'\n",
            " 'angry' 'fear' 'neutral' 'happy' 'fear' 'neutral' 'fear' 'happy' 'sad'\n",
            " 'happy' 'angry' 'neutral' 'fear' 'sad' 'sad' 'happy' 'fear' 'fear'\n",
            " 'disgust' 'fear' 'sad' 'happy' 'fear' 'disgust' 'fear' 'fear' 'neutral'\n",
            " 'sad' 'disgust' 'neutral' 'fear' 'happy' 'disgust' 'happy' 'angry'\n",
            " 'angry' 'fear' 'disgust' 'neutral' 'angry' 'angry' 'fear' 'fear'\n",
            " 'disgust' 'angry' 'fear' 'fear' 'happy' 'sad' 'neutral' 'happy' 'fear'\n",
            " 'disgust' 'neutral' 'fear' 'fear' 'sad' 'disgust' 'sad' 'sad' 'disgust'\n",
            " 'neutral' 'happy' 'sad' 'neutral' 'fear' 'happy' 'angry' 'happy' 'sad'\n",
            " 'sad' 'neutral' 'sad' 'sad' 'disgust' 'neutral' 'disgust' 'fear' 'sad'\n",
            " 'sad' 'neutral' 'angry' 'neutral' 'happy' 'sad' 'neutral' 'neutral'\n",
            " 'angry' 'neutral' 'fear' 'happy' 'fear' 'disgust' 'sad' 'neutral' 'happy'\n",
            " 'happy' 'sad' 'sad' 'angry' 'disgust' 'sad' 'fear' 'happy' 'neutral'\n",
            " 'happy' 'sad' 'happy' 'happy' 'sad' 'fear' 'fear' 'fear' 'happy'\n",
            " 'neutral' 'fear' 'disgust' 'disgust' 'sad' 'angry' 'happy' 'neutral'\n",
            " 'happy' 'neutral' 'angry' 'fear' 'sad' 'sad' 'sad' 'sad' 'fear' 'disgust'\n",
            " 'angry' 'sad' 'fear' 'angry' 'disgust' 'disgust' 'happy' 'happy' 'angry'\n",
            " 'sad' 'happy' 'neutral' 'sad' 'disgust' 'disgust' 'happy' 'disgust'\n",
            " 'angry' 'disgust' 'disgust' 'sad' 'fear' 'disgust' 'sad' 'happy' 'fear'\n",
            " 'angry' 'fear' 'neutral' 'angry' 'angry' 'happy' 'angry' 'disgust'\n",
            " 'disgust' 'sad' 'angry' 'fear' 'angry' 'angry' 'disgust' 'fear' 'sad'\n",
            " 'sad' 'angry' 'disgust' 'angry' 'disgust' 'neutral' 'disgust' 'disgust'\n",
            " 'angry' 'neutral' 'happy' 'angry' 'fear' 'happy' 'disgust' 'neutral'\n",
            " 'sad' 'angry' 'sad' 'fear' 'angry' 'sad' 'angry' 'neutral' 'angry' 'sad'\n",
            " 'sad' 'fear' 'angry' 'neutral' 'neutral' 'happy' 'disgust' 'fear' 'fear'\n",
            " 'angry' 'fear' 'neutral' 'happy' 'disgust' 'neutral' 'neutral' 'fear'\n",
            " 'happy' 'neutral' 'happy' 'sad' 'happy' 'disgust' 'disgust' 'happy'\n",
            " 'happy' 'neutral' 'neutral' 'happy' 'neutral' 'neutral' 'sad' 'neutral'\n",
            " 'angry' 'neutral' 'neutral' 'fear' 'angry' 'neutral' 'fear' 'happy' 'sad'\n",
            " 'sad' 'fear' 'sad' 'sad' 'angry' 'angry' 'fear' 'disgust' 'happy' 'fear'\n",
            " 'happy' 'fear' 'happy' 'sad' 'fear' 'sad' 'angry' 'fear' 'fear' 'disgust'\n",
            " 'sad' 'fear' 'fear' 'happy' 'happy' 'disgust' 'angry' 'sad' 'happy'\n",
            " 'disgust' 'disgust' 'happy' 'angry' 'fear' 'fear' 'happy' 'neutral'\n",
            " 'fear' 'fear' 'happy' 'angry' 'neutral' 'angry' 'neutral' 'sad' 'fear'\n",
            " 'sad' 'neutral' 'sad' 'neutral' 'neutral' 'happy' 'disgust' 'disgust'\n",
            " 'happy' 'happy' 'happy' 'neutral' 'fear' 'sad' 'sad' 'sad' 'disgust'\n",
            " 'neutral' 'neutral' 'sad' 'neutral' 'sad' 'angry' 'fear' 'disgust' 'fear'\n",
            " 'neutral' 'angry' 'fear' 'angry' 'sad' 'sad' 'happy' 'disgust' 'sad'\n",
            " 'disgust' 'sad' 'disgust' 'fear' 'happy' 'angry' 'happy' 'angry' 'happy'\n",
            " 'fear' 'disgust' 'angry' 'disgust' 'disgust' 'disgust' 'angry' 'happy'\n",
            " 'disgust' 'angry' 'disgust' 'angry' 'neutral' 'angry' 'disgust' 'fear'\n",
            " 'neutral' 'fear' 'angry' 'neutral' 'neutral' 'happy' 'disgust' 'happy'\n",
            " 'sad' 'fear' 'angry' 'angry' 'neutral' 'disgust' 'angry' 'angry' 'sad'\n",
            " 'fear' 'neutral' 'neutral' 'angry' 'happy' 'angry' 'disgust' 'sad'\n",
            " 'happy' 'disgust' 'sad' 'disgust' 'sad' 'disgust' 'angry' 'fear' 'fear'\n",
            " 'disgust' 'happy' 'angry' 'neutral' 'happy' 'angry' 'sad' 'angry' 'happy'\n",
            " 'disgust' 'disgust' 'happy' 'disgust' 'disgust' 'happy' 'sad' 'disgust'\n",
            " 'happy' 'neutral' 'fear' 'neutral' 'angry' 'fear' 'angry' 'neutral'\n",
            " 'neutral' 'sad' 'angry' 'fear' 'fear' 'fear' 'sad' 'fear' 'neutral'\n",
            " 'angry' 'disgust' 'fear' 'sad' 'sad' 'happy' 'sad' 'angry' 'sad' 'fear'\n",
            " 'happy' 'fear' 'disgust' 'fear' 'happy' 'happy' 'disgust' 'sad' 'sad'\n",
            " 'sad' 'sad' 'angry' 'happy' 'fear' 'disgust' 'neutral' 'disgust' 'angry'\n",
            " 'fear' 'happy' 'happy' 'happy' 'disgust' 'happy' 'sad' 'neutral' 'sad'\n",
            " 'happy' 'neutral' 'disgust' 'happy' 'happy' 'happy' 'neutral' 'fear'\n",
            " 'disgust' 'angry' 'neutral' 'sad' 'happy' 'disgust' 'disgust' 'sad'\n",
            " 'neutral' 'happy' 'neutral' 'neutral' 'happy' 'disgust' 'disgust' 'angry'\n",
            " 'neutral' 'sad' 'angry' 'happy' 'neutral' 'neutral' 'happy' 'fear'\n",
            " 'happy' 'angry' 'sad' 'angry' 'fear' 'disgust' 'sad' 'disgust' 'sad'\n",
            " 'neutral' 'neutral' 'happy' 'neutral' 'happy' 'sad' 'sad' 'happy' 'fear'\n",
            " 'angry' 'fear' 'angry' 'angry' 'disgust' 'sad' 'disgust' 'fear' 'angry'\n",
            " 'sad' 'happy' 'sad' 'fear' 'fear' 'disgust' 'sad' 'happy' 'fear' 'fear'\n",
            " 'fear' 'neutral' 'neutral' 'happy' 'angry' 'disgust' 'fear' 'disgust'\n",
            " 'neutral' 'sad' 'fear' 'neutral' 'sad' 'disgust' 'disgust' 'angry'\n",
            " 'angry' 'neutral' 'neutral' 'disgust' 'angry' 'disgust' 'neutral' 'angry'\n",
            " 'disgust' 'angry' 'sad' 'disgust' 'sad' 'angry' 'angry' 'sad' 'neutral'\n",
            " 'disgust' 'fear' 'angry' 'sad' 'sad' 'sad' 'neutral' 'fear' 'disgust'\n",
            " 'sad' 'angry' 'sad' 'sad' 'happy' 'neutral' 'disgust' 'neutral' 'fear'\n",
            " 'fear' 'fear' 'happy' 'happy' 'sad' 'angry' 'disgust' 'fear' 'happy'\n",
            " 'neutral' 'fear' 'fear' 'angry' 'happy' 'happy' 'disgust' 'neutral'\n",
            " 'fear' 'fear' 'sad' 'disgust' 'neutral' 'fear' 'happy' 'happy' 'disgust'\n",
            " 'neutral' 'angry' 'disgust' 'angry' 'disgust' 'neutral' 'happy' 'neutral'\n",
            " 'sad' 'angry' 'neutral' 'disgust' 'angry' 'sad' 'angry' 'sad' 'angry'\n",
            " 'happy' 'disgust' 'neutral' 'disgust' 'happy' 'angry' 'angry' 'fear'\n",
            " 'sad' 'happy' 'neutral' 'sad' 'fear' 'neutral' 'angry' 'angry' 'disgust'\n",
            " 'sad' 'happy' 'fear' 'neutral' 'sad' 'disgust' 'fear' 'happy' 'fear'\n",
            " 'fear' 'angry' 'angry' 'happy' 'sad' 'happy' 'sad' 'neutral' 'fear'\n",
            " 'fear' 'sad' 'sad' 'sad' 'disgust' 'angry' 'angry' 'neutral' 'fear'\n",
            " 'fear' 'happy' 'disgust' 'fear' 'sad' 'fear' 'sad' 'angry' 'disgust'\n",
            " 'sad' 'happy' 'fear' 'disgust' 'disgust' 'happy' 'sad' 'sad' 'angry'\n",
            " 'neutral' 'sad' 'angry' 'disgust' 'sad' 'fear' 'angry' 'angry' 'disgust'\n",
            " 'sad' 'neutral' 'happy' 'angry' 'angry' 'happy' 'neutral' 'fear'\n",
            " 'disgust' 'disgust' 'happy' 'disgust' 'happy' 'sad' 'neutral' 'fear'\n",
            " 'neutral' 'neutral' 'happy' 'disgust' 'fear' 'neutral' 'happy' 'neutral'\n",
            " 'sad' 'angry' 'happy' 'angry' 'fear' 'sad' 'disgust' 'sad' 'angry'\n",
            " 'happy' 'neutral' 'sad' 'happy' 'neutral' 'happy' 'happy' 'happy'\n",
            " 'neutral' 'angry' 'sad' 'angry' 'sad' 'neutral' 'happy' 'happy' 'angry'\n",
            " 'disgust' 'disgust' 'fear' 'sad' 'angry' 'angry' 'fear' 'sad' 'neutral'\n",
            " 'sad' 'happy' 'fear' 'neutral' 'fear' 'disgust' 'happy' 'fear' 'angry'\n",
            " 'sad' 'disgust' 'fear' 'neutral' 'disgust' 'angry' 'disgust' 'disgust'\n",
            " 'happy' 'sad' 'happy' 'fear' 'disgust' 'happy' 'fear' 'fear' 'neutral'\n",
            " 'disgust' 'angry' 'neutral' 'happy' 'angry' 'fear' 'fear' 'happy' 'angry'\n",
            " 'angry' 'angry' 'disgust' 'angry' 'happy' 'neutral' 'angry' 'happy' 'sad'\n",
            " 'neutral' 'fear' 'angry' 'fear' 'fear' 'disgust' 'sad' 'angry' 'angry'\n",
            " 'angry' 'happy' 'disgust' 'fear' 'neutral' 'angry' 'sad' 'angry' 'angry'\n",
            " 'neutral' 'disgust' 'neutral' 'neutral' 'happy' 'happy' 'sad' 'sad'\n",
            " 'disgust' 'sad' 'angry' 'happy' 'disgust' 'disgust' 'disgust' 'angry'\n",
            " 'angry' 'sad' 'sad' 'angry' 'happy' 'fear' 'sad' 'happy' 'neutral'\n",
            " 'neutral' 'angry' 'happy' 'neutral' 'fear' 'happy' 'disgust' 'happy'\n",
            " 'neutral' 'sad' 'disgust' 'fear' 'neutral' 'happy' 'disgust' 'angry'\n",
            " 'happy' 'sad' 'sad' 'disgust' 'neutral' 'disgust' 'happy' 'disgust'\n",
            " 'neutral' 'happy' 'disgust' 'fear' 'sad' 'fear' 'fear' 'neutral' 'sad'\n",
            " 'angry' 'angry' 'fear' 'angry' 'fear' 'angry' 'fear' 'disgust' 'angry'\n",
            " 'sad' 'happy' 'disgust' 'disgust' 'sad' 'neutral' 'fear' 'sad' 'sad'\n",
            " 'happy' 'sad' 'happy' 'disgust' 'happy' 'disgust' 'neutral' 'neutral'\n",
            " 'happy' 'sad' 'happy' 'disgust' 'sad' 'sad' 'fear' 'angry' 'fear'\n",
            " 'disgust' 'sad' 'happy' 'disgust' 'sad' 'fear' 'neutral' 'disgust' 'sad'\n",
            " 'neutral' 'angry' 'sad' 'disgust' 'fear' 'neutral' 'angry' 'sad' 'sad'\n",
            " 'sad' 'disgust' 'disgust' 'neutral' 'disgust' 'disgust' 'sad' 'neutral'\n",
            " 'angry' 'angry' 'disgust' 'angry' 'disgust' 'angry' 'sad' 'neutral'\n",
            " 'happy' 'sad' 'fear' 'angry' 'neutral' 'sad' 'angry' 'neutral' 'angry'\n",
            " 'happy' 'angry' 'neutral' 'sad' 'fear' 'neutral' 'happy' 'disgust'\n",
            " 'neutral' 'fear' 'angry' 'happy' 'sad' 'sad' 'happy' 'angry' 'disgust'\n",
            " 'fear' 'happy' 'happy' 'fear' 'happy' 'sad' 'sad' 'angry' 'sad' 'fear'\n",
            " 'disgust' 'sad' 'fear' 'happy' 'neutral' 'fear' 'fear' 'angry' 'neutral'\n",
            " 'happy' 'disgust' 'disgust' 'fear' 'neutral' 'fear' 'disgust' 'disgust'\n",
            " 'happy' 'disgust' 'happy' 'neutral' 'happy' 'sad' 'fear' 'sad' 'neutral'\n",
            " 'fear' 'happy' 'fear' 'fear' 'disgust' 'happy' 'angry' 'fear' 'fear'\n",
            " 'angry' 'happy' 'angry' 'fear' 'neutral' 'neutral' 'sad' 'angry' 'fear'\n",
            " 'fear' 'neutral' 'fear' 'happy' 'sad' 'fear' 'neutral' 'fear' 'sad'\n",
            " 'angry' 'happy' 'happy' 'fear' 'happy' 'disgust' 'angry' 'disgust'\n",
            " 'neutral' 'neutral' 'fear' 'happy' 'disgust' 'angry' 'angry' 'fear'\n",
            " 'angry' 'sad' 'happy' 'disgust' 'neutral' 'disgust' 'happy' 'disgust'\n",
            " 'fear' 'angry' 'happy' 'disgust' 'angry' 'disgust' 'fear' 'happy' 'happy'\n",
            " 'sad' 'disgust' 'happy' 'fear' 'angry' 'angry' 'fear' 'fear' 'happy'\n",
            " 'angry' 'neutral' 'angry' 'sad' 'fear' 'neutral' 'fear' 'fear' 'fear'\n",
            " 'disgust' 'happy' 'sad' 'neutral' 'neutral' 'disgust' 'fear' 'happy'\n",
            " 'disgust' 'neutral' 'fear' 'happy' 'fear' 'disgust' 'sad' 'disgust'\n",
            " 'angry' 'sad' 'neutral' 'sad' 'sad' 'angry' 'neutral' 'happy' 'sad'\n",
            " 'neutral' 'angry' 'happy' 'happy' 'happy' 'sad' 'angry' 'disgust' 'fear'\n",
            " 'happy' 'disgust' 'sad' 'angry' 'fear' 'disgust' 'happy' 'sad' 'happy'\n",
            " 'fear' 'disgust' 'disgust' 'angry' 'neutral' 'happy' 'happy' 'sad'\n",
            " 'angry' 'angry' 'fear' 'happy' 'fear' 'happy' 'happy' 'neutral' 'fear'\n",
            " 'neutral' 'fear' 'sad' 'neutral' 'fear' 'angry' 'happy' 'happy' 'fear'\n",
            " 'sad' 'angry' 'disgust' 'angry' 'sad' 'happy' 'happy' 'sad' 'neutral'\n",
            " 'neutral' 'fear' 'happy' 'fear' 'disgust' 'sad' 'neutral' 'sad' 'sad'\n",
            " 'sad' 'neutral' 'fear' 'sad' 'neutral' 'sad' 'sad' 'sad' 'neutral' 'fear'\n",
            " 'sad' 'angry' 'fear' 'angry' 'happy' 'angry' 'happy' 'sad' 'angry'\n",
            " 'neutral' 'disgust' 'happy' 'neutral' 'angry' 'sad' 'sad' 'disgust'\n",
            " 'fear' 'disgust' 'angry' 'sad' 'happy' 'disgust' 'angry' 'sad' 'angry'\n",
            " 'happy' 'disgust' 'disgust' 'disgust' 'sad' 'disgust' 'sad' 'disgust'\n",
            " 'angry' 'sad' 'neutral' 'sad' 'happy' 'angry' 'angry' 'disgust' 'fear'\n",
            " 'disgust' 'neutral' 'happy' 'disgust' 'happy' 'neutral' 'fear' 'disgust'\n",
            " 'sad' 'angry' 'sad' 'angry' 'neutral' 'disgust' 'disgust' 'happy' 'angry'\n",
            " 'disgust' 'angry' 'disgust' 'happy' 'happy' 'fear' 'fear' 'angry' 'fear'\n",
            " 'fear' 'fear' 'happy' 'happy' 'disgust' 'angry' 'disgust' 'angry' 'fear'\n",
            " 'fear' 'fear' 'disgust' 'happy' 'sad' 'neutral' 'happy' 'angry' 'sad'\n",
            " 'disgust' 'neutral' 'neutral' 'disgust' 'happy' 'happy' 'fear' 'neutral'\n",
            " 'neutral' 'neutral' 'disgust' 'fear' 'fear' 'neutral' 'disgust' 'neutral'\n",
            " 'fear' 'angry' 'sad' 'neutral' 'angry' 'neutral' 'sad' 'fear' 'angry'\n",
            " 'angry' 'sad' 'angry' 'sad' 'disgust' 'disgust' 'disgust' 'angry' 'fear'\n",
            " 'angry' 'happy' 'fear' 'angry' 'disgust' 'neutral' 'neutral' 'happy'\n",
            " 'angry' 'angry' 'angry' 'disgust' 'disgust' 'happy' 'angry' 'neutral'\n",
            " 'angry' 'happy' 'neutral' 'sad' 'happy' 'disgust' 'fear' 'neutral'\n",
            " 'disgust' 'fear' 'angry' 'neutral' 'happy' 'sad' 'angry' 'fear' 'disgust'\n",
            " 'sad' 'angry' 'sad' 'disgust' 'sad' 'sad' 'disgust' 'happy' 'happy'\n",
            " 'angry' 'neutral' 'angry' 'disgust' 'fear' 'neutral' 'fear' 'sad'\n",
            " 'neutral' 'happy' 'happy' 'sad' 'fear' 'sad' 'happy' 'disgust' 'fear'\n",
            " 'angry' 'sad' 'disgust' 'sad' 'happy' 'neutral' 'happy' 'happy' 'neutral'\n",
            " 'fear' 'angry' 'disgust' 'neutral' 'disgust' 'angry' 'sad' 'disgust'\n",
            " 'disgust' 'fear' 'disgust' 'happy' 'disgust' 'neutral' 'sad' 'happy'\n",
            " 'sad' 'happy' 'angry' 'happy' 'disgust' 'disgust' 'fear' 'fear' 'fear'\n",
            " 'neutral' 'angry' 'neutral' 'disgust' 'sad' 'happy' 'fear' 'neutral'\n",
            " 'sad' 'disgust' 'angry' 'sad' 'disgust' 'sad' 'fear' 'sad' 'angry'\n",
            " 'disgust' 'neutral' 'neutral' 'neutral' 'fear' 'disgust' 'fear' 'disgust'\n",
            " 'happy' 'angry' 'angry' 'neutral' 'neutral' 'sad' 'fear' 'neutral'\n",
            " 'happy' 'happy' 'angry' 'disgust' 'fear' 'sad' 'angry' 'sad' 'disgust'\n",
            " 'neutral' 'sad' 'disgust' 'neutral' 'disgust' 'sad' 'angry' 'angry'\n",
            " 'neutral' 'fear' 'disgust' 'fear' 'happy' 'angry' 'disgust' 'fear'\n",
            " 'neutral' 'fear' 'angry' 'happy' 'angry' 'disgust' 'sad' 'sad' 'angry'\n",
            " 'sad' 'disgust' 'neutral' 'happy' 'disgust' 'fear' 'happy' 'fear'\n",
            " 'neutral' 'fear' 'happy' 'fear' 'happy' 'happy' 'fear' 'angry' 'happy'\n",
            " 'happy' 'disgust' 'sad' 'angry' 'sad' 'neutral' 'happy' 'sad' 'happy'\n",
            " 'neutral' 'disgust' 'sad' 'sad' 'angry' 'fear' 'neutral' 'disgust'\n",
            " 'disgust' 'angry' 'sad' 'fear' 'disgust' 'angry' 'angry' 'sad' 'sad'\n",
            " 'happy' 'angry' 'happy' 'neutral' 'angry' 'happy' 'disgust' 'disgust'\n",
            " 'fear' 'sad' 'angry' 'angry' 'neutral' 'fear' 'angry' 'fear' 'angry'\n",
            " 'happy' 'happy' 'sad' 'disgust' 'angry' 'fear' 'sad' 'fear' 'angry'\n",
            " 'neutral' 'angry' 'fear' 'angry' 'sad' 'disgust' 'happy' 'disgust' 'fear'\n",
            " 'neutral' 'fear' 'fear' 'fear' 'sad' 'neutral' 'neutral' 'sad' 'disgust'\n",
            " 'angry' 'sad' 'fear' 'happy' 'fear' 'neutral' 'angry' 'disgust' 'disgust'\n",
            " 'neutral' 'angry' 'angry' 'angry' 'fear' 'sad' 'fear' 'neutral' 'happy'\n",
            " 'disgust' 'happy' 'happy' 'happy' 'fear' 'fear' 'fear' 'fear' 'sad'\n",
            " 'angry' 'neutral' 'disgust' 'sad' 'disgust' 'angry' 'angry' 'sad' 'angry'\n",
            " 'disgust' 'fear' 'disgust' 'disgust' 'angry' 'happy' 'sad' 'disgust'\n",
            " 'neutral' 'neutral' 'fear' 'sad' 'happy' 'angry' 'fear' 'fear' 'sad'\n",
            " 'disgust' 'disgust' 'disgust' 'happy' 'happy' 'sad' 'fear' 'sad' 'sad'\n",
            " 'disgust' 'sad' 'happy' 'sad' 'sad' 'disgust' 'neutral' 'disgust' 'fear'\n",
            " 'neutral' 'happy' 'neutral' 'disgust' 'neutral' 'sad' 'happy' 'fear'\n",
            " 'angry' 'sad' 'disgust' 'fear' 'angry' 'angry' 'fear' 'fear' 'disgust'\n",
            " 'angry' 'fear' 'fear' 'angry' 'neutral' 'angry' 'happy' 'fear' 'neutral'\n",
            " 'angry' 'angry' 'sad' 'neutral' 'neutral' 'happy' 'happy' 'angry' 'fear'\n",
            " 'sad' 'fear' 'happy' 'neutral' 'happy' 'fear' 'angry' 'disgust' 'neutral'\n",
            " 'sad' 'happy' 'fear' 'fear' 'fear' 'happy' 'happy' 'happy' 'angry'\n",
            " 'happy' 'disgust' 'fear' 'happy' 'neutral' 'happy' 'fear' 'angry' 'happy'\n",
            " 'disgust' 'neutral' 'sad' 'happy' 'fear' 'happy' 'neutral' 'sad' 'sad'\n",
            " 'disgust' 'happy' 'fear' 'disgust' 'neutral' 'neutral' 'disgust' 'sad'\n",
            " 'fear' 'sad' 'sad' 'disgust' 'sad' 'sad' 'sad' 'happy' 'neutral' 'happy'\n",
            " 'disgust' 'angry' 'disgust' 'angry' 'sad' 'sad' 'happy' 'sad' 'happy'\n",
            " 'angry' 'angry' 'happy' 'angry' 'angry' 'disgust' 'sad' 'happy' 'angry'\n",
            " 'sad' 'sad' 'fear' 'disgust' 'neutral' 'disgust' 'neutral' 'fear' 'happy'\n",
            " 'happy' 'happy' 'neutral' 'neutral' 'fear' 'neutral' 'sad' 'angry' 'fear'\n",
            " 'fear' 'fear' 'fear' 'happy' 'sad' 'neutral' 'neutral' 'angry' 'angry'\n",
            " 'disgust' 'neutral' 'disgust' 'angry' 'angry' 'neutral' 'happy' 'disgust'\n",
            " 'angry' 'sad' 'neutral' 'fear' 'sad' 'sad' 'angry' 'angry' 'angry' 'fear'\n",
            " 'angry' 'happy' 'sad' 'sad' 'disgust' 'sad' 'sad' 'disgust' 'disgust'\n",
            " 'disgust' 'angry' 'sad' 'neutral' 'fear' 'fear' 'fear' 'happy' 'fear'\n",
            " 'sad' 'disgust' 'disgust' 'disgust' 'neutral' 'sad' 'fear' 'disgust'\n",
            " 'angry' 'fear' 'angry' 'neutral' 'sad' 'sad' 'disgust' 'angry' 'angry'\n",
            " 'disgust' 'sad' 'neutral' 'sad' 'fear' 'happy' 'fear' 'happy' 'sad'\n",
            " 'angry' 'happy' 'sad' 'sad' 'angry' 'happy' 'disgust' 'happy' 'disgust'\n",
            " 'fear' 'angry' 'happy' 'sad' 'sad' 'disgust' 'fear' 'sad' 'happy'\n",
            " 'neutral' 'sad' 'angry' 'disgust' 'fear' 'fear' 'sad' 'neutral' 'neutral'\n",
            " 'happy' 'disgust' 'sad' 'angry' 'neutral' 'angry' 'happy' 'angry' 'fear'\n",
            " 'fear' 'happy' 'neutral' 'neutral' 'disgust' 'happy' 'fear' 'happy'\n",
            " 'happy' 'sad' 'happy' 'angry' 'fear' 'disgust' 'happy' 'sad' 'sad'\n",
            " 'happy' 'happy' 'disgust' 'fear' 'neutral' 'angry' 'angry' 'angry'\n",
            " 'happy' 'sad' 'neutral' 'disgust' 'fear' 'neutral' 'fear' 'sad' 'fear'\n",
            " 'disgust' 'happy' 'disgust' 'happy' 'neutral' 'happy' 'disgust' 'fear'\n",
            " 'fear' 'happy' 'angry' 'angry' 'sad' 'angry' 'happy' 'happy' 'fear'\n",
            " 'disgust' 'fear' 'angry' 'sad' 'fear' 'disgust' 'sad' 'fear' 'angry'\n",
            " 'sad' 'fear' 'angry' 'happy' 'angry' 'neutral' 'angry' 'neutral' 'happy'\n",
            " 'disgust' 'neutral' 'happy' 'angry' 'fear' 'disgust' 'angry' 'sad'\n",
            " 'happy' 'fear' 'neutral' 'fear' 'neutral' 'neutral' 'sad' 'disgust'\n",
            " 'angry' 'disgust' 'fear' 'neutral' 'fear' 'angry' 'disgust' 'happy'\n",
            " 'neutral' 'disgust' 'neutral' 'angry' 'neutral' 'disgust' 'happy' 'sad'\n",
            " 'neutral' 'fear' 'neutral' 'neutral' 'fear' 'happy' 'angry' 'neutral'\n",
            " 'fear' 'sad' 'sad' 'disgust' 'angry' 'angry' 'happy' 'disgust' 'happy'\n",
            " 'sad' 'neutral' 'happy' 'neutral' 'sad' 'disgust' 'happy' 'fear'\n",
            " 'disgust' 'fear' 'neutral' 'fear' 'happy' 'angry' 'angry' 'angry' 'sad'\n",
            " 'neutral' 'angry' 'happy' 'angry' 'disgust' 'disgust' 'neutral' 'sad'\n",
            " 'angry' 'disgust' 'disgust' 'sad' 'happy' 'disgust' 'happy' 'fear'\n",
            " 'disgust' 'neutral' 'happy' 'sad' 'disgust' 'neutral' 'fear' 'neutral'\n",
            " 'sad' 'neutral' 'angry' 'angry' 'happy' 'angry' 'disgust' 'sad' 'happy'\n",
            " 'disgust' 'fear' 'happy' 'disgust' 'fear' 'angry' 'happy' 'sad' 'disgust'\n",
            " 'sad' 'fear' 'fear' 'fear' 'sad' 'neutral' 'angry' 'fear' 'happy' 'happy'\n",
            " 'sad' 'angry' 'angry' 'sad' 'sad' 'angry' 'disgust' 'angry' 'happy'\n",
            " 'fear' 'happy' 'sad' 'disgust' 'disgust' 'happy' 'sad' 'neutral' 'fear'\n",
            " 'sad' 'fear' 'disgust' 'sad' 'disgust' 'neutral' 'disgust' 'angry' 'fear'\n",
            " 'sad' 'neutral' 'happy' 'neutral' 'sad' 'sad' 'sad' 'sad' 'happy' 'happy'\n",
            " 'angry' 'disgust' 'sad' 'sad' 'sad' 'neutral' 'angry' 'fear' 'sad'\n",
            " 'happy' 'neutral' 'angry' 'neutral' 'happy' 'angry' 'angry' 'sad'\n",
            " 'neutral' 'angry' 'happy' 'angry' 'disgust' 'neutral' 'disgust' 'happy'\n",
            " 'sad' 'fear' 'disgust' 'angry' 'neutral' 'sad' 'fear' 'disgust' 'disgust'\n",
            " 'angry' 'disgust' 'happy' 'angry' 'happy' 'fear' 'neutral' 'angry'\n",
            " 'angry' 'neutral' 'fear' 'fear' 'neutral' 'happy' 'sad' 'disgust' 'happy'\n",
            " 'neutral' 'fear' 'fear' 'happy' 'fear' 'neutral' 'happy' 'neutral'\n",
            " 'disgust' 'disgust' 'neutral' 'sad' 'fear' 'angry' 'happy' 'angry'\n",
            " 'disgust' 'fear' 'disgust' 'sad' 'angry' 'fear' 'disgust' 'disgust'\n",
            " 'disgust' 'fear' 'disgust' 'neutral' 'angry' 'neutral' 'happy' 'angry'\n",
            " 'fear' 'disgust' 'happy' 'fear' 'disgust' 'sad' 'sad' 'fear' 'sad'\n",
            " 'angry' 'angry' 'fear' 'happy' 'happy' 'angry' 'sad' 'fear' 'happy'\n",
            " 'angry' 'happy' 'angry' 'neutral' 'sad' 'happy' 'sad' 'disgust' 'fear'\n",
            " 'happy' 'disgust' 'happy' 'neutral' 'fear' 'angry' 'fear' 'happy'\n",
            " 'disgust' 'disgust' 'neutral' 'fear' 'neutral' 'angry' 'fear' 'disgust'\n",
            " 'neutral' 'disgust' 'disgust' 'happy' 'neutral' 'fear' 'fear' 'disgust'\n",
            " 'angry' 'happy' 'neutral' 'angry' 'fear' 'sad' 'disgust' 'neutral'\n",
            " 'disgust' 'angry' 'happy' 'happy' 'sad' 'angry' 'fear' 'happy' 'neutral'\n",
            " 'sad' 'fear' 'sad' 'disgust' 'fear' 'fear' 'happy' 'angry' 'neutral'\n",
            " 'fear' 'sad' 'neutral' 'sad' 'disgust' 'neutral' 'sad' 'happy' 'angry'\n",
            " 'angry' 'neutral' 'sad' 'happy' 'neutral' 'disgust' 'disgust' 'neutral'\n",
            " 'disgust' 'neutral' 'happy' 'fear' 'angry' 'disgust' 'happy' 'sad'\n",
            " 'disgust' 'neutral' 'fear' 'neutral' 'fear' 'happy' 'sad' 'angry' 'fear'\n",
            " 'angry' 'fear' 'fear' 'neutral' 'fear' 'sad' 'fear' 'disgust' 'fear'\n",
            " 'happy' 'disgust' 'fear' 'fear' 'fear' 'disgust' 'happy' 'disgust' 'sad'\n",
            " 'happy' 'angry' 'angry' 'fear' 'sad' 'sad' 'sad' 'sad' 'neutral' 'angry'\n",
            " 'neutral' 'angry' 'disgust' 'angry' 'fear' 'happy' 'angry' 'fear' 'angry'\n",
            " 'neutral' 'fear' 'fear' 'neutral' 'angry' 'neutral' 'fear' 'neutral'\n",
            " 'fear' 'sad' 'sad' 'happy' 'sad' 'fear' 'angry' 'sad' 'sad' 'happy'\n",
            " 'neutral' 'happy' 'happy' 'fear' 'disgust' 'disgust' 'disgust' 'neutral'\n",
            " 'angry' 'happy' 'disgust' 'disgust' 'angry' 'happy' 'angry' 'fear'\n",
            " 'neutral' 'sad' 'neutral' 'fear' 'sad' 'angry' 'disgust' 'angry'\n",
            " 'disgust' 'happy' 'disgust' 'neutral' 'neutral' 'fear' 'fear' 'sad'\n",
            " 'disgust' 'fear' 'angry' 'neutral' 'sad' 'happy' 'fear' 'disgust' 'happy'\n",
            " 'disgust' 'angry' 'happy' 'disgust' 'sad' 'happy' 'neutral' 'sad' 'fear'\n",
            " 'happy' 'sad' 'angry' 'happy' 'sad' 'happy' 'happy' 'happy' 'fear' 'fear'\n",
            " 'angry' 'fear' 'disgust' 'disgust' 'disgust' 'fear' 'sad' 'disgust'\n",
            " 'angry' 'happy' 'disgust' 'sad' 'sad' 'sad' 'angry' 'disgust' 'neutral'\n",
            " 'disgust' 'sad' 'happy' 'angry' 'fear' 'neutral' 'disgust' 'disgust'\n",
            " 'fear' 'disgust' 'angry' 'neutral' 'fear' 'angry' 'neutral' 'happy'\n",
            " 'disgust' 'sad' 'disgust' 'angry' 'sad' 'sad' 'happy' 'disgust' 'fear'\n",
            " 'disgust' 'disgust' 'sad' 'sad' 'angry' 'angry' 'neutral' 'angry'\n",
            " 'neutral' 'sad' 'neutral' 'disgust' 'sad' 'happy' 'fear' 'disgust'\n",
            " 'disgust' 'sad' 'happy' 'sad' 'happy' 'neutral' 'neutral' 'happy' 'angry'\n",
            " 'angry' 'angry' 'happy' 'sad' 'sad' 'sad' 'sad' 'neutral' 'angry' 'sad'\n",
            " 'disgust' 'neutral' 'fear' 'happy' 'angry' 'angry' 'happy' 'happy'\n",
            " 'happy' 'neutral' 'happy' 'happy' 'happy' 'happy' 'fear' 'sad' 'neutral'\n",
            " 'disgust' 'disgust' 'fear' 'fear' 'sad' 'happy' 'happy' 'happy' 'angry'\n",
            " 'happy' 'fear' 'angry' 'happy' 'angry' 'disgust' 'happy' 'neutral' 'fear'\n",
            " 'disgust' 'neutral' 'sad' 'sad' 'angry' 'angry' 'angry' 'fear' 'neutral'\n",
            " 'disgust' 'neutral' 'neutral' 'disgust' 'sad' 'fear' 'fear' 'angry'\n",
            " 'disgust' 'fear' 'angry' 'angry' 'sad' 'sad' 'angry' 'neutral' 'neutral'\n",
            " 'angry' 'neutral' 'happy' 'disgust' 'fear' 'sad' 'happy' 'disgust' 'fear'\n",
            " 'angry' 'angry' 'happy' 'sad' 'disgust' 'angry' 'disgust' 'disgust' 'sad'\n",
            " 'disgust' 'happy' 'fear' 'sad' 'sad' 'sad' 'disgust' 'disgust' 'fear'\n",
            " 'disgust' 'neutral' 'neutral' 'angry' 'sad' 'sad' 'happy' 'angry' 'fear'\n",
            " 'angry' 'neutral' 'neutral' 'happy' 'disgust' 'neutral' 'fear' 'sad'\n",
            " 'fear' 'disgust' 'angry' 'neutral' 'disgust' 'angry' 'neutral' 'fear'\n",
            " 'happy' 'fear' 'angry' 'neutral' 'sad' 'sad' 'angry' 'angry' 'fear'\n",
            " 'happy' 'fear' 'disgust' 'disgust' 'happy' 'happy' 'disgust' 'disgust'\n",
            " 'fear' 'sad' 'neutral' 'angry' 'angry' 'sad' 'angry' 'happy' 'sad'\n",
            " 'angry' 'happy' 'sad' 'fear' 'neutral' 'happy' 'disgust' 'disgust'\n",
            " 'neutral' 'sad' 'fear' 'happy' 'fear' 'angry' 'happy' 'angry' 'neutral'\n",
            " 'sad' 'sad' 'fear' 'happy' 'disgust' 'fear' 'sad' 'neutral' 'neutral'\n",
            " 'disgust' 'disgust' 'sad' 'angry' 'fear' 'disgust' 'happy' 'neutral'\n",
            " 'disgust' 'happy' 'angry' 'happy' 'fear' 'fear' 'neutral' 'angry'\n",
            " 'neutral' 'sad' 'disgust' 'fear' 'disgust' 'sad' 'angry' 'fear' 'happy'\n",
            " 'angry' 'neutral' 'happy' 'sad' 'angry' 'disgust' 'neutral' 'sad' 'sad'\n",
            " 'angry' 'happy' 'happy' 'neutral' 'disgust' 'sad' 'sad' 'fear' 'happy'\n",
            " 'fear' 'fear' 'disgust' 'fear' 'angry' 'disgust' 'disgust' 'angry'\n",
            " 'happy' 'angry' 'disgust' 'disgust' 'angry' 'happy' 'sad' 'happy' 'angry'\n",
            " 'fear' 'sad' 'angry' 'angry' 'neutral' 'disgust' 'fear' 'neutral' 'angry'\n",
            " 'disgust' 'neutral' 'happy' 'fear' 'angry' 'happy' 'sad' 'angry' 'angry'\n",
            " 'neutral' 'disgust' 'happy' 'sad' 'fear' 'angry' 'fear' 'fear' 'sad'\n",
            " 'sad' 'neutral' 'disgust' 'sad' 'sad' 'angry' 'fear' 'disgust' 'angry'\n",
            " 'happy' 'disgust' 'happy' 'sad' 'neutral' 'fear' 'happy' 'sad' 'happy'\n",
            " 'happy' 'fear' 'neutral' 'neutral' 'happy' 'fear' 'sad' 'fear' 'fear'\n",
            " 'happy' 'neutral' 'angry' 'angry' 'disgust' 'happy' 'happy' 'disgust'\n",
            " 'fear' 'sad' 'neutral' 'neutral' 'neutral' 'fear' 'angry' 'neutral'\n",
            " 'fear' 'neutral' 'sad' 'happy' 'neutral' 'sad' 'disgust' 'neutral'\n",
            " 'disgust' 'fear' 'sad' 'fear' 'sad' 'angry' 'angry' 'disgust' 'sad'\n",
            " 'angry' 'disgust' 'fear' 'angry' 'happy' 'happy' 'fear' 'disgust'\n",
            " 'disgust' 'disgust' 'fear' 'happy' 'angry' 'sad' 'disgust' 'sad'\n",
            " 'disgust' 'sad' 'disgust' 'angry' 'sad' 'happy' 'neutral' 'happy'\n",
            " 'neutral' 'disgust' 'disgust' 'sad' 'happy' 'sad' 'fear' 'fear' 'angry'\n",
            " 'fear' 'sad' 'disgust' 'fear' 'neutral' 'disgust' 'sad' 'fear' 'sad'\n",
            " 'neutral' 'sad' 'fear' 'angry' 'happy' 'happy' 'sad' 'happy' 'fear'\n",
            " 'fear' 'angry' 'neutral' 'disgust' 'sad' 'sad' 'neutral' 'fear' 'fear'\n",
            " 'fear' 'disgust' 'disgust' 'happy' 'sad' 'angry' 'angry' 'sad' 'disgust'\n",
            " 'angry' 'neutral' 'disgust' 'disgust' 'disgust' 'sad' 'fear' 'sad' 'sad'\n",
            " 'neutral' 'neutral' 'fear' 'neutral' 'fear' 'happy' 'happy' 'fear'\n",
            " 'disgust' 'happy' 'angry' 'disgust' 'disgust' 'neutral' 'happy' 'angry'\n",
            " 'angry' 'sad' 'happy' 'angry' 'disgust' 'happy' 'fear' 'angry' 'sad'\n",
            " 'happy' 'sad' 'disgust' 'neutral' 'sad' 'disgust' 'neutral' 'disgust'\n",
            " 'angry' 'angry' 'happy' 'disgust' 'fear' 'fear' 'angry' 'fear' 'angry'\n",
            " 'neutral' 'disgust' 'fear' 'happy' 'neutral' 'disgust' 'fear' 'sad' 'sad'\n",
            " 'disgust' 'happy' 'sad' 'disgust' 'sad' 'happy' 'fear' 'neutral' 'happy'\n",
            " 'disgust' 'fear' 'neutral' 'neutral' 'angry' 'angry' 'angry' 'neutral'\n",
            " 'fear' 'disgust' 'angry' 'angry' 'sad' 'disgust' 'neutral' 'sad'\n",
            " 'neutral' 'sad' 'fear' 'angry' 'fear' 'disgust' 'disgust' 'happy' 'angry'\n",
            " 'happy' 'angry' 'fear' 'fear' 'happy' 'angry' 'happy' 'angry' 'happy'\n",
            " 'fear' 'neutral' 'sad' 'neutral' 'angry' 'happy' 'angry' 'fear' 'neutral'\n",
            " 'sad' 'angry' 'disgust' 'angry' 'neutral' 'angry' 'neutral' 'sad'\n",
            " 'disgust' 'happy' 'happy' 'happy' 'happy' 'sad' 'disgust' 'angry' 'happy'\n",
            " 'fear' 'neutral' 'disgust' 'fear' 'sad' 'happy' 'happy' 'disgust'\n",
            " 'neutral' 'disgust' 'sad' 'happy' 'sad' 'happy' 'fear' 'angry' 'neutral'\n",
            " 'fear' 'angry' 'neutral' 'happy' 'neutral' 'angry' 'disgust' 'sad' 'sad'\n",
            " 'happy' 'happy' 'fear' 'angry' 'disgust' 'neutral' 'angry' 'disgust'\n",
            " 'disgust' 'happy' 'disgust' 'neutral' 'disgust' 'angry' 'angry']\n"
          ],
          "name": "stdout"
        }
      ]
    },
    {
      "cell_type": "code",
      "metadata": {
        "id": "H0UBb3NrkSW-",
        "colab": {
          "base_uri": "https://localhost:8080/"
        },
        "outputId": "0c9e22be-af27-450a-9da5-ae9fc3317b2f"
      },
      "source": [
        "# FILL NaN\n",
        "mel_spec_data2 = np.zeros((7442,108,128))\n",
        "def numpy_fillna(data):\n",
        "    # Get lengths of each row of data\n",
        "    lens = np.array([len(i) for i in data])\n",
        "\n",
        "    # Mask of valid places in each row\n",
        "    mask = np.arange(lens.max()) < lens[:,None]\n",
        "\n",
        "    # Setup output array and put elements from data into masked positions\n",
        "    out = np.zeros(mask.shape , dtype = data.dtype)\n",
        "    out[mask] = np.concatenate(data)\n",
        "    return out\n",
        "print(mel_spec_data.shape[0])\n",
        "for i in range(0, len(mel_spec_data)):\n",
        "    mel_spec_data[i] = mel_spec_data[i].flatten()\n",
        "print(mel_spec_data[0].shape)\n",
        "\n",
        "mel_spec_data = numpy_fillna(mel_spec_data)\n",
        "print(mel_spec_data[0].shape)\n",
        "\n",
        "\n",
        "for i in range(0, len(mel_spec_data)):\n",
        "    #mel_spec_data2.append(np.reshape(mel_spec_data[i], (108,128) ))\n",
        "    mel_spec_data2[i] = np.reshape(mel_spec_data[i], (108,128) )\n",
        "#mel_spec_data = np.array(mel_spec_data2)\n",
        "print(mel_spec_data2[0].shape)\n"
      ],
      "execution_count": 4,
      "outputs": [
        {
          "output_type": "stream",
          "text": [
            "7442\n",
            "(8576,)\n",
            "(13824,)\n",
            "(108, 128)\n"
          ],
          "name": "stdout"
        }
      ]
    },
    {
      "cell_type": "markdown",
      "metadata": {
        "id": "v3ZNHZ445Ec3"
      },
      "source": [
        "**Hot Encoding for labels**"
      ]
    },
    {
      "cell_type": "code",
      "metadata": {
        "colab": {
          "base_uri": "https://localhost:8080/"
        },
        "id": "rlmhyxfOlfdo",
        "outputId": "aa9d51b9-e7e5-4863-cffa-aa4ec159e0d9"
      },
      "source": [
        "# Encode labels\n",
        "lb = LabelEncoder()\n",
        "mel_spec_labels = np_utils.to_categorical(lb.fit_transform(mel_spec_labels))\n",
        "print(lb.classes_)\n",
        "print(mel_spec_labels.shape)"
      ],
      "execution_count": 5,
      "outputs": [
        {
          "output_type": "stream",
          "text": [
            "['angry' 'disgust' 'fear' 'happy' 'neutral' 'sad']\n",
            "(7442, 6)\n"
          ],
          "name": "stdout"
        }
      ]
    },
    {
      "cell_type": "markdown",
      "metadata": {
        "id": "8ycIF70_5Ikx"
      },
      "source": [
        "**Split Data to training, Test and Val**"
      ]
    },
    {
      "cell_type": "code",
      "metadata": {
        "id": "3uyHtzo4lkaR"
      },
      "source": [
        "# Split data\n",
        "mel_spec_train, mel_spec_test, mel_spec_label_train, mel_spec_label_test = train_test_split(mel_spec_data2, mel_spec_labels, test_size=0.1, random_state=1)\n",
        "\n",
        "mel_spec_train, mel_spec_vald, mel_spec_label_train, mel_spec_label_vald = train_test_split(mel_spec_train, mel_spec_label_train, test_size=0.05, random_state=1) "
      ],
      "execution_count": 6,
      "outputs": []
    },
    {
      "cell_type": "markdown",
      "metadata": {
        "id": "CWRansEX5Wn6"
      },
      "source": [
        "**Standardize data**"
      ]
    },
    {
      "cell_type": "code",
      "metadata": {
        "colab": {
          "base_uri": "https://localhost:8080/",
          "height": 69
        },
        "id": "5laSwsntmybc",
        "outputId": "02da49a1-8e49-48e0-a504-f9bec004d369"
      },
      "source": [
        "# Standardize data\n",
        "'''\n",
        "print(mel_spec_data[7441].shape)\n",
        "scaler = StandardScaler()\n",
        "for i in range(0, len(mel_spec_train)):\n",
        "    mel_spec_train[i] = scaler.fit_transform(mel_spec_train[i])\n",
        "for i in range(0, len(mel_spec_test)):\n",
        "    mel_spec_test[i] = scaler.transform(mel_spec_test[i])\n",
        "for i in range(0, len(mel_spec_vald)):\n",
        "    mel_spec_vald[i] = scaler.transform(mel_spec_vald[i])\n",
        "\n",
        "print(mel_spec_train)\n",
        "'''"
      ],
      "execution_count": 7,
      "outputs": [
        {
          "output_type": "execute_result",
          "data": {
            "application/vnd.google.colaboratory.intrinsic+json": {
              "type": "string"
            },
            "text/plain": [
              "'\\nprint(mel_spec_data[7441].shape)\\nscaler = StandardScaler()\\nfor i in range(0, len(mel_spec_train)):\\n    mel_spec_train[i] = scaler.fit_transform(mel_spec_train[i])\\nfor i in range(0, len(mel_spec_test)):\\n    mel_spec_test[i] = scaler.transform(mel_spec_test[i])\\nfor i in range(0, len(mel_spec_vald)):\\n    mel_spec_vald[i] = scaler.transform(mel_spec_vald[i])\\n\\nprint(mel_spec_train)\\n'"
            ]
          },
          "metadata": {
            "tags": []
          },
          "execution_count": 7
        }
      ]
    },
    {
      "cell_type": "code",
      "metadata": {
        "colab": {
          "base_uri": "https://localhost:8080/",
          "height": 52
        },
        "id": "tzWlsGlxXqkL",
        "outputId": "bc04d711-ae80-4f73-f66c-670e52206ca8"
      },
      "source": [
        "'''\n",
        "scaler = StandardScaler()\n",
        "mel_spec_train = scaler.fit_transform(mel_spec_train)\n",
        "mel_spec_test = scaler.transform(mel_spec_test)\n",
        "mel_spec_vald = scaler.transform(mel_spec_vald)\n",
        "'''"
      ],
      "execution_count": 8,
      "outputs": [
        {
          "output_type": "execute_result",
          "data": {
            "application/vnd.google.colaboratory.intrinsic+json": {
              "type": "string"
            },
            "text/plain": [
              "'\\nscaler = StandardScaler()\\nmel_spec_train = scaler.fit_transform(mel_spec_train)\\nmel_spec_test = scaler.transform(mel_spec_test)\\nmel_spec_vald = scaler.transform(mel_spec_vald)\\n'"
            ]
          },
          "metadata": {
            "tags": []
          },
          "execution_count": 8
        }
      ]
    },
    {
      "cell_type": "code",
      "metadata": {
        "colab": {
          "base_uri": "https://localhost:8080/"
        },
        "id": "7XyfwGQum6eA",
        "outputId": "974f53ee-512c-4c7f-d732-2740519fbed0"
      },
      "source": [
        "\n",
        "mel_spec_train = np.expand_dims(mel_spec_train, axis=3)\n",
        "mel_spec_vald = np.expand_dims(mel_spec_vald, axis=3)\n",
        "mel_spec_test = np.expand_dims(mel_spec_test, axis=3)\n",
        "\n",
        "print(mel_spec_train.shape)"
      ],
      "execution_count": 9,
      "outputs": [
        {
          "output_type": "stream",
          "text": [
            "(6362, 108, 128, 1)\n"
          ],
          "name": "stdout"
        }
      ]
    },
    {
      "cell_type": "markdown",
      "metadata": {
        "id": "rdtBTg1RyBnx"
      },
      "source": [
        "# The Network\n"
      ]
    },
    {
      "cell_type": "code",
      "metadata": {
        "id": "q9eDDE5UyD_l"
      },
      "source": [
        "import keras\n",
        "from keras.models import Sequential,Input,Model\n",
        "from keras.layers import Dense, Dropout, Flatten\n",
        "from keras.layers import Conv2D, MaxPooling2D\n",
        "from keras.layers.normalization import BatchNormalization\n",
        "from keras.layers.advanced_activations import LeakyReLU"
      ],
      "execution_count": 10,
      "outputs": []
    },
    {
      "cell_type": "code",
      "metadata": {
        "id": "BLWSkAhNtqLQ"
      },
      "source": [
        "batch_size = 128\n",
        "epochs = 20\n",
        "num_classes = 6"
      ],
      "execution_count": 11,
      "outputs": []
    },
    {
      "cell_type": "code",
      "metadata": {
        "id": "5m6bq2-7FsW9"
      },
      "source": [
        "earlystopping = EarlyStopping(monitor =\"val_accuracy\",\n",
        "                              mode = 'auto', patience = 5,\n",
        "                              restore_best_weights = True)\n",
        "learning_rate_reduction = ReduceLROnPlateau(monitor='val_accuracy',\n",
        "                                            patience=3,\n",
        "                                            verbose=1,\n",
        "                                            factor=0.8,\n",
        "                                            min_lr=0.00001)\n",
        "checkpoint_filepath = '/tmp/checkpoint'\n",
        "model_checkpoint_callback = keras.callbacks.ModelCheckpoint(\n",
        "    filepath=checkpoint_filepath,\n",
        "    save_weights_only=True,\n",
        "    monitor='val_accuracy',\n",
        "    mode='max',\n",
        "    save_best_only=True)\n",
        "#callback = EarlyStopping(monitor='loss', patience=3)"
      ],
      "execution_count": 12,
      "outputs": []
    },
    {
      "cell_type": "code",
      "metadata": {
        "colab": {
          "base_uri": "https://localhost:8080/",
          "height": 119
        },
        "id": "Aox2Gsa3r2yI",
        "outputId": "da9cd0b3-bddc-4b13-da33-2e1631842db6"
      },
      "source": [
        "'''\n",
        "model = models.Sequential()\n",
        "model.add(layers.Conv2D(128, kernel_size=(5,5), strides=1,padding=\"same\", activation='relu',input_shape=(108,128, 1)))\n",
        "model.add(layers.BatchNormalization())\n",
        "model.add(MaxPooling2D((5, 5),padding='same'))\n",
        "\n",
        "model.add(layers.Conv2D(64, kernel_size=(5,5), strides=1,padding=\"same\", activation='relu',input_shape=(108,128, 1)))\n",
        "model.add(layers.BatchNormalization())\n",
        "model.add(MaxPooling2D((5, 5),padding='same'))\n",
        "\n",
        "\n",
        "model.add(layers.Conv2D(32, kernel_size=(5,5), strides=1,padding=\"same\", activation='relu',input_shape=(108,128, 1)))\n",
        "model.add(layers.BatchNormalization())\n",
        "model.add(MaxPooling2D((3, 3),padding='same'))\n",
        "\n",
        "model.add(layers.Flatten())\n",
        "model.add(layers.Dense(512, activation='relu'))\n",
        "model.add(layers.BatchNormalization())\n",
        "model.add(layers.Dense(6, activation=\"softmax\"))\n",
        "'''"
      ],
      "execution_count": 13,
      "outputs": [
        {
          "output_type": "execute_result",
          "data": {
            "application/vnd.google.colaboratory.intrinsic+json": {
              "type": "string"
            },
            "text/plain": [
              "'\\nmodel = models.Sequential()\\nmodel.add(layers.Conv2D(128, kernel_size=(5,5), strides=1,padding=\"same\", activation=\\'relu\\',input_shape=(108,128, 1)))\\nmodel.add(layers.BatchNormalization())\\nmodel.add(MaxPooling2D((5, 5),padding=\\'same\\'))\\n\\nmodel.add(layers.Conv2D(64, kernel_size=(5,5), strides=1,padding=\"same\", activation=\\'relu\\',input_shape=(108,128, 1)))\\nmodel.add(layers.BatchNormalization())\\nmodel.add(MaxPooling2D((5, 5),padding=\\'same\\'))\\n\\n\\nmodel.add(layers.Conv2D(32, kernel_size=(5,5), strides=1,padding=\"same\", activation=\\'relu\\',input_shape=(108,128, 1)))\\nmodel.add(layers.BatchNormalization())\\nmodel.add(MaxPooling2D((3, 3),padding=\\'same\\'))\\n\\nmodel.add(layers.Flatten())\\nmodel.add(layers.Dense(512, activation=\\'relu\\'))\\nmodel.add(layers.BatchNormalization())\\nmodel.add(layers.Dense(6, activation=\"softmax\"))\\n'"
            ]
          },
          "metadata": {
            "tags": []
          },
          "execution_count": 13
        }
      ]
    },
    {
      "cell_type": "markdown",
      "metadata": {
        "id": "SOXmeg8bx6KV"
      },
      "source": [
        "**Neural Network Architecture**"
      ]
    },
    {
      "cell_type": "code",
      "metadata": {
        "id": "Y2sElRl5u9ME"
      },
      "source": [
        "\n",
        "fashion_model = models.Sequential()\n",
        "\n",
        "fashion_model.add(layers.Conv2D(16, kernel_size=(3,3), strides=1,padding=\"same\", activation='relu',input_shape=(108,128, 1)))\n",
        "fashion_model.add(layers.BatchNormalization())\n",
        "fashion_model.add(MaxPooling2D((3, 3),padding='same'))\n",
        "\n",
        "\n",
        "fashion_model.add(layers.Conv2D(32, kernel_size=(3,3), strides=1,padding=\"same\", activation='relu'))\n",
        "fashion_model.add(layers.BatchNormalization())\n",
        "fashion_model.add(MaxPooling2D((3, 3),padding='same'))\n",
        "\n",
        "\n",
        "fashion_model.add(layers.Conv2D(64, kernel_size=(3,3), strides=1, padding='same', activation='relu'))\n",
        "fashion_model.add(layers.BatchNormalization())\n",
        "fashion_model.add(MaxPooling2D((5, 5),padding='same'))\n",
        "\n",
        "'''\n",
        "fashion_model.add(layers.Conv2D(128, kernel_size=(3,3), strides=1, padding='same', activation='relu'))\n",
        "fashion_model.add(layers.BatchNormalization())\n",
        "fashion_model.add(MaxPooling2D((5, 5),padding='same'))\n",
        "'''\n",
        "\n",
        "fashion_model.add(layers.Flatten())\n",
        "fashion_model.add(layers.Dense(128, activation='relu'))\n",
        "fashion_model.add(layers.Dropout(0.25))\n",
        "fashion_model.add(layers.Dense(num_classes, activation=\"softmax\"))\n"
      ],
      "execution_count": 14,
      "outputs": []
    },
    {
      "cell_type": "code",
      "metadata": {
        "colab": {
          "base_uri": "https://localhost:8080/",
          "height": 137
        },
        "id": "3vt7w1kVW-qM",
        "outputId": "94fddb93-4a0e-4274-c0fd-80ede9550f43"
      },
      "source": [
        "'''\n",
        "fashion_model = models.Sequential()\n",
        "\n",
        "fashion_model.add(layers.Conv2D(16, kernel_size=(3,3), strides=1,padding=\"same\", activation='relu',input_shape=(108,128, 1)))\n",
        "fashion_model.add(layers.BatchNormalization())\n",
        "fashion_model.add(layers.MaxPooling2D(pool_size=(5,5), strides = 2, padding = 'same'))\n",
        "\n",
        "\n",
        "fashion_model.add(layers.Conv2D(32, kernel_size=(3,3), strides=1,padding=\"same\", activation='relu'))\n",
        "fashion_model.add(layers.BatchNormalization())\n",
        "fashion_model.add(layers.MaxPooling2D(pool_size=(5,5), strides = 2, padding = 'same'))\n",
        "\n",
        "\n",
        "\n",
        "fashion_model.add(layers.Conv2D(64,kernel_size=(3,3), strides=1, padding='same', activation='relu'))\n",
        "fashion_model.add(layers.BatchNormalization())\n",
        "fashion_model.add(layers.MaxPooling2D(pool_size=(5,5), strides = 2, padding = 'same'))\n",
        "\n",
        "\n",
        "\n",
        "fashion_model.add(layers.Flatten())\n",
        "fashion_model.add(layers.Dense(64, activation='relu'))\n",
        "fashion_model.add(layers.Dropout(0.25))\n",
        "fashion_model.add(layers.Dense(31, activation='relu'))\n",
        "fashion_model.add(layers.BatchNormalization())       \n",
        "fashion_model.add(layers.Dense(num_classes, activation=\"softmax\"))\n",
        "'''"
      ],
      "execution_count": 15,
      "outputs": [
        {
          "output_type": "execute_result",
          "data": {
            "application/vnd.google.colaboratory.intrinsic+json": {
              "type": "string"
            },
            "text/plain": [
              "'\\nfashion_model = models.Sequential()\\n\\nfashion_model.add(layers.Conv2D(16, kernel_size=(3,3), strides=1,padding=\"same\", activation=\\'relu\\',input_shape=(108,128, 1)))\\nfashion_model.add(layers.BatchNormalization())\\nfashion_model.add(layers.MaxPooling2D(pool_size=(5,5), strides = 2, padding = \\'same\\'))\\n\\n\\nfashion_model.add(layers.Conv2D(32, kernel_size=(3,3), strides=1,padding=\"same\", activation=\\'relu\\'))\\nfashion_model.add(layers.BatchNormalization())\\nfashion_model.add(layers.MaxPooling2D(pool_size=(5,5), strides = 2, padding = \\'same\\'))\\n\\n\\n\\nfashion_model.add(layers.Conv2D(64,kernel_size=(3,3), strides=1, padding=\\'same\\', activation=\\'relu\\'))\\nfashion_model.add(layers.BatchNormalization())\\nfashion_model.add(layers.MaxPooling2D(pool_size=(5,5), strides = 2, padding = \\'same\\'))\\n\\n\\n\\nfashion_model.add(layers.Flatten())\\nfashion_model.add(layers.Dense(64, activation=\\'relu\\'))\\nfashion_model.add(layers.Dropout(0.25))\\nfashion_model.add(layers.Dense(31, activation=\\'relu\\'))\\nfashion_model.add(layers.BatchNormalization())       \\nfashion_model.add(layers.Dense(num_classes, activation=\"softmax\"))\\n'"
            ]
          },
          "metadata": {
            "tags": []
          },
          "execution_count": 15
        }
      ]
    },
    {
      "cell_type": "markdown",
      "metadata": {
        "id": "oHD9asDXxKxj"
      },
      "source": [
        "**Compile the Model**"
      ]
    },
    {
      "cell_type": "code",
      "metadata": {
        "id": "-92nOLTlxNV9"
      },
      "source": [
        "fashion_model.compile(loss=keras.losses.categorical_crossentropy, optimizer='rmsprop',metrics=['accuracy'])"
      ],
      "execution_count": 16,
      "outputs": []
    },
    {
      "cell_type": "code",
      "metadata": {
        "colab": {
          "base_uri": "https://localhost:8080/"
        },
        "id": "sUPqFFiZxZ_Y",
        "outputId": "92d46650-5f41-4401-c525-48a0219c6944"
      },
      "source": [
        "fashion_model.summary()"
      ],
      "execution_count": 17,
      "outputs": [
        {
          "output_type": "stream",
          "text": [
            "Model: \"sequential\"\n",
            "_________________________________________________________________\n",
            "Layer (type)                 Output Shape              Param #   \n",
            "=================================================================\n",
            "conv2d (Conv2D)              (None, 108, 128, 16)      160       \n",
            "_________________________________________________________________\n",
            "batch_normalization (BatchNo (None, 108, 128, 16)      64        \n",
            "_________________________________________________________________\n",
            "max_pooling2d (MaxPooling2D) (None, 36, 43, 16)        0         \n",
            "_________________________________________________________________\n",
            "conv2d_1 (Conv2D)            (None, 36, 43, 32)        4640      \n",
            "_________________________________________________________________\n",
            "batch_normalization_1 (Batch (None, 36, 43, 32)        128       \n",
            "_________________________________________________________________\n",
            "max_pooling2d_1 (MaxPooling2 (None, 12, 15, 32)        0         \n",
            "_________________________________________________________________\n",
            "conv2d_2 (Conv2D)            (None, 12, 15, 64)        18496     \n",
            "_________________________________________________________________\n",
            "batch_normalization_2 (Batch (None, 12, 15, 64)        256       \n",
            "_________________________________________________________________\n",
            "max_pooling2d_2 (MaxPooling2 (None, 3, 3, 64)          0         \n",
            "_________________________________________________________________\n",
            "flatten (Flatten)            (None, 576)               0         \n",
            "_________________________________________________________________\n",
            "dense (Dense)                (None, 128)               73856     \n",
            "_________________________________________________________________\n",
            "dropout (Dropout)            (None, 128)               0         \n",
            "_________________________________________________________________\n",
            "dense_1 (Dense)              (None, 6)                 774       \n",
            "=================================================================\n",
            "Total params: 98,374\n",
            "Trainable params: 98,150\n",
            "Non-trainable params: 224\n",
            "_________________________________________________________________\n"
          ],
          "name": "stdout"
        }
      ]
    },
    {
      "cell_type": "markdown",
      "metadata": {
        "id": "GlbTz8r8xkDY"
      },
      "source": [
        "**Train the Model**"
      ]
    },
    {
      "cell_type": "code",
      "metadata": {
        "colab": {
          "base_uri": "https://localhost:8080/"
        },
        "id": "A1zz8DLHooG6",
        "outputId": "882da933-2b52-4fdd-c700-7267ead4776b"
      },
      "source": [
        "\n",
        "#fashion_model.load_weights(checkpoint_filepath)\n",
        "\n",
        "history = fashion_model.fit(mel_spec_train, mel_spec_label_train, validation_data=(mel_spec_vald, mel_spec_label_vald),epochs=20, batch_size=batch_size,verbose=1, callbacks=[model_checkpoint_callback,learning_rate_reduction])\n"
      ],
      "execution_count": 18,
      "outputs": [
        {
          "output_type": "stream",
          "text": [
            "Epoch 1/20\n",
            "50/50 [==============================] - 87s 1s/step - loss: 2.3284 - accuracy: 0.3077 - val_loss: 1.7555 - val_accuracy: 0.3493\n",
            "Epoch 2/20\n",
            "50/50 [==============================] - 66s 1s/step - loss: 1.6309 - accuracy: 0.3461 - val_loss: 1.4999 - val_accuracy: 0.3015\n",
            "Epoch 3/20\n",
            "50/50 [==============================] - 66s 1s/step - loss: 1.5505 - accuracy: 0.3730 - val_loss: 1.4735 - val_accuracy: 0.4657\n",
            "Epoch 4/20\n",
            "50/50 [==============================] - 66s 1s/step - loss: 1.4914 - accuracy: 0.3941 - val_loss: 1.4299 - val_accuracy: 0.4627\n",
            "Epoch 5/20\n",
            "50/50 [==============================] - 66s 1s/step - loss: 1.4503 - accuracy: 0.4190 - val_loss: 1.4093 - val_accuracy: 0.3881\n",
            "Epoch 6/20\n",
            "50/50 [==============================] - 66s 1s/step - loss: 1.4114 - accuracy: 0.4413 - val_loss: 1.4507 - val_accuracy: 0.3104\n",
            "\n",
            "Epoch 00006: ReduceLROnPlateau reducing learning rate to 0.000800000037997961.\n",
            "Epoch 7/20\n",
            "50/50 [==============================] - 66s 1s/step - loss: 1.3734 - accuracy: 0.4506 - val_loss: 1.3918 - val_accuracy: 0.3821\n",
            "Epoch 8/20\n",
            "50/50 [==============================] - 66s 1s/step - loss: 1.3675 - accuracy: 0.4649 - val_loss: 1.3680 - val_accuracy: 0.4328\n",
            "Epoch 9/20\n",
            "50/50 [==============================] - 66s 1s/step - loss: 1.3501 - accuracy: 0.4738 - val_loss: 1.3344 - val_accuracy: 0.4776\n",
            "Epoch 10/20\n",
            "50/50 [==============================] - 66s 1s/step - loss: 1.3176 - accuracy: 0.4758 - val_loss: 1.2817 - val_accuracy: 0.5224\n",
            "Epoch 11/20\n",
            "50/50 [==============================] - 66s 1s/step - loss: 1.3157 - accuracy: 0.4793 - val_loss: 1.6161 - val_accuracy: 0.3910\n",
            "Epoch 12/20\n",
            "50/50 [==============================] - 71s 1s/step - loss: 1.2830 - accuracy: 0.4888 - val_loss: 1.5539 - val_accuracy: 0.4179\n",
            "Epoch 13/20\n",
            "50/50 [==============================] - 67s 1s/step - loss: 1.2926 - accuracy: 0.4877 - val_loss: 1.4031 - val_accuracy: 0.4657\n",
            "\n",
            "Epoch 00013: ReduceLROnPlateau reducing learning rate to 0.0006400000303983689.\n",
            "Epoch 14/20\n",
            "50/50 [==============================] - 69s 1s/step - loss: 1.2549 - accuracy: 0.5079 - val_loss: 1.3585 - val_accuracy: 0.4537\n",
            "Epoch 15/20\n",
            "50/50 [==============================] - 68s 1s/step - loss: 1.2516 - accuracy: 0.5090 - val_loss: 1.3755 - val_accuracy: 0.4478\n",
            "Epoch 16/20\n",
            "50/50 [==============================] - 68s 1s/step - loss: 1.2237 - accuracy: 0.5220 - val_loss: 1.3383 - val_accuracy: 0.4478\n",
            "\n",
            "Epoch 00016: ReduceLROnPlateau reducing learning rate to 0.0005120000336319208.\n",
            "Epoch 17/20\n",
            "50/50 [==============================] - 67s 1s/step - loss: 1.2052 - accuracy: 0.5223 - val_loss: 1.2371 - val_accuracy: 0.5373\n",
            "Epoch 18/20\n",
            "50/50 [==============================] - 66s 1s/step - loss: 1.2054 - accuracy: 0.5258 - val_loss: 1.3674 - val_accuracy: 0.4687\n",
            "Epoch 19/20\n",
            "50/50 [==============================] - 67s 1s/step - loss: 1.1821 - accuracy: 0.5257 - val_loss: 1.5070 - val_accuracy: 0.3940\n",
            "Epoch 20/20\n",
            "50/50 [==============================] - 67s 1s/step - loss: 1.1575 - accuracy: 0.5373 - val_loss: 1.2976 - val_accuracy: 0.4866\n",
            "\n",
            "Epoch 00020: ReduceLROnPlateau reducing learning rate to 0.00040960004553198815.\n"
          ],
          "name": "stdout"
        }
      ]
    },
    {
      "cell_type": "markdown",
      "metadata": {
        "id": "yhp2XaTu3Agt"
      },
      "source": [
        "**Evalution On training and val**"
      ]
    },
    {
      "cell_type": "code",
      "metadata": {
        "id": "NdVd3_fqEnGo",
        "colab": {
          "base_uri": "https://localhost:8080/",
          "height": 545
        },
        "outputId": "6ca00e78-6699-4331-be4e-f56849e34b86"
      },
      "source": [
        "accuracy = history.history['accuracy']\n",
        "val_accuracy = history.history['val_accuracy']\n",
        "loss = history.history['loss']\n",
        "val_loss = history.history['val_loss']\n",
        "epochs = range(len(accuracy))\n",
        "plt.plot(epochs, accuracy, 'bo', label='Training accuracy')\n",
        "plt.plot(epochs, val_accuracy, 'b', label='Validation accuracy')\n",
        "plt.title('Training and validation accuracy')\n",
        "plt.legend()\n",
        "plt.figure()\n",
        "plt.plot(epochs, loss, 'bo', label='Training loss')\n",
        "plt.plot(epochs, val_loss, 'b', label='Validation loss')\n",
        "plt.title('Training and validation loss')\n",
        "plt.legend()\n",
        "plt.show()"
      ],
      "execution_count": 19,
      "outputs": [
        {
          "output_type": "display_data",
          "data": {
            "image/png": "[encoded data removed]",
            "text/plain": [
              "<Figure size 432x288 with 1 Axes>"
            ]
          },
          "metadata": {
            "tags": [],
            "needs_background": "light"
          }
        },
        {
          "output_type": "display_data",
          "data": {
            "image/png": "[encoded data removed]",
            "text/plain": [
              "<Figure size 432x288 with 1 Axes>"
            ]
          },
          "metadata": {
            "tags": [],
            "needs_background": "light"
          }
        }
      ]
    },
    {
      "cell_type": "markdown",
      "metadata": {
        "id": "fbIXmCQM3A_y"
      },
      "source": [
        "**Save/Reload Models**"
      ]
    },
    {
      "cell_type": "code",
      "metadata": {
        "id": "pTCPphZY6rbB",
        "colab": {
          "base_uri": "https://localhost:8080/"
        },
        "outputId": "9844078e-8e20-434e-c9cf-a5d6eb890f72"
      },
      "source": [
        "\n",
        "from keras.models import load_model\n",
        "fashion_model.save(\"/content/drive/MyDrive/emotionDataset/mel_spec_model_best\")"
      ],
      "execution_count": 20,
      "outputs": [
        {
          "output_type": "stream",
          "text": [
            "INFO:tensorflow:Assets written to: /content/drive/MyDrive/emotionDataset/mel_spec_model_best/assets\n"
          ],
          "name": "stdout"
        }
      ]
    },
    {
      "cell_type": "code",
      "metadata": {
        "colab": {
          "base_uri": "https://localhost:8080/"
        },
        "id": "kqw_CQBcxNaJ",
        "outputId": "60226ecb-5829-4b5c-de2e-a409a7529811"
      },
      "source": [
        "fashion_model.load_weights(checkpoint_filepath)"
      ],
      "execution_count": 34,
      "outputs": [
        {
          "output_type": "execute_result",
          "data": {
            "text/plain": [
              "<tensorflow.python.training.tracking.util.CheckpointLoadStatus at 0x7f3ab18a0510>"
            ]
          },
          "metadata": {
            "tags": []
          },
          "execution_count": 34
        }
      ]
    },
    {
      "cell_type": "code",
      "metadata": {
        "id": "9Jj1I29KgU5v"
      },
      "source": [
        "predicted_classes = fashion_model.predict(mel_spec_test)\n",
        "predicted_classes = np.argmax(np.round(predicted_classes),axis=1)"
      ],
      "execution_count": 35,
      "outputs": []
    },
    {
      "cell_type": "code",
      "metadata": {
        "id": "YJeD-JBcgVA9"
      },
      "source": [
        "mel_spec_label = np.argmax(np.round(mel_spec_label_test),axis=1)"
      ],
      "execution_count": 36,
      "outputs": []
    },
    {
      "cell_type": "code",
      "metadata": {
        "colab": {
          "base_uri": "https://localhost:8080/"
        },
        "id": "b53BvTrjgVG3",
        "outputId": "bc5eb5d4-8212-4d0e-cf37-9418f999727e"
      },
      "source": [
        "correct = np.where(predicted_classes==mel_spec_label)[0]\n",
        "print (\"Found %d correct labels\" % len(correct))\n",
        "\n",
        "incorrect = np.where(predicted_classes!=mel_spec_label)[0]\n",
        "print (\"Found %d incorrect labels\" % len(incorrect))"
      ],
      "execution_count": 37,
      "outputs": [
        {
          "output_type": "stream",
          "text": [
            "Found 226 correct labels\n",
            "Found 519 incorrect labels\n"
          ],
          "name": "stdout"
        }
      ]
    },
    {
      "cell_type": "code",
      "metadata": {
        "colab": {
          "base_uri": "https://localhost:8080/"
        },
        "id": "JHSUZddegVMm",
        "outputId": "a10212e4-0f81-4e05-aed5-e33a3e14ebac"
      },
      "source": [
        "from sklearn.metrics import classification_report\n",
        "target_names = [\"Class {}\".format(i) for i in range(num_classes)]\n",
        "print(classification_report(mel_spec_label, predicted_classes, target_names=lb.classes_))"
      ],
      "execution_count": 44,
      "outputs": [
        {
          "output_type": "stream",
          "text": [
            "              precision    recall  f1-score   support\n",
            "\n",
            "       angry       0.20      0.89      0.33       122\n",
            "     disgust       0.60      0.21      0.31       114\n",
            "        fear       0.48      0.09      0.16       127\n",
            "       happy       0.51      0.14      0.21       133\n",
            "     neutral       0.65      0.11      0.19       115\n",
            "         sad       0.59      0.38      0.46       134\n",
            "\n",
            "    accuracy                           0.30       745\n",
            "   macro avg       0.51      0.30      0.28       745\n",
            "weighted avg       0.51      0.30      0.28       745\n",
            "\n"
          ],
          "name": "stdout"
        }
      ]
    },
    {
      "cell_type": "code",
      "metadata": {
        "id": "MrjwNUeoxDvN"
      },
      "source": [
        "from sklearn.metrics import confusion_matrix\n",
        "cm = confusion_matrix(y_true=mel_spec_label, y_pred=predicted_classes)"
      ],
      "execution_count": 39,
      "outputs": []
    },
    {
      "cell_type": "code",
      "metadata": {
        "id": "MtCKkfF1x3tS"
      },
      "source": [
        "def plot_confusion_matrix(cm, classes,\n",
        "                        normalize=False,\n",
        "                        title='Confusion matrix',\n",
        "                        cmap=plt.cm.Blues):\n",
        "    \"\"\"\n",
        "    This function prints and plots the confusion matrix.\n",
        "    Normalization can be applied by setting `normalize=True`.\n",
        "    \"\"\"\n",
        "    plt.imshow(cm, interpolation='nearest', cmap=cmap)\n",
        "    plt.title(title)\n",
        "    plt.colorbar()\n",
        "    tick_marks = np.arange(len(classes))\n",
        "    plt.xticks(tick_marks, classes, rotation=45)\n",
        "    plt.yticks(tick_marks, classes)\n",
        "\n",
        "    if normalize:\n",
        "        cm = cm.astype('float') / cm.sum(axis=1)[:, np.newaxis]\n",
        "        print(\"Normalized confusion matrix\")\n",
        "    else:\n",
        "        print('Confusion matrix, without normalization')\n",
        "\n",
        "    print(cm)\n",
        "\n",
        "    thresh = cm.max() / 2.\n",
        "    for i, j in itertools.product(range(cm.shape[0]), range(cm.shape[1])):\n",
        "        plt.text(j, i, cm[i, j],\n",
        "            horizontalalignment=\"center\",\n",
        "            color=\"white\" if cm[i, j] > thresh else \"black\")\n",
        "\n",
        "    plt.tight_layout()\n",
        "    plt.ylabel('True label')\n",
        "    plt.xlabel('Predicted label')"
      ],
      "execution_count": 40,
      "outputs": []
    },
    {
      "cell_type": "code",
      "metadata": {
        "colab": {
          "base_uri": "https://localhost:8080/",
          "height": 429
        },
        "id": "vHDOEeW9x3wk",
        "outputId": "1f296dea-f105-41b0-c44d-cad9b8a58e75"
      },
      "source": [
        "import itertools\n",
        "\n",
        "plot_confusion_matrix(cm=cm, classes=lb.classes_, title='CREMA Dataset Speech Recognition')"
      ],
      "execution_count": 42,
      "outputs": [
        {
          "output_type": "stream",
          "text": [
            "Confusion matrix, without normalization\n",
            "[[108   3   4   7   0   0]\n",
            " [ 72  24   0   3   3  12]\n",
            " [ 87   2  12   7   2  17]\n",
            " [107   2   4  18   0   2]\n",
            " [ 91   4   3   0  13   4]\n",
            " [ 74   5   2   0   2  51]]\n"
          ],
          "name": "stdout"
        },
        {
          "output_type": "display_data",
          "data": {
            "image/png": "[encoded data removed]",
            "text/plain": [
              "<Figure size 432x288 with 2 Axes>"
            ]
          },
          "metadata": {
            "tags": [],
            "needs_background": "light"
          }
        }
      ]
    },
    {
      "cell_type": "code",
      "metadata": {
        "id": "SgsHfF386zHj",
        "colab": {
          "base_uri": "https://localhost:8080/",
          "height": 145
        },
        "outputId": "b3ef8987-f8a6-4b98-ff5c-8fe5f538e662"
      },
      "source": [
        "'''\n",
        "my_model = load_model(\"/content/drive/MyDrive/emotionDataset/mel_spec_model_922\")\n",
        "my_model.load_weights(checkpoint_filepath)"
      ],
      "execution_count": 25,
      "outputs": [
        {
          "output_type": "error",
          "ename": "SyntaxError",
          "evalue": "ignored",
          "traceback": [
            "\u001b[0;36m  File \u001b[0;32m\"<ipython-input-25-f193fedb619c>\"\u001b[0;36m, line \u001b[0;32m3\u001b[0m\n\u001b[0;31m    my_model.load_weights(checkpoint_filepath)\u001b[0m\n\u001b[0m                                              \n^\u001b[0m\n\u001b[0;31mSyntaxError\u001b[0m\u001b[0;31m:\u001b[0m EOF while scanning triple-quoted string literal\n"
          ]
        }
      ]
    },
    {
      "cell_type": "code",
      "metadata": {
        "id": "vWramq7kw3_J"
      },
      "source": [
        "'''\n",
        "my_model.load_weights(checkpoint_filepath)\n",
        "history2 = my_model.fit(mel_spec_train, mel_spec_label_train, validation_data=(mel_spec_vald, mel_spec_label_vald),epochs=20, batch_size=batch_size,verbose=1, callbacks=[model_checkpoint_callback,learning_rate_reduction])\n"
      ],
      "execution_count": null,
      "outputs": []
    }
  ]
}