{
  "nbformat": 4,
  "nbformat_minor": 0,
  "metadata": {
    "colab": {
      "name": "ZCR -TRAINtheMODEL.ipynb",
      "provenance": [],
      "collapsed_sections": [],
      "include_colab_link": true
    },
    "kernelspec": {
      "display_name": "Python 3",
      "name": "python3"
    },
    "language_info": {
      "name": "python"
    }
  },
  "cells": [
    {
      "cell_type": "markdown",
      "metadata": {
        "id": "view-in-github",
        "colab_type": "text"
      },
      "source": [
        "<a href=\"https://colab.research.google.com/github/habiib1999/Speech-Emotion-Recognition/blob/main/ZCR_TRAINtheMODEL.ipynb\" target=\"_parent\"><img src=\"https://colab.research.google.com/assets/colab-badge.svg\" alt=\"Open In Colab\"/></a>"
      ]
    },
    {
      "cell_type": "code",
      "metadata": {
        "colab": {
          "base_uri": "https://localhost:8080/"
        },
        "id": "KpZ42aw36mZs",
        "outputId": "fe8f9c5a-666e-4a0f-9a32-a55383d0e616"
      },
      "source": [
        "from google.colab import drive\n",
        "drive.mount('/content/drive')"
      ],
      "execution_count": null,
      "outputs": [
        {
          "output_type": "stream",
          "text": [
            "Drive already mounted at /content/drive; to attempt to forcibly remount, call drive.mount(\"/content/drive\", force_remount=True).\n"
          ],
          "name": "stdout"
        }
      ]
    },
    {
      "cell_type": "code",
      "metadata": {
        "id": "mEwDO1iz6Pt7"
      },
      "source": [
        "import numpy as np\n",
        "import matplotlib.pyplot as plt\n",
        "from scipy.io import wavfile\n",
        "from IPython.display import Audio\n",
        "import os\n",
        "import re\n",
        " \n",
        "import librosa\n",
        "import librosa.display\n",
        "import matplotlib.pyplot as plt\n",
        "import numpy as np\n",
        "import pandas as pd\n",
        "import seaborn as sns\n",
        "from IPython.display import Audio\n",
        "# from entropy import spectral_entropy\n",
        "from keras import layers\n",
        "from keras import models\n",
        "from keras.utils import np_utils\n",
        "from sklearn.model_selection import train_test_split\n",
        "from sklearn.preprocessing import LabelEncoder, StandardScaler\n",
        "from tensorflow.python.keras.callbacks import EarlyStopping, ReduceLROnPlateau\n",
        " \n",
        "import itertools"
      ],
      "execution_count": null,
      "outputs": []
    },
    {
      "cell_type": "code",
      "metadata": {
        "id": "YLldtkiR5Ztu"
      },
      "source": [
        "\n",
        "energy_data = np.load(\"/content/drive/MyDrive/Speech Recognition/Data/crema_zcr_data_feature2.npy\",allow_pickle=True) \n",
        "energy_labels = np.load( \"/content/drive/MyDrive/Speech Recognition/Data/crema_zcr_labels_feature2.npy\",allow_pickle=True)\n",
        "energy_labels = np.repeat(energy_labels, 5)"
      ],
      "execution_count": null,
      "outputs": []
    },
    {
      "cell_type": "code",
      "metadata": {
        "id": "H0UBb3NrkSW-"
      },
      "source": [
        "# FILL NaN\n",
        "def numpy_fillna(data):\n",
        "    # Get lengths of each row of data\n",
        "    lens = np.array([len(i) for i in data])\n",
        "\n",
        "    # Mask of valid places in each row\n",
        "    mask = np.arange(lens.max()) < lens[:,None]\n",
        "\n",
        "    # Setup output array and put elements from data into masked positions\n",
        "    out = np.zeros(mask.shape, dtype=data.dtype)\n",
        "    out[mask] = np.concatenate(data)\n",
        "    return out\n",
        "energy_data = numpy_fillna(energy_data)"
      ],
      "execution_count": null,
      "outputs": []
    },
    {
      "cell_type": "markdown",
      "metadata": {
        "id": "v3ZNHZ445Ec3"
      },
      "source": [
        "**Hot Encoding for labels**"
      ]
    },
    {
      "cell_type": "code",
      "metadata": {
        "colab": {
          "base_uri": "https://localhost:8080/"
        },
        "id": "rlmhyxfOlfdo",
        "outputId": "84066763-85ea-46d6-f8a1-0375324c3600"
      },
      "source": [
        "# Encode labels\n",
        "lb = LabelEncoder()\n",
        "energy_labels = np_utils.to_categorical(lb.fit_transform(energy_labels))\n",
        "print(lb.classes_)\n",
        "print(energy_labels)"
      ],
      "execution_count": null,
      "outputs": [
        {
          "output_type": "stream",
          "text": [
            "['angry' 'disgust' 'fear' 'happy' 'neutral' 'sad']\n",
            "[[0. 0. 1. 0. 0. 0.]\n",
            " [0. 0. 1. 0. 0. 0.]\n",
            " [0. 0. 1. 0. 0. 0.]\n",
            " ...\n",
            " [1. 0. 0. 0. 0. 0.]\n",
            " [1. 0. 0. 0. 0. 0.]\n",
            " [1. 0. 0. 0. 0. 0.]]\n"
          ],
          "name": "stdout"
        }
      ]
    },
    {
      "cell_type": "code",
      "metadata": {
        "colab": {
          "base_uri": "https://localhost:8080/"
        },
        "id": "B1DdQeZcrQCQ",
        "outputId": "cce7aae2-2893-4430-fb63-103ae429188b"
      },
      "source": [
        "print(energy_labels.shape)"
      ],
      "execution_count": null,
      "outputs": [
        {
          "output_type": "stream",
          "text": [
            "(37210, 6)\n"
          ],
          "name": "stdout"
        }
      ]
    },
    {
      "cell_type": "markdown",
      "metadata": {
        "id": "8ycIF70_5Ikx"
      },
      "source": [
        "**Split Data to training, Test and Val**"
      ]
    },
    {
      "cell_type": "code",
      "metadata": {
        "id": "3uyHtzo4lkaR"
      },
      "source": [
        "# # Split data\n",
        "# energy_train, energy_test, energy_label_train, energy_label_test = train_test_split(energy_data, energy_labels, test_size=0.1)\n",
        "\n",
        "# energy_train, energy_vald, energy_label_train, energy_label_vald = train_test_split(energy_train, energy_label_train, test_size=0.05) "
      ],
      "execution_count": null,
      "outputs": []
    },
    {
      "cell_type": "markdown",
      "metadata": {
        "id": "CWRansEX5Wn6"
      },
      "source": [
        "**Standardize data**"
      ]
    },
    {
      "cell_type": "code",
      "metadata": {
        "colab": {
          "base_uri": "https://localhost:8080/"
        },
        "id": "5laSwsntmybc",
        "outputId": "7e37664a-fcbd-4179-8eca-7f896d965620"
      },
      "source": [
        "# Standardize data\n",
        "\n",
        "\n",
        "print(energy_train)\n",
        "scaler = StandardScaler()\n",
        "energy_train = scaler.fit_transform(energy_train)\n",
        "energy_test = scaler.transform(energy_test)\n",
        "energy_vald = scaler.transform(energy_vald)\n",
        "\n",
        "\n",
        "print(pd.DataFrame( energy_train))"
      ],
      "execution_count": null,
      "outputs": [
        {
          "output_type": "stream",
          "text": [
            "[[0.275390625 0.40576171875 0.54052734375 ... 0 0 0]\n",
            " [0.015625 0.02978515625 0.0458984375 ... 0 0 0]\n",
            " [0.02490234375 0.068359375 0.1630859375 ... 0 0 0]\n",
            " ...\n",
            " [0.14990234375 0.23876953125 0.296875 ... 0 0 0]\n",
            " [0.02880859375 0.04345703125 0.0595703125 ... 0 0 0]\n",
            " [0.029296875 0.04296875 0.06689453125 ... 0 0 0]]\n",
            "            0         1         2    ...       105       106       107\n",
            "0      4.361571  4.377402  4.515770  ... -0.255473 -0.254906 -0.244465\n",
            "1     -0.669023 -0.607952 -0.566895  ... -0.255473 -0.254906 -0.244465\n",
            "2     -0.489358 -0.096467  0.637290  ... -0.255473 -0.254906 -0.244465\n",
            "3      0.134738  0.110716  0.446627  ... -0.255473 -0.254906 -0.244465\n",
            "4     -0.281326 -0.213008 -0.025012  ... -0.255473 -0.254906 -0.244465\n",
            "...         ...       ...       ...  ...       ...       ...       ...\n",
            "31809 -0.404254 -0.426666 -0.501668  ... -0.255473 -0.254906 -0.244465\n",
            "31810 -0.565006 -0.620901 -0.672261  ... -0.255473 -0.254906 -0.244465\n",
            "31811  1.931378  2.163128  2.012068  ... -0.255473 -0.254906 -0.244465\n",
            "31812 -0.413710 -0.426666 -0.426407  ... -0.255473 -0.254906 -0.244465\n",
            "31813 -0.404254 -0.433141 -0.351145  ... -0.255473 -0.254906 -0.244465\n",
            "\n",
            "[31814 rows x 108 columns]\n"
          ],
          "name": "stdout"
        }
      ]
    },
    {
      "cell_type": "code",
      "metadata": {
        "colab": {
          "base_uri": "https://localhost:8080/"
        },
        "id": "7XyfwGQum6eA",
        "outputId": "02ea1c46-3dbc-4aff-ad0b-8213f7cca73d"
      },
      "source": [
        "# We have to use 1-dimensional CNN which need specifical shape:\n",
        "energy_train = np.expand_dims(energy_train, axis=2)\n",
        "energy_vald = np.expand_dims(energy_vald, axis=2)\n",
        "energy_test = np.expand_dims(energy_test, axis=2)\n",
        "\n",
        "print(energy_train.shape)"
      ],
      "execution_count": null,
      "outputs": [
        {
          "output_type": "stream",
          "text": [
            "(31814, 108, 1)\n"
          ],
          "name": "stdout"
        }
      ]
    },
    {
      "cell_type": "markdown",
      "metadata": {
        "id": "rdtBTg1RyBnx"
      },
      "source": [
        "# The Network\n"
      ]
    },
    {
      "cell_type": "code",
      "metadata": {
        "id": "q9eDDE5UyD_l"
      },
      "source": [
        "import keras\n",
        "from keras.models import Sequential,Input,Model\n",
        "from keras.layers import Dense, Dropout, Flatten\n",
        "from keras.layers import Conv2D, MaxPooling2D\n",
        "from keras.layers.normalization import BatchNormalization\n",
        "from keras.layers.advanced_activations import LeakyReLU"
      ],
      "execution_count": null,
      "outputs": []
    },
    {
      "cell_type": "code",
      "metadata": {
        "id": "BLWSkAhNtqLQ"
      },
      "source": [
        "batch_size = 256\n",
        "epochs = 30\n",
        "num_classes = 6"
      ],
      "execution_count": null,
      "outputs": []
    },
    {
      "cell_type": "code",
      "metadata": {
        "id": "5m6bq2-7FsW9"
      },
      "source": [
        "earlystopping = EarlyStopping(monitor =\"val_accuracy\",\n",
        "                              mode = 'auto', patience = 2,\n",
        "                              restore_best_weights = True)\n",
        "learning_rate_reduction = ReduceLROnPlateau(monitor='val_accuracy',\n",
        "                                            patience=2,\n",
        "                                            verbose=1,\n",
        "                                            factor=0.5,\n",
        "                                            min_lr=0.0001)\n",
        "checkpoint_filepath = \"/content/drive/MyDrive/emotionDataset\"\n",
        "model_checkpoint_callback = keras.callbacks.ModelCheckpoint(\n",
        "    filepath=checkpoint_filepath,\n",
        "    save_weights_only=True,\n",
        "    monitor='val_accuracy',\n",
        "    mode='max',\n",
        "    save_best_only=True)\n",
        "#callback = EarlyStopping(monitor='loss', patience=3)"
      ],
      "execution_count": null,
      "outputs": []
    },
    {
      "cell_type": "code",
      "metadata": {
        "colab": {
          "base_uri": "https://localhost:8080/",
          "height": 120
        },
        "id": "7WIu01KgxCip",
        "outputId": "3f05f639-0fa4-4a49-81a9-edce3ba5eeb7"
      },
      "source": [
        " '''\n",
        " model = models.Sequential()\n",
        "model.add(layers.Conv1D(512, kernel_size=5, strides=1,\n",
        "                        padding=\"same\", activation=\"relu\",\n",
        "                        input_shape=(energy_train.shape[1], 1)))\n",
        "model.add(layers.BatchNormalization())\n",
        "model.add(layers.MaxPool1D(pool_size=5, strides=2, padding=\"same\"))\n",
        "\n",
        "model.add(layers.Conv1D(512, kernel_size=5, strides=1,\n",
        "                        padding=\"same\", activation=\"relu\"))\n",
        "model.add(layers.BatchNormalization())\n",
        "model.add(layers.MaxPool1D(pool_size=5, strides=2, padding=\"same\"))\n",
        "\n",
        "model.add(layers.Conv1D(256, kernel_size=5, strides=1,\n",
        "                        padding=\"same\", activation=\"relu\"))\n",
        "model.add(layers.BatchNormalization())\n",
        "model.add(layers.MaxPool1D(pool_size=5, strides=2, padding=\"same\"))\n",
        "\n",
        "model.add(layers.Conv1D(256, kernel_size=3, strides=1, padding='same', activation='relu'))\n",
        "model.add(layers.BatchNormalization())\n",
        "model.add(layers.MaxPooling1D(pool_size=5, strides = 2, padding = 'same'))\n",
        "\n",
        "model.add(layers.Conv1D(128, kernel_size=3, strides=1, padding='same', activation='relu'))\n",
        "model.add(layers.BatchNormalization())\n",
        "model.add(layers.MaxPooling1D(pool_size=3, strides = 2, padding = 'same'))\n",
        "\n",
        "model.add(layers.Flatten())\n",
        "model.add(layers.Dense(512, activation='relu'))\n",
        "model.add(layers.BatchNormalization())\n",
        "model.add(layers.Dense(6, activation=\"softmax\"))\n",
        "\n",
        "model.compile(optimizer=\"rmsprop\", loss=\"categorical_crossentropy\", metrics=[\"acc\"])\n",
        "'''"
      ],
      "execution_count": null,
      "outputs": [
        {
          "output_type": "execute_result",
          "data": {
            "application/vnd.google.colaboratory.intrinsic+json": {
              "type": "string"
            },
            "text/plain": [
              "'\\nmodel = models.Sequential()\\nmodel.add(layers.Conv1D(512, kernel_size=5, strides=1,\\n                       padding=\"same\", activation=\"relu\",\\n                       input_shape=(energy_train.shape[1], 1)))\\nmodel.add(layers.BatchNormalization())\\nmodel.add(layers.MaxPool1D(pool_size=5, strides=2, padding=\"same\"))\\n\\nmodel.add(layers.Conv1D(512, kernel_size=5, strides=1,\\n                       padding=\"same\", activation=\"relu\"))\\nmodel.add(layers.BatchNormalization())\\nmodel.add(layers.MaxPool1D(pool_size=5, strides=2, padding=\"same\"))\\n\\nmodel.add(layers.Conv1D(256, kernel_size=5, strides=1,\\n                       padding=\"same\", activation=\"relu\"))\\nmodel.add(layers.BatchNormalization())\\nmodel.add(layers.MaxPool1D(pool_size=5, strides=2, padding=\"same\"))\\n\\nmodel.add(layers.Conv1D(256, kernel_size=3, strides=1, padding=\\'same\\', activation=\\'relu\\'))\\nmodel.add(layers.BatchNormalization())\\nmodel.add(layers.MaxPooling1D(pool_size=5, strides = 2, padding = \\'same\\'))\\n\\nmodel.add(layers.Conv1D(128, kernel_size=3, strides=1, padding=\\'same\\', activation=\\'relu\\'))\\nmodel.add(layers.BatchNormalization())\\nmodel.add(layers.MaxPooling1D(pool_size=3, strides = 2, padding = \\'same\\'))\\n\\nmodel.add(layers.Flatten())\\nmodel.add(layers.Dense(512, activation=\\'relu\\'))\\nmodel.add(layers.BatchNormalization())\\nmodel.add(layers.Dense(6, activation=\"softmax\"))\\n\\nmodel.compile(optimizer=\"rmsprop\", loss=\"categorical_crossentropy\", metrics=[\"acc\"])\\n'"
            ]
          },
          "metadata": {
            "tags": []
          },
          "execution_count": 31
        }
      ]
    },
    {
      "cell_type": "markdown",
      "metadata": {
        "id": "SOXmeg8bx6KV"
      },
      "source": [
        "**Neural Network Architecture**"
      ]
    },
    {
      "cell_type": "code",
      "metadata": {
        "id": "Y2sElRl5u9ME"
      },
      "source": [
        "\n",
        "fashion_model = models.Sequential()\n",
        "\n",
        "fashion_model.add(layers.Conv1D(16, kernel_size=3, strides=1,padding=\"same\", activation='relu',input_shape=(energy_train.shape[1], 1)))\n",
        "fashion_model.add(layers.ReLU())\n",
        "fashion_model.add(layers.BatchNormalization())\n",
        "\n",
        "\n",
        "\n",
        "fashion_model.add(layers.Conv1D(32, kernel_size=3, strides=1,padding=\"same\", activation='relu'))\n",
        "fashion_model.add(layers.ReLU())\n",
        "fashion_model.add(layers.BatchNormalization())\n",
        "\n",
        "\n",
        "\n",
        "\n",
        "fashion_model.add(layers.Conv1D(64, kernel_size=3, strides=1, padding='same', activation='relu'))\n",
        "fashion_model.add(layers.ReLU())\n",
        "fashion_model.add(layers.BatchNormalization())\n",
        "\n",
        "\n",
        "\n",
        "fashion_model.add(layers.Conv1D(128, kernel_size=3, strides=1, padding='same', activation='relu'))\n",
        "fashion_model.add(layers.ReLU())\n",
        "fashion_model.add(layers.BatchNormalization())\n",
        "fashion_model.add(layers.MaxPooling1D(pool_size=5, strides = 2, padding = 'same'))\n",
        "\n",
        "\n",
        "fashion_model.add(layers.Flatten())\n",
        "fashion_model.add(layers.Dense(128, activation='relu'))\n",
        "fashion_model.add(layers.Dropout(0.25))\n",
        "fashion_model.add(layers.Dense(128, activation='relu'))\n",
        "fashion_model.add(layers.Dropout(0.25))\n",
        "fashion_model.add(layers.Dense(64, activation='relu'))\n",
        "fashion_model.add(layers.Dropout(0.25))\n",
        "fashion_model.add(layers.BatchNormalization())       \n",
        "fashion_model.add(layers.Dense(num_classes, activation=\"softmax\"))\n"
      ],
      "execution_count": null,
      "outputs": []
    },
    {
      "cell_type": "markdown",
      "metadata": {
        "id": "oHD9asDXxKxj"
      },
      "source": [
        "**Compile the Model**"
      ]
    },
    {
      "cell_type": "code",
      "metadata": {
        "id": "-92nOLTlxNV9"
      },
      "source": [
        "fashion_model.compile(loss=keras.losses.categorical_crossentropy, optimizer='rmsprop',metrics=['accuracy'])\n",
        "#fashion_model.compile(optimizer=\"rmsprop\", loss=\"categorical_crossentropy\", metrics=[\"acc\"])\n"
      ],
      "execution_count": null,
      "outputs": []
    },
    {
      "cell_type": "code",
      "metadata": {
        "colab": {
          "base_uri": "https://localhost:8080/"
        },
        "id": "sUPqFFiZxZ_Y",
        "outputId": "55dc8fe7-d2e3-46f7-d9e0-93009c6649b1"
      },
      "source": [
        "fashion_model.summary()"
      ],
      "execution_count": null,
      "outputs": [
        {
          "output_type": "stream",
          "text": [
            "Model: \"sequential_1\"\n",
            "_________________________________________________________________\n",
            "Layer (type)                 Output Shape              Param #   \n",
            "=================================================================\n",
            "conv1d_4 (Conv1D)            (None, 108, 16)           64        \n",
            "_________________________________________________________________\n",
            "re_lu_4 (ReLU)               (None, 108, 16)           0         \n",
            "_________________________________________________________________\n",
            "batch_normalization_5 (Batch (None, 108, 16)           64        \n",
            "_________________________________________________________________\n",
            "conv1d_5 (Conv1D)            (None, 108, 32)           1568      \n",
            "_________________________________________________________________\n",
            "re_lu_5 (ReLU)               (None, 108, 32)           0         \n",
            "_________________________________________________________________\n",
            "batch_normalization_6 (Batch (None, 108, 32)           128       \n",
            "_________________________________________________________________\n",
            "conv1d_6 (Conv1D)            (None, 108, 64)           6208      \n",
            "_________________________________________________________________\n",
            "re_lu_6 (ReLU)               (None, 108, 64)           0         \n",
            "_________________________________________________________________\n",
            "batch_normalization_7 (Batch (None, 108, 64)           256       \n",
            "_________________________________________________________________\n",
            "conv1d_7 (Conv1D)            (None, 108, 128)          24704     \n",
            "_________________________________________________________________\n",
            "re_lu_7 (ReLU)               (None, 108, 128)          0         \n",
            "_________________________________________________________________\n",
            "batch_normalization_8 (Batch (None, 108, 128)          512       \n",
            "_________________________________________________________________\n",
            "max_pooling1d_1 (MaxPooling1 (None, 54, 128)           0         \n",
            "_________________________________________________________________\n",
            "flatten_1 (Flatten)          (None, 6912)              0         \n",
            "_________________________________________________________________\n",
            "dense_4 (Dense)              (None, 128)               884864    \n",
            "_________________________________________________________________\n",
            "dropout_3 (Dropout)          (None, 128)               0         \n",
            "_________________________________________________________________\n",
            "dense_5 (Dense)              (None, 128)               16512     \n",
            "_________________________________________________________________\n",
            "dropout_4 (Dropout)          (None, 128)               0         \n",
            "_________________________________________________________________\n",
            "dense_6 (Dense)              (None, 64)                8256      \n",
            "_________________________________________________________________\n",
            "dropout_5 (Dropout)          (None, 64)                0         \n",
            "_________________________________________________________________\n",
            "batch_normalization_9 (Batch (None, 64)                256       \n",
            "_________________________________________________________________\n",
            "dense_7 (Dense)              (None, 6)                 390       \n",
            "=================================================================\n",
            "Total params: 943,782\n",
            "Trainable params: 943,174\n",
            "Non-trainable params: 608\n",
            "_________________________________________________________________\n"
          ],
          "name": "stdout"
        }
      ]
    },
    {
      "cell_type": "markdown",
      "metadata": {
        "id": "GlbTz8r8xkDY"
      },
      "source": [
        "**Train the Model**"
      ]
    },
    {
      "cell_type": "code",
      "metadata": {
        "colab": {
          "base_uri": "https://localhost:8080/"
        },
        "id": "A1zz8DLHooG6",
        "outputId": "9704eb33-47c5-4c6e-bb45-ad4d14508af5"
      },
      "source": [
        "fashion_model.load_weights(checkpoint_filepath)\n",
        "history = fashion_model.fit(energy_train, energy_label_train, validation_data=(energy_vald, energy_label_vald),epochs=30, batch_size=batch_size,   callbacks=[model_checkpoint_callback,learning_rate_reduction])\n"
      ],
      "execution_count": null,
      "outputs": [
        {
          "output_type": "stream",
          "text": [
            "Epoch 1/30\n",
            "125/125 [==============================] - 42s 336ms/step - loss: 0.2378 - accuracy: 0.9184 - val_loss: 1.1691 - val_accuracy: 0.6907\n",
            "Epoch 2/30\n",
            "125/125 [==============================] - 42s 335ms/step - loss: 0.2360 - accuracy: 0.9198 - val_loss: 1.1656 - val_accuracy: 0.6896\n",
            "Epoch 3/30\n",
            "125/125 [==============================] - 42s 335ms/step - loss: 0.2305 - accuracy: 0.9233 - val_loss: 1.1763 - val_accuracy: 0.6955\n",
            "Epoch 4/30\n",
            "125/125 [==============================] - 42s 335ms/step - loss: 0.2243 - accuracy: 0.9241 - val_loss: 1.2034 - val_accuracy: 0.6937\n",
            "Epoch 5/30\n",
            "125/125 [==============================] - 42s 334ms/step - loss: 0.2130 - accuracy: 0.9268 - val_loss: 1.2152 - val_accuracy: 0.6967\n",
            "Epoch 6/30\n",
            "125/125 [==============================] - 42s 338ms/step - loss: 0.2184 - accuracy: 0.9261 - val_loss: 1.2211 - val_accuracy: 0.6931\n",
            "Epoch 7/30\n",
            "125/125 [==============================] - 42s 338ms/step - loss: 0.2076 - accuracy: 0.9307 - val_loss: 1.2650 - val_accuracy: 0.6907\n",
            "Epoch 8/30\n",
            "125/125 [==============================] - 42s 338ms/step - loss: 0.2007 - accuracy: 0.9318 - val_loss: 1.1949 - val_accuracy: 0.6967\n",
            "Epoch 9/30\n",
            "125/125 [==============================] - 43s 341ms/step - loss: 0.1994 - accuracy: 0.9329 - val_loss: 1.2517 - val_accuracy: 0.7003\n",
            "Epoch 10/30\n",
            "125/125 [==============================] - 43s 340ms/step - loss: 0.2000 - accuracy: 0.9326 - val_loss: 1.2288 - val_accuracy: 0.6955\n",
            "Epoch 11/30\n",
            "125/125 [==============================] - 42s 338ms/step - loss: 0.1888 - accuracy: 0.9373 - val_loss: 1.2758 - val_accuracy: 0.6890\n",
            "Epoch 12/30\n",
            "125/125 [==============================] - 42s 337ms/step - loss: 0.1893 - accuracy: 0.9350 - val_loss: 1.2683 - val_accuracy: 0.6919\n",
            "Epoch 13/30\n",
            "125/125 [==============================] - 42s 337ms/step - loss: 0.1849 - accuracy: 0.9388 - val_loss: 1.2606 - val_accuracy: 0.6979\n",
            "Epoch 14/30\n",
            "125/125 [==============================] - 42s 337ms/step - loss: 0.1801 - accuracy: 0.9405 - val_loss: 1.2590 - val_accuracy: 0.6907\n",
            "Epoch 15/30\n",
            "125/125 [==============================] - 42s 338ms/step - loss: 0.1793 - accuracy: 0.9391 - val_loss: 1.2909 - val_accuracy: 0.6967\n",
            "Epoch 16/30\n",
            "125/125 [==============================] - 42s 339ms/step - loss: 0.1735 - accuracy: 0.9434 - val_loss: 1.2709 - val_accuracy: 0.6985\n",
            "Epoch 17/30\n",
            "125/125 [==============================] - 43s 340ms/step - loss: 0.1683 - accuracy: 0.9450 - val_loss: 1.3032 - val_accuracy: 0.6949\n",
            "Epoch 18/30\n",
            "125/125 [==============================] - 42s 339ms/step - loss: 0.1681 - accuracy: 0.9428 - val_loss: 1.3217 - val_accuracy: 0.7021\n",
            "Epoch 19/30\n",
            "125/125 [==============================] - 42s 338ms/step - loss: 0.1692 - accuracy: 0.9424 - val_loss: 1.3147 - val_accuracy: 0.6919\n",
            "Epoch 20/30\n",
            "125/125 [==============================] - 42s 339ms/step - loss: 0.1574 - accuracy: 0.9471 - val_loss: 1.3379 - val_accuracy: 0.7021\n",
            "Epoch 21/30\n",
            "125/125 [==============================] - 42s 337ms/step - loss: 0.1617 - accuracy: 0.9467 - val_loss: 1.3205 - val_accuracy: 0.6985\n",
            "Epoch 22/30\n",
            "125/125 [==============================] - 42s 337ms/step - loss: 0.1549 - accuracy: 0.9491 - val_loss: 1.3276 - val_accuracy: 0.6949\n",
            "Epoch 23/30\n",
            "125/125 [==============================] - 42s 339ms/step - loss: 0.1540 - accuracy: 0.9492 - val_loss: 1.3496 - val_accuracy: 0.6961\n",
            "Epoch 24/30\n",
            "125/125 [==============================] - 42s 339ms/step - loss: 0.1509 - accuracy: 0.9491 - val_loss: 1.3302 - val_accuracy: 0.6925\n",
            "Epoch 25/30\n",
            "125/125 [==============================] - 42s 338ms/step - loss: 0.1467 - accuracy: 0.9502 - val_loss: 1.3365 - val_accuracy: 0.6925\n",
            "Epoch 26/30\n",
            "125/125 [==============================] - 42s 338ms/step - loss: 0.1529 - accuracy: 0.9493 - val_loss: 1.3745 - val_accuracy: 0.6955\n",
            "Epoch 27/30\n",
            "125/125 [==============================] - 42s 338ms/step - loss: 0.1440 - accuracy: 0.9521 - val_loss: 1.3760 - val_accuracy: 0.6913\n",
            "Epoch 28/30\n",
            "125/125 [==============================] - 42s 337ms/step - loss: 0.1437 - accuracy: 0.9505 - val_loss: 1.4272 - val_accuracy: 0.6830\n",
            "Epoch 29/30\n",
            "125/125 [==============================] - 42s 337ms/step - loss: 0.1470 - accuracy: 0.9521 - val_loss: 1.4017 - val_accuracy: 0.6806\n",
            "Epoch 30/30\n",
            "125/125 [==============================] - 42s 337ms/step - loss: 0.1374 - accuracy: 0.9546 - val_loss: 1.4105 - val_accuracy: 0.6890\n"
          ],
          "name": "stdout"
        }
      ]
    },
    {
      "cell_type": "markdown",
      "metadata": {
        "id": "yhp2XaTu3Agt"
      },
      "source": [
        "**Evalution On training and val**"
      ]
    },
    {
      "cell_type": "code",
      "metadata": {
        "colab": {
          "base_uri": "https://localhost:8080/",
          "height": 545
        },
        "id": "NdVd3_fqEnGo",
        "outputId": "839cea91-8e81-433c-b4bc-5675f25101e5"
      },
      "source": [
        "accuracy = history.history['accuracy']\n",
        "val_accuracy = history.history['val_accuracy']\n",
        "loss = history.history['loss']\n",
        "val_loss = history.history['val_loss']\n",
        "epochs = range(len(accuracy))\n",
        "plt.plot(epochs, accuracy, 'bo', label='Training accuracy')\n",
        "plt.plot(epochs, val_accuracy, 'b', label='Validation accuracy')\n",
        "plt.title('Training and validation accuracy')\n",
        "plt.legend()\n",
        "plt.figure()\n",
        "plt.plot(epochs, loss, 'bo', label='Training loss')\n",
        "plt.plot(epochs, val_loss, 'b', label='Validation loss')\n",
        "plt.title('Training and validation loss')\n",
        "plt.legend()\n",
        "plt.show()"
      ],
      "execution_count": null,
      "outputs": [
        {
          "output_type": "display_data",
          "data": {
            "image/png": "[encoded data removed]",
            "text/plain": [
              "<Figure size 432x288 with 1 Axes>"
            ]
          },
          "metadata": {
            "tags": [],
            "needs_background": "light"
          }
        },
        {
          "output_type": "display_data",
          "data": {
            "image/png": "[encoded data removed]",
            "text/plain": [
              "<Figure size 432x288 with 1 Axes>"
            ]
          },
          "metadata": {
            "tags": [],
            "needs_background": "light"
          }
        }
      ]
    },
    {
      "cell_type": "markdown",
      "metadata": {
        "id": "fbIXmCQM3A_y"
      },
      "source": [
        "**Save/Reload Models**"
      ]
    },
    {
      "cell_type": "code",
      "metadata": {
        "id": "nAEkgLTz3Eyh",
        "colab": {
          "base_uri": "https://localhost:8080/"
        },
        "outputId": "06f298cf-baa9-4cf6-8575-37a545c7d6a4"
      },
      "source": [
        "from keras.models import load_model\n",
        "fashion_model.save(\"/content/drive/MyDrive/Speech Recognition/Best Model/zcr_spec_model_best\")"
      ],
      "execution_count": null,
      "outputs": [
        {
          "output_type": "stream",
          "text": [
            "INFO:tensorflow:Assets written to: /content/drive/MyDrive/Speech Recognition/Best Model/zcr_spec_model_best/assets\n"
          ],
          "name": "stdout"
        }
      ]
    },
    {
      "cell_type": "markdown",
      "metadata": {
        "id": "fzmz2uXfPrTE"
      },
      "source": [
        "#**Testing**"
      ]
    },
    {
      "cell_type": "markdown",
      "metadata": {
        "id": "72gsEBGoPxEf"
      },
      "source": [
        "**Predict Classes**"
      ]
    },
    {
      "cell_type": "code",
      "metadata": {
        "id": "ASfm1FRJPPLl"
      },
      "source": [
        "predicted_classes = fashion_model.predict(energy_test)\n",
        "predicted_classes_normalized = np.argmax(np.round(predicted_classes),axis=1)"
      ],
      "execution_count": null,
      "outputs": []
    },
    {
      "cell_type": "code",
      "metadata": {
        "id": "GZ_Kg5voP8PL"
      },
      "source": [
        "ZCR_label_test = np.argmax(np.round(energy_label_test),axis=1)"
      ],
      "execution_count": null,
      "outputs": []
    },
    {
      "cell_type": "code",
      "metadata": {
        "colab": {
          "base_uri": "https://localhost:8080/"
        },
        "id": "L9DS13x4QOUF",
        "outputId": "e213b79d-f326-478d-fc1f-60ed88d0d100"
      },
      "source": [
        "predicted_classes_normalized"
      ],
      "execution_count": null,
      "outputs": [
        {
          "output_type": "execute_result",
          "data": {
            "text/plain": [
              "array([3, 0, 1, ..., 5, 0, 0])"
            ]
          },
          "metadata": {
            "tags": []
          },
          "execution_count": 58
        }
      ]
    },
    {
      "cell_type": "code",
      "metadata": {
        "colab": {
          "base_uri": "https://localhost:8080/"
        },
        "id": "Zu2KhrJ_QOL_",
        "outputId": "987d5f16-8feb-4cb7-8ea8-51976f6be983"
      },
      "source": [
        "correct = np.where(predicted_classes_normalized==ZCR_label_test)[0]\n",
        "print (\"Found %d correct labels\" % len(correct))\n",
        "\n",
        "incorrect = np.where(predicted_classes_normalized!=ZCR_label_test)[0]\n",
        "print (\"Found %d incorrect labels\" % len(incorrect))"
      ],
      "execution_count": null,
      "outputs": [
        {
          "output_type": "stream",
          "text": [
            "Found 2617 correct labels\n",
            "Found 1104 incorrect labels\n"
          ],
          "name": "stdout"
        }
      ]
    },
    {
      "cell_type": "markdown",
      "metadata": {
        "id": "7X6Zr0CLQTfj"
      },
      "source": [
        "**Test Data Scores**"
      ]
    },
    {
      "cell_type": "code",
      "metadata": {
        "colab": {
          "base_uri": "https://localhost:8080/"
        },
        "id": "06LvtKb1QOBE",
        "outputId": "dc7023d6-fd09-4ccf-8ec8-5084cd3a9bc2"
      },
      "source": [
        "from sklearn.metrics import classification_report\n",
        "target_names = [\"Class {}\".format(i) for i in range(num_classes)]\n",
        "print(classification_report(ZCR_label_test, predicted_classes_normalized, target_names=lb.classes_))"
      ],
      "execution_count": null,
      "outputs": [
        {
          "output_type": "stream",
          "text": [
            "              precision    recall  f1-score   support\n",
            "\n",
            "       angry       0.64      0.81      0.71       613\n",
            "     disgust       0.76      0.71      0.74       649\n",
            "        fear       0.71      0.65      0.68       641\n",
            "       happy       0.70      0.69      0.70       676\n",
            "     neutral       0.72      0.64      0.68       535\n",
            "         sad       0.71      0.71      0.71       607\n",
            "\n",
            "    accuracy                           0.70      3721\n",
            "   macro avg       0.71      0.70      0.70      3721\n",
            "weighted avg       0.71      0.70      0.70      3721\n",
            "\n"
          ],
          "name": "stdout"
        }
      ]
    },
    {
      "cell_type": "markdown",
      "metadata": {
        "id": "RG8ZpbIVbIul"
      },
      "source": [
        "**Confusuin Matrix**"
      ]
    },
    {
      "cell_type": "code",
      "metadata": {
        "id": "d8VvoVr3bJFd"
      },
      "source": [
        "from sklearn.metrics import confusion_matrix\n",
        "cm = confusion_matrix(y_true=ZCR_label_test, y_pred=predicted_classes_normalized)"
      ],
      "execution_count": null,
      "outputs": []
    },
    {
      "cell_type": "code",
      "metadata": {
        "id": "DCpi9GsCbNYc"
      },
      "source": [
        "def plot_confusion_matrix(cm, classes,\n",
        "                        normalize=False,\n",
        "                        title='Confusion matrix',\n",
        "                        cmap=plt.cm.Blues):\n",
        "    \"\"\"\n",
        "    This function prints and plots the confusion matrix.\n",
        "    Normalization can be applied by setting `normalize=True`.\n",
        "    \"\"\"\n",
        "    plt.imshow(cm, interpolation='nearest', cmap=cmap)\n",
        "    plt.title(title)\n",
        "    plt.colorbar()\n",
        "    tick_marks = np.arange(len(classes))\n",
        "    plt.xticks(tick_marks, classes, rotation=45)\n",
        "    plt.yticks(tick_marks, classes)\n",
        "\n",
        "    if normalize:\n",
        "        cm = cm.astype('float') / cm.sum(axis=1)[:, np.newaxis]\n",
        "        print(\"Normalized confusion matrix\")\n",
        "    else:\n",
        "        print('Confusion matrix, without normalization')\n",
        "\n",
        "    print(cm)\n",
        "\n",
        "    thresh = cm.max() / 2.\n",
        "    for i, j in itertools.product(range(cm.shape[0]), range(cm.shape[1])):\n",
        "        plt.text(j, i, cm[i, j],\n",
        "            horizontalalignment=\"center\",\n",
        "            color=\"white\" if cm[i, j] > thresh else \"black\")\n",
        "\n",
        "    plt.tight_layout()\n",
        "    plt.ylabel('True label')\n",
        "    plt.xlabel('Predicted label')"
      ],
      "execution_count": null,
      "outputs": []
    },
    {
      "cell_type": "code",
      "metadata": {
        "colab": {
          "base_uri": "https://localhost:8080/",
          "height": 429
        },
        "id": "c29DPxqjbTF2",
        "outputId": "b0fa5278-55a4-48d5-8cae-21d273d2ef0b"
      },
      "source": [
        "plot_confusion_matrix(cm=cm, classes=lb.classes_, title='CREMA Dataset Speech Recognition')"
      ],
      "execution_count": null,
      "outputs": [
        {
          "output_type": "stream",
          "text": [
            "Confusion matrix, without normalization\n",
            "[[494  29  20  45  20   5]\n",
            " [ 64 464  31  29  16  45]\n",
            " [ 59  35 416  54  21  56]\n",
            " [ 74  26  56 468  30  22]\n",
            " [ 51  20  26  50 344  44]\n",
            " [ 33  37  39  20  47 431]]\n"
          ],
          "name": "stdout"
        },
        {
          "output_type": "display_data",
          "data": {
            "image/png": "[encoded data removed]",
            "text/plain": [
              "<Figure size 432x288 with 2 Axes>"
            ]
          },
          "metadata": {
            "tags": [],
            "needs_background": "light"
          }
        }
      ]
    }
  ]
}