{
  "nbformat": 4,
  "nbformat_minor": 0,
  "metadata": {
    "colab": {
      "name": "zcr -TRAINtheMODEL.ipynb",
      "provenance": [],
      "collapsed_sections": [],
      "include_colab_link": true
    },
    "kernelspec": {
      "display_name": "Python 3",
      "name": "python3"
    },
    "language_info": {
      "name": "python"
    }
  },
  "cells": [
    {
      "cell_type": "markdown",
      "metadata": {
        "id": "view-in-github",
        "colab_type": "text"
      },
      "source": [
        "<a href=\"https://colab.research.google.com/github/habiib1999/Speech-Emotion-Recognition/blob/main/zcr_TRAINtheMODEL.ipynb\" target=\"_parent\"><img src=\"https://colab.research.google.com/assets/colab-badge.svg\" alt=\"Open In Colab\"/></a>"
      ]
    },
    {
      "cell_type": "code",
      "metadata": {
        "colab": {
          "base_uri": "https://localhost:8080/"
        },
        "id": "KpZ42aw36mZs",
        "outputId": "68ce2515-f4df-4457-aa3f-61636ad9b214"
      },
      "source": [
        "from google.colab import drive\n",
        "drive.mount('/content/drive')"
      ],
      "execution_count": 162,
      "outputs": [
        {
          "output_type": "stream",
          "text": [
            "Drive already mounted at /content/drive; to attempt to forcibly remount, call drive.mount(\"/content/drive\", force_remount=True).\n"
          ],
          "name": "stdout"
        }
      ]
    },
    {
      "cell_type": "code",
      "metadata": {
        "id": "mEwDO1iz6Pt7"
      },
      "source": [
        "import numpy as np\n",
        "import matplotlib.pyplot as plt\n",
        "from scipy.io import wavfile\n",
        "from IPython.display import Audio\n",
        "import os\n",
        "import re\n",
        " \n",
        "import librosa\n",
        "import librosa.display\n",
        "import matplotlib.pyplot as plt\n",
        "import numpy as np\n",
        "import pandas as pd\n",
        "import seaborn as sns\n",
        "from IPython.display import Audio\n",
        "# from entropy import spectral_entropy\n",
        "from keras import layers\n",
        "from keras import models\n",
        "from keras.utils import np_utils\n",
        "from sklearn.model_selection import train_test_split\n",
        "from sklearn.preprocessing import LabelEncoder, StandardScaler\n",
        "from tensorflow.python.keras.callbacks import EarlyStopping, ReduceLROnPlateau\n",
        " \n",
        "import itertools"
      ],
      "execution_count": 163,
      "outputs": []
    },
    {
      "cell_type": "code",
      "metadata": {
        "id": "YLldtkiR5Ztu"
      },
      "source": [
        "\n",
        "energy_data = np.load(\"/content/drive/MyDrive/emotionDataset/crema_zcr_data_feature2.npy\",allow_pickle=True) \n",
        "energy_labels = np.load( \"/content/drive/MyDrive/emotionDataset/crema_zcr_labels_feature2.npy\",allow_pickle=True)\n",
        "energy_labels = np.repeat(energy_labels, 5)"
      ],
      "execution_count": 164,
      "outputs": []
    },
    {
      "cell_type": "code",
      "metadata": {
        "id": "H0UBb3NrkSW-"
      },
      "source": [
        "# FILL NaN\n",
        "def numpy_fillna(data):\n",
        "    # Get lengths of each row of data\n",
        "    lens = np.array([len(i) for i in data])\n",
        "\n",
        "    # Mask of valid places in each row\n",
        "    mask = np.arange(lens.max()) < lens[:,None]\n",
        "\n",
        "    # Setup output array and put elements from data into masked positions\n",
        "    out = np.zeros(mask.shape, dtype=data.dtype)\n",
        "    out[mask] = np.concatenate(data)\n",
        "    return out\n",
        "energy_data = numpy_fillna(energy_data)"
      ],
      "execution_count": 165,
      "outputs": []
    },
    {
      "cell_type": "markdown",
      "metadata": {
        "id": "v3ZNHZ445Ec3"
      },
      "source": [
        "**Hot Encoding for labels**"
      ]
    },
    {
      "cell_type": "code",
      "metadata": {
        "colab": {
          "base_uri": "https://localhost:8080/"
        },
        "id": "rlmhyxfOlfdo",
        "outputId": "a2d38d51-8ec9-4956-fa3b-c3e546bc063d"
      },
      "source": [
        "# Encode labels\n",
        "lb = LabelEncoder()\n",
        "energy_labels = np_utils.to_categorical(lb.fit_transform(energy_labels))\n",
        "print(lb.classes_)\n",
        "print(energy_labels)"
      ],
      "execution_count": 166,
      "outputs": [
        {
          "output_type": "stream",
          "text": [
            "['angry' 'disgust' 'fear' 'happy' 'neutral' 'sad']\n",
            "[[0. 0. 1. 0. 0. 0.]\n",
            " [0. 0. 1. 0. 0. 0.]\n",
            " [0. 0. 1. 0. 0. 0.]\n",
            " ...\n",
            " [1. 0. 0. 0. 0. 0.]\n",
            " [1. 0. 0. 0. 0. 0.]\n",
            " [1. 0. 0. 0. 0. 0.]]\n"
          ],
          "name": "stdout"
        }
      ]
    },
    {
      "cell_type": "code",
      "metadata": {
        "colab": {
          "base_uri": "https://localhost:8080/"
        },
        "id": "B1DdQeZcrQCQ",
        "outputId": "02b2890d-a760-43d8-9663-f54a766ad72e"
      },
      "source": [
        "print(energy_labels.shape)"
      ],
      "execution_count": 167,
      "outputs": [
        {
          "output_type": "stream",
          "text": [
            "(37210, 6)\n"
          ],
          "name": "stdout"
        }
      ]
    },
    {
      "cell_type": "markdown",
      "metadata": {
        "id": "8ycIF70_5Ikx"
      },
      "source": [
        "**Split Data to training, Test and Val**"
      ]
    },
    {
      "cell_type": "code",
      "metadata": {
        "id": "3uyHtzo4lkaR"
      },
      "source": [
        "# Split data\n",
        "energy_train, energy_test, energy_label_train, energy_label_test = train_test_split(energy_data, energy_labels, test_size=0.1)\n",
        "\n",
        "energy_train, energy_vald, energy_label_train, energy_label_vald = train_test_split(energy_train, energy_label_train, test_size=0.05) "
      ],
      "execution_count": 168,
      "outputs": []
    },
    {
      "cell_type": "markdown",
      "metadata": {
        "id": "CWRansEX5Wn6"
      },
      "source": [
        "**Standardize data**"
      ]
    },
    {
      "cell_type": "code",
      "metadata": {
        "colab": {
          "base_uri": "https://localhost:8080/"
        },
        "id": "5laSwsntmybc",
        "outputId": "b35af204-686a-4d70-a28f-b95e20498458"
      },
      "source": [
        "# Standardize data\n",
        "\n",
        "\n",
        "print(energy_train)\n",
        "scaler = StandardScaler()\n",
        "energy_train = scaler.fit_transform(energy_train)\n",
        "energy_test = scaler.transform(energy_test)\n",
        "energy_vald = scaler.transform(energy_vald)\n",
        "\n",
        "\n",
        "print(pd.DataFrame( energy_train))"
      ],
      "execution_count": 169,
      "outputs": [
        {
          "output_type": "stream",
          "text": [
            "[[0.03466796875 0.0556640625 0.07421875 ... 0 0 0]\n",
            " [0.05517578125 0.068359375 0.0830078125 ... 0 0 0]\n",
            " [0.02099609375 0.03857421875 0.052734375 ... 0 0 0]\n",
            " ...\n",
            " [0.06396484375 0.095703125 0.1201171875 ... 0.09375 0.068359375\n",
            "  0.0390625]\n",
            " [0.02587890625 0.04541015625 0.05322265625 ... 0 0 0]\n",
            " [0.017578125 0.02490234375 0.0322265625 ... 0.0517578125 0.04443359375\n",
            "  0.03271484375]]\n",
            "            0         1         2    ...       105       106       107\n",
            "0     -0.302093 -0.267219 -0.277566  ... -0.255332 -0.254712 -0.244650\n",
            "1      0.095112 -0.098936 -0.187216  ... -0.255332 -0.254712 -0.244650\n",
            "2     -0.566897 -0.493755 -0.498423  ... -0.255332 -0.254712 -0.244650\n",
            "3     -0.566897 -0.552007 -0.503442  ... -0.255332 -0.254712 -0.244650\n",
            "4     -0.547982 -0.552007 -0.603832  ... -0.255332 -0.254712 -0.244650\n",
            "...         ...       ...       ...  ...       ...       ...       ...\n",
            "31809 -0.746585 -0.778543 -0.809630  ... -0.255332 -0.254712 -0.244650\n",
            "31810 -0.708756 -0.752653 -0.804610  ...  0.052163  0.054202  0.075921\n",
            "31811  0.265343  0.263521  0.194263  ...  1.258487  0.946621  0.705192\n",
            "31812 -0.472324 -0.403141 -0.493403  ... -0.255332 -0.254712 -0.244650\n",
            "31813 -0.633097 -0.674984 -0.709240  ...  0.580422  0.526154  0.550843\n",
            "\n",
            "[31814 rows x 108 columns]\n"
          ],
          "name": "stdout"
        }
      ]
    },
    {
      "cell_type": "code",
      "metadata": {
        "colab": {
          "base_uri": "https://localhost:8080/"
        },
        "id": "7XyfwGQum6eA",
        "outputId": "ab1be4e3-0de5-4662-f3de-286c3bc14cf7"
      },
      "source": [
        "# We have to use 1-dimensional CNN which need specifical shape:\n",
        "energy_train = np.expand_dims(energy_train, axis=2)\n",
        "energy_vald = np.expand_dims(energy_vald, axis=2)\n",
        "energy_test = np.expand_dims(energy_test, axis=2)\n",
        "\n",
        "print(energy_train.shape)"
      ],
      "execution_count": 170,
      "outputs": [
        {
          "output_type": "stream",
          "text": [
            "(31814, 108, 1)\n"
          ],
          "name": "stdout"
        }
      ]
    },
    {
      "cell_type": "markdown",
      "metadata": {
        "id": "rdtBTg1RyBnx"
      },
      "source": [
        "# The Network\n"
      ]
    },
    {
      "cell_type": "code",
      "metadata": {
        "id": "q9eDDE5UyD_l"
      },
      "source": [
        "import keras\n",
        "from keras.models import Sequential,Input,Model\n",
        "from keras.layers import Dense, Dropout, Flatten\n",
        "from keras.layers import Conv2D, MaxPooling2D\n",
        "from keras.layers.normalization import BatchNormalization\n",
        "from keras.layers.advanced_activations import LeakyReLU"
      ],
      "execution_count": 171,
      "outputs": []
    },
    {
      "cell_type": "code",
      "metadata": {
        "id": "BLWSkAhNtqLQ"
      },
      "source": [
        "batch_size = 256\n",
        "epochs = 30\n",
        "num_classes = 6"
      ],
      "execution_count": 172,
      "outputs": []
    },
    {
      "cell_type": "code",
      "metadata": {
        "id": "5m6bq2-7FsW9"
      },
      "source": [
        "earlystopping = EarlyStopping(monitor =\"val_accuracy\",\n",
        "                              mode = 'auto', patience = 2,\n",
        "                              restore_best_weights = True)\n",
        "learning_rate_reduction = ReduceLROnPlateau(monitor='val_accuracy',\n",
        "                                            patience=2,\n",
        "                                            verbose=1,\n",
        "                                            factor=0.5,\n",
        "                                            min_lr=0.0001)\n",
        "checkpoint_filepath = \"/content/drive/MyDrive/emotionDataset\"\n",
        "model_checkpoint_callback = keras.callbacks.ModelCheckpoint(\n",
        "    filepath=checkpoint_filepath,\n",
        "    save_weights_only=True,\n",
        "    monitor='val_accuracy',\n",
        "    mode='max',\n",
        "    save_best_only=True)\n",
        "#callback = EarlyStopping(monitor='loss', patience=3)"
      ],
      "execution_count": 173,
      "outputs": []
    },
    {
      "cell_type": "code",
      "metadata": {
        "colab": {
          "base_uri": "https://localhost:8080/",
          "height": 154
        },
        "id": "7WIu01KgxCip",
        "outputId": "e8fff2d7-9034-4e31-c3ae-206bafc89ee3"
      },
      "source": [
        " '''\n",
        " model = models.Sequential()\n",
        "model.add(layers.Conv1D(512, kernel_size=5, strides=1,\n",
        "                        padding=\"same\", activation=\"relu\",\n",
        "                        input_shape=(energy_train.shape[1], 1)))\n",
        "model.add(layers.BatchNormalization())\n",
        "model.add(layers.MaxPool1D(pool_size=5, strides=2, padding=\"same\"))\n",
        "\n",
        "model.add(layers.Conv1D(512, kernel_size=5, strides=1,\n",
        "                        padding=\"same\", activation=\"relu\"))\n",
        "model.add(layers.BatchNormalization())\n",
        "model.add(layers.MaxPool1D(pool_size=5, strides=2, padding=\"same\"))\n",
        "\n",
        "model.add(layers.Conv1D(256, kernel_size=5, strides=1,\n",
        "                        padding=\"same\", activation=\"relu\"))\n",
        "model.add(layers.BatchNormalization())\n",
        "model.add(layers.MaxPool1D(pool_size=5, strides=2, padding=\"same\"))\n",
        "\n",
        "model.add(layers.Conv1D(256, kernel_size=3, strides=1, padding='same', activation='relu'))\n",
        "model.add(layers.BatchNormalization())\n",
        "model.add(layers.MaxPooling1D(pool_size=5, strides = 2, padding = 'same'))\n",
        "\n",
        "model.add(layers.Conv1D(128, kernel_size=3, strides=1, padding='same', activation='relu'))\n",
        "model.add(layers.BatchNormalization())\n",
        "model.add(layers.MaxPooling1D(pool_size=3, strides = 2, padding = 'same'))\n",
        "\n",
        "model.add(layers.Flatten())\n",
        "model.add(layers.Dense(512, activation='relu'))\n",
        "model.add(layers.BatchNormalization())\n",
        "model.add(layers.Dense(6, activation=\"softmax\"))\n",
        "\n",
        "model.compile(optimizer=\"rmsprop\", loss=\"categorical_crossentropy\", metrics=[\"acc\"])\n",
        "'''"
      ],
      "execution_count": 174,
      "outputs": [
        {
          "output_type": "execute_result",
          "data": {
            "application/vnd.google.colaboratory.intrinsic+json": {
              "type": "string"
            },
            "text/plain": [
              "'\\nmodel = models.Sequential()\\nmodel.add(layers.Conv1D(512, kernel_size=5, strides=1,\\n                       padding=\"same\", activation=\"relu\",\\n                       input_shape=(energy_train.shape[1], 1)))\\nmodel.add(layers.BatchNormalization())\\nmodel.add(layers.MaxPool1D(pool_size=5, strides=2, padding=\"same\"))\\n\\nmodel.add(layers.Conv1D(512, kernel_size=5, strides=1,\\n                       padding=\"same\", activation=\"relu\"))\\nmodel.add(layers.BatchNormalization())\\nmodel.add(layers.MaxPool1D(pool_size=5, strides=2, padding=\"same\"))\\n\\nmodel.add(layers.Conv1D(256, kernel_size=5, strides=1,\\n                       padding=\"same\", activation=\"relu\"))\\nmodel.add(layers.BatchNormalization())\\nmodel.add(layers.MaxPool1D(pool_size=5, strides=2, padding=\"same\"))\\n\\nmodel.add(layers.Conv1D(256, kernel_size=3, strides=1, padding=\\'same\\', activation=\\'relu\\'))\\nmodel.add(layers.BatchNormalization())\\nmodel.add(layers.MaxPooling1D(pool_size=5, strides = 2, padding = \\'same\\'))\\n\\nmodel.add(layers.Conv1D(128, kernel_size=3, strides=1, padding=\\'same\\', activation=\\'relu\\'))\\nmodel.add(layers.BatchNormalization())\\nmodel.add(layers.MaxPooling1D(pool_size=3, strides = 2, padding = \\'same\\'))\\n\\nmodel.add(layers.Flatten())\\nmodel.add(layers.Dense(512, activation=\\'relu\\'))\\nmodel.add(layers.BatchNormalization())\\nmodel.add(layers.Dense(6, activation=\"softmax\"))\\n\\nmodel.compile(optimizer=\"rmsprop\", loss=\"categorical_crossentropy\", metrics=[\"acc\"])\\n'"
            ]
          },
          "metadata": {
            "tags": []
          },
          "execution_count": 174
        }
      ]
    },
    {
      "cell_type": "markdown",
      "metadata": {
        "id": "SOXmeg8bx6KV"
      },
      "source": [
        "**Neural Network Architecture**"
      ]
    },
    {
      "cell_type": "code",
      "metadata": {
        "id": "Y2sElRl5u9ME"
      },
      "source": [
        "\n",
        "fashion_model = models.Sequential()\n",
        "\n",
        "fashion_model.add(layers.Conv1D(16, kernel_size=3, strides=1,padding=\"same\", activation='relu',input_shape=(energy_train.shape[1], 1)))\n",
        "fashion_model.add(layers.ReLU())\n",
        "fashion_model.add(layers.BatchNormalization())\n",
        "\n",
        "\n",
        "\n",
        "fashion_model.add(layers.Conv1D(32, kernel_size=3, strides=1,padding=\"same\", activation='relu'))\n",
        "fashion_model.add(layers.ReLU())\n",
        "fashion_model.add(layers.BatchNormalization())\n",
        "\n",
        "\n",
        "\n",
        "\n",
        "fashion_model.add(layers.Conv1D(64, kernel_size=3, strides=1, padding='same', activation='relu'))\n",
        "fashion_model.add(layers.ReLU())\n",
        "fashion_model.add(layers.BatchNormalization())\n",
        "\n",
        "\n",
        "\n",
        "fashion_model.add(layers.Conv1D(128, kernel_size=3, strides=1, padding='same', activation='relu'))\n",
        "fashion_model.add(layers.ReLU())\n",
        "fashion_model.add(layers.BatchNormalization())\n",
        "fashion_model.add(layers.MaxPooling1D(pool_size=5, strides = 2, padding = 'same'))\n",
        "\n",
        "\n",
        "fashion_model.add(layers.Flatten())\n",
        "fashion_model.add(layers.Dense(128, activation='relu'))\n",
        "fashion_model.add(layers.Dropout(0.25))\n",
        "fashion_model.add(layers.Dense(128, activation='relu'))\n",
        "fashion_model.add(layers.Dropout(0.25))\n",
        "fashion_model.add(layers.Dense(64, activation='relu'))\n",
        "fashion_model.add(layers.Dropout(0.25))\n",
        "fashion_model.add(layers.BatchNormalization())       \n",
        "fashion_model.add(layers.Dense(num_classes, activation=\"softmax\"))\n"
      ],
      "execution_count": 175,
      "outputs": []
    },
    {
      "cell_type": "markdown",
      "metadata": {
        "id": "oHD9asDXxKxj"
      },
      "source": [
        "**Compile the Model**"
      ]
    },
    {
      "cell_type": "code",
      "metadata": {
        "id": "-92nOLTlxNV9"
      },
      "source": [
        "fashion_model.compile(loss=keras.losses.categorical_crossentropy, optimizer='rmsprop',metrics=['accuracy'])\n",
        "#fashion_model.compile(optimizer=\"rmsprop\", loss=\"categorical_crossentropy\", metrics=[\"acc\"])\n"
      ],
      "execution_count": 176,
      "outputs": []
    },
    {
      "cell_type": "code",
      "metadata": {
        "colab": {
          "base_uri": "https://localhost:8080/"
        },
        "id": "sUPqFFiZxZ_Y",
        "outputId": "dc382f3c-5b14-4e97-ad15-42b02f1c9015"
      },
      "source": [
        "fashion_model.summary()"
      ],
      "execution_count": 177,
      "outputs": [
        {
          "output_type": "stream",
          "text": [
            "Model: \"sequential_7\"\n",
            "_________________________________________________________________\n",
            "Layer (type)                 Output Shape              Param #   \n",
            "=================================================================\n",
            "conv1d_28 (Conv1D)           (None, 108, 16)           64        \n",
            "_________________________________________________________________\n",
            "re_lu_28 (ReLU)              (None, 108, 16)           0         \n",
            "_________________________________________________________________\n",
            "batch_normalization_35 (Batc (None, 108, 16)           64        \n",
            "_________________________________________________________________\n",
            "conv1d_29 (Conv1D)           (None, 108, 32)           1568      \n",
            "_________________________________________________________________\n",
            "re_lu_29 (ReLU)              (None, 108, 32)           0         \n",
            "_________________________________________________________________\n",
            "batch_normalization_36 (Batc (None, 108, 32)           128       \n",
            "_________________________________________________________________\n",
            "conv1d_30 (Conv1D)           (None, 108, 64)           6208      \n",
            "_________________________________________________________________\n",
            "re_lu_30 (ReLU)              (None, 108, 64)           0         \n",
            "_________________________________________________________________\n",
            "batch_normalization_37 (Batc (None, 108, 64)           256       \n",
            "_________________________________________________________________\n",
            "conv1d_31 (Conv1D)           (None, 108, 128)          24704     \n",
            "_________________________________________________________________\n",
            "re_lu_31 (ReLU)              (None, 108, 128)          0         \n",
            "_________________________________________________________________\n",
            "batch_normalization_38 (Batc (None, 108, 128)          512       \n",
            "_________________________________________________________________\n",
            "max_pooling1d_7 (MaxPooling1 (None, 54, 128)           0         \n",
            "_________________________________________________________________\n",
            "flatten_7 (Flatten)          (None, 6912)              0         \n",
            "_________________________________________________________________\n",
            "dense_28 (Dense)             (None, 128)               884864    \n",
            "_________________________________________________________________\n",
            "dropout_21 (Dropout)         (None, 128)               0         \n",
            "_________________________________________________________________\n",
            "dense_29 (Dense)             (None, 128)               16512     \n",
            "_________________________________________________________________\n",
            "dropout_22 (Dropout)         (None, 128)               0         \n",
            "_________________________________________________________________\n",
            "dense_30 (Dense)             (None, 64)                8256      \n",
            "_________________________________________________________________\n",
            "dropout_23 (Dropout)         (None, 64)                0         \n",
            "_________________________________________________________________\n",
            "batch_normalization_39 (Batc (None, 64)                256       \n",
            "_________________________________________________________________\n",
            "dense_31 (Dense)             (None, 6)                 390       \n",
            "=================================================================\n",
            "Total params: 943,782\n",
            "Trainable params: 943,174\n",
            "Non-trainable params: 608\n",
            "_________________________________________________________________\n"
          ],
          "name": "stdout"
        }
      ]
    },
    {
      "cell_type": "markdown",
      "metadata": {
        "id": "GlbTz8r8xkDY"
      },
      "source": [
        "**Train the Model**"
      ]
    },
    {
      "cell_type": "code",
      "metadata": {
        "colab": {
          "base_uri": "https://localhost:8080/"
        },
        "id": "A1zz8DLHooG6",
        "outputId": "34d24462-858a-4446-fa2e-c09fc58a16bd"
      },
      "source": [
        "fashion_model.load_weights(checkpoint_filepath)\n",
        "history = fashion_model.fit(energy_train, energy_label_train, validation_data=(energy_vald, energy_label_vald),epochs=epochs, batch_size=batch_size,   callbacks=[model_checkpoint_callback,learning_rate_reduction])\n"
      ],
      "execution_count": 178,
      "outputs": [
        {
          "output_type": "stream",
          "text": [
            "Epoch 1/30\n",
            "125/125 [==============================] - 41s 303ms/step - loss: 0.3501 - accuracy: 0.8891 - val_loss: 0.1980 - val_accuracy: 0.9493\n",
            "Epoch 2/30\n",
            "125/125 [==============================] - 37s 298ms/step - loss: 0.3163 - accuracy: 0.8968 - val_loss: 0.2213 - val_accuracy: 0.9415\n",
            "Epoch 3/30\n",
            "125/125 [==============================] - 37s 298ms/step - loss: 0.2880 - accuracy: 0.9047 - val_loss: 0.2135 - val_accuracy: 0.9469\n",
            "\n",
            "Epoch 00003: ReduceLROnPlateau reducing learning rate to 0.0001250000059371814.\n",
            "Epoch 4/30\n",
            "125/125 [==============================] - 37s 298ms/step - loss: 0.2585 - accuracy: 0.9166 - val_loss: 0.1928 - val_accuracy: 0.9546\n",
            "Epoch 5/30\n",
            "125/125 [==============================] - 37s 299ms/step - loss: 0.2374 - accuracy: 0.9227 - val_loss: 0.1973 - val_accuracy: 0.9493\n",
            "Epoch 6/30\n",
            "125/125 [==============================] - 37s 298ms/step - loss: 0.2333 - accuracy: 0.9242 - val_loss: 0.1950 - val_accuracy: 0.9522\n",
            "\n",
            "Epoch 00006: ReduceLROnPlateau reducing learning rate to 0.0001.\n",
            "Epoch 7/30\n",
            "125/125 [==============================] - 37s 299ms/step - loss: 0.2281 - accuracy: 0.9245 - val_loss: 0.1963 - val_accuracy: 0.9510\n",
            "Epoch 8/30\n",
            "125/125 [==============================] - 37s 299ms/step - loss: 0.2131 - accuracy: 0.9292 - val_loss: 0.1965 - val_accuracy: 0.9493\n",
            "Epoch 9/30\n",
            "125/125 [==============================] - 37s 298ms/step - loss: 0.2036 - accuracy: 0.9322 - val_loss: 0.1912 - val_accuracy: 0.9510\n",
            "Epoch 10/30\n",
            "125/125 [==============================] - 38s 300ms/step - loss: 0.2006 - accuracy: 0.9323 - val_loss: 0.1922 - val_accuracy: 0.9510\n",
            "Epoch 11/30\n",
            "125/125 [==============================] - 37s 300ms/step - loss: 0.1895 - accuracy: 0.9364 - val_loss: 0.1907 - val_accuracy: 0.9510\n",
            "Epoch 12/30\n",
            "125/125 [==============================] - 37s 298ms/step - loss: 0.1822 - accuracy: 0.9400 - val_loss: 0.1974 - val_accuracy: 0.9493\n",
            "Epoch 13/30\n",
            "125/125 [==============================] - 37s 297ms/step - loss: 0.1846 - accuracy: 0.9402 - val_loss: 0.2045 - val_accuracy: 0.9493\n",
            "Epoch 14/30\n",
            "125/125 [==============================] - 37s 299ms/step - loss: 0.1784 - accuracy: 0.9417 - val_loss: 0.1937 - val_accuracy: 0.9540\n",
            "Epoch 15/30\n",
            "125/125 [==============================] - 37s 298ms/step - loss: 0.1735 - accuracy: 0.9432 - val_loss: 0.2064 - val_accuracy: 0.9463\n",
            "Epoch 16/30\n",
            "125/125 [==============================] - 37s 298ms/step - loss: 0.1686 - accuracy: 0.9457 - val_loss: 0.2071 - val_accuracy: 0.9493\n",
            "Epoch 17/30\n",
            "125/125 [==============================] - 37s 298ms/step - loss: 0.1650 - accuracy: 0.9449 - val_loss: 0.2046 - val_accuracy: 0.9510\n",
            "Epoch 18/30\n",
            "125/125 [==============================] - 38s 300ms/step - loss: 0.1551 - accuracy: 0.9490 - val_loss: 0.2106 - val_accuracy: 0.9475\n",
            "Epoch 19/30\n",
            "125/125 [==============================] - 38s 300ms/step - loss: 0.1577 - accuracy: 0.9482 - val_loss: 0.2059 - val_accuracy: 0.9481\n",
            "Epoch 20/30\n",
            "125/125 [==============================] - 37s 299ms/step - loss: 0.1559 - accuracy: 0.9472 - val_loss: 0.2055 - val_accuracy: 0.9504\n",
            "Epoch 21/30\n",
            "125/125 [==============================] - 37s 300ms/step - loss: 0.1500 - accuracy: 0.9493 - val_loss: 0.2063 - val_accuracy: 0.9445\n",
            "Epoch 22/30\n",
            "125/125 [==============================] - 38s 300ms/step - loss: 0.1470 - accuracy: 0.9520 - val_loss: 0.2059 - val_accuracy: 0.9439\n",
            "Epoch 23/30\n",
            "125/125 [==============================] - 37s 299ms/step - loss: 0.1478 - accuracy: 0.9511 - val_loss: 0.2073 - val_accuracy: 0.9469\n",
            "Epoch 24/30\n",
            "125/125 [==============================] - 37s 298ms/step - loss: 0.1490 - accuracy: 0.9505 - val_loss: 0.2061 - val_accuracy: 0.9493\n",
            "Epoch 25/30\n",
            "125/125 [==============================] - 38s 300ms/step - loss: 0.1360 - accuracy: 0.9559 - val_loss: 0.2081 - val_accuracy: 0.9481\n",
            "Epoch 26/30\n",
            "125/125 [==============================] - 38s 301ms/step - loss: 0.1343 - accuracy: 0.9549 - val_loss: 0.2165 - val_accuracy: 0.9451\n",
            "Epoch 27/30\n",
            "125/125 [==============================] - 37s 300ms/step - loss: 0.1379 - accuracy: 0.9554 - val_loss: 0.2136 - val_accuracy: 0.9499\n",
            "Epoch 28/30\n",
            "125/125 [==============================] - 37s 298ms/step - loss: 0.1331 - accuracy: 0.9556 - val_loss: 0.2208 - val_accuracy: 0.9457\n",
            "Epoch 29/30\n",
            "125/125 [==============================] - 37s 297ms/step - loss: 0.1357 - accuracy: 0.9532 - val_loss: 0.2133 - val_accuracy: 0.9481\n",
            "Epoch 30/30\n",
            "125/125 [==============================] - 37s 298ms/step - loss: 0.1317 - accuracy: 0.9562 - val_loss: 0.2201 - val_accuracy: 0.9421\n"
          ],
          "name": "stdout"
        }
      ]
    },
    {
      "cell_type": "markdown",
      "metadata": {
        "id": "yhp2XaTu3Agt"
      },
      "source": [
        "**Evalution On training and val**"
      ]
    },
    {
      "cell_type": "code",
      "metadata": {
        "colab": {
          "base_uri": "https://localhost:8080/",
          "height": 545
        },
        "id": "NdVd3_fqEnGo",
        "outputId": "e1d2e572-42f1-496d-93a4-116d052e903e"
      },
      "source": [
        "accuracy = history.history['accuracy']\n",
        "val_accuracy = history.history['val_accuracy']\n",
        "loss = history.history['loss']\n",
        "val_loss = history.history['val_loss']\n",
        "epochs = range(len(accuracy))\n",
        "plt.plot(epochs, accuracy, 'bo', label='Training accuracy')\n",
        "plt.plot(epochs, val_accuracy, 'b', label='Validation accuracy')\n",
        "plt.title('Training and validation accuracy')\n",
        "plt.legend()\n",
        "plt.figure()\n",
        "plt.plot(epochs, loss, 'bo', label='Training loss')\n",
        "plt.plot(epochs, val_loss, 'b', label='Validation loss')\n",
        "plt.title('Training and validation loss')\n",
        "plt.legend()\n",
        "plt.show()"
      ],
      "execution_count": 180,
      "outputs": [
        {
          "output_type": "display_data",
          "data": {
            "image/png": "[encoded data removed]",
            "text/plain": [
              "<Figure size 432x288 with 1 Axes>"
            ]
          },
          "metadata": {
            "tags": [],
            "needs_background": "light"
          }
        },
        {
          "output_type": "display_data",
          "data": {
            "image/png": "[encoded data removed]",
            "text/plain": [
              "<Figure size 432x288 with 1 Axes>"
            ]
          },
          "metadata": {
            "tags": [],
            "needs_background": "light"
          }
        }
      ]
    },
    {
      "cell_type": "markdown",
      "metadata": {
        "id": "fbIXmCQM3A_y"
      },
      "source": [
        "**Save/Reload Models**"
      ]
    },
    {
      "cell_type": "code",
      "metadata": {
        "id": "nAEkgLTz3Eyh",
        "colab": {
          "base_uri": "https://localhost:8080/"
        },
        "outputId": "db8646c8-11db-4478-acc8-e56653b58075"
      },
      "source": [
        "from keras.models import load_model\n",
        "fashion_model.save(\"/content/drive/MyDrive/emotionDataset/zcr_spec_model_best\")"
      ],
      "execution_count": 181,
      "outputs": [
        {
          "output_type": "stream",
          "text": [
            "INFO:tensorflow:Assets written to: /content/drive/MyDrive/emotionDataset/zcr_spec_model_best/assets\n"
          ],
          "name": "stdout"
        },
        {
          "output_type": "stream",
          "text": [
            "INFO:tensorflow:Assets written to: /content/drive/MyDrive/emotionDataset/zcr_spec_model_best/assets\n"
          ],
          "name": "stderr"
        }
      ]
    },
    {
      "cell_type": "code",
      "metadata": {
        "id": "pTCPphZY6rbB"
      },
      "source": [
        "my_model = load_model(\"/content/drive/MyDrive/emotionDataset/zcr_spec_model\")\n",
        "my_model.load_weights(checkpoint_filepath)"
      ],
      "execution_count": null,
      "outputs": []
    },
    {
      "cell_type": "code",
      "metadata": {
        "id": "SgsHfF386zHj"
      },
      "source": [
        "my_model.summary()\n",
        "history2 = my_model.fit(energy_train, energy_label_train, validation_data=(energy_vald, energy_label_vald),epochs=epochs, batch_size=batch_size,   callbacks=[learning_rate_reduction])\n"
      ],
      "execution_count": null,
      "outputs": []
    },
    {
      "cell_type": "markdown",
      "metadata": {
        "id": "qX0UIOng3WX6"
      },
      "source": [
        "**Model Fine-Tuning**"
      ]
    },
    {
      "cell_type": "code",
      "metadata": {
        "id": "PiGytlQH3WlC"
      },
      "source": [
        "from keras.optimizers import RMSprop\n",
        "opt = RMSprop(lr=0.0001, decay=1e-6)\n",
        "model2.compile(loss='categorical_crossentropy', optimizer=opt, metrics=['accuracy'])"
      ],
      "execution_count": null,
      "outputs": []
    },
    {
      "cell_type": "markdown",
      "metadata": {
        "id": "lKVZy8L53nLN"
      },
      "source": [
        "**Early Stopping**"
      ]
    },
    {
      "cell_type": "code",
      "metadata": {
        "id": "cq_saZvJ3q-V"
      },
      "source": [
        "from keras.callbacks import EarlyStopping\n",
        "early_stopping_monitor = EarlyStopping(patience=2)\n",
        "model3.fit(x_train4, y_train4, batch_size=32, epochs=15, validation_data=(x_test4, y_test4), callbacks=[early_stopping_monitor])"
      ],
      "execution_count": null,
      "outputs": []
    }
  ]
}