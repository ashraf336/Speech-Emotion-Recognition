{
  "nbformat": 4,
  "nbformat_minor": 0,
  "metadata": {
    "colab": {
      "name": "emotionRec.ipynb",
      "provenance": [],
      "collapsed_sections": [
        "khKa3WPEVY6I",
        "nskIn1x9pco9"
      ],
      "toc_visible": true,
      "mount_file_id": "16cTynXoiUZUXlK9TwSgUCFchzO8gBXOG",
      "authorship_tag": "ABX9TyO/vCplOp47/nxPFwmRt/8F",
      "include_colab_link": true
    },
    "kernelspec": {
      "name": "python3",
      "display_name": "Python 3"
    },
    "language_info": {
      "name": "python"
    }
  },
  "cells": [
    {
      "cell_type": "markdown",
      "metadata": {
        "id": "view-in-github",
        "colab_type": "text"
      },
      "source": [
        "<a href=\"https://colab.research.google.com/github/habiib1999/Speech-Emotion-Recognition/blob/main/emotionRec.ipynb\" target=\"_parent\"><img src=\"https://colab.research.google.com/assets/colab-badge.svg\" alt=\"Open In Colab\"/></a>"
      ]
    },
    {
      "cell_type": "code",
      "metadata": {
        "id": "7uCKGmYYqKg7"
      },
      "source": [
        "import numpy as np\n",
        "import matplotlib.pyplot as plt\n",
        "from scipy.io import wavfile\n",
        "from IPython.display import Audio\n",
        "import os\n",
        "import re\n",
        "\n",
        "import librosa\n",
        "import librosa.display\n",
        "import matplotlib.pyplot as plt\n",
        "import numpy as np\n",
        "import pandas as pd\n",
        "import seaborn as sns\n",
        "from IPython.display import Audio\n",
        "# from entropy import spectral_entropy\n",
        "from keras import layers\n",
        "from keras import models\n",
        "from keras.utils import np_utils\n",
        "from sklearn.model_selection import train_test_split\n",
        "from sklearn.preprocessing import LabelEncoder, StandardScaler\n",
        "from tensorflow.python.keras.callbacks import EarlyStopping, ReduceLROnPlateau\n",
        "\n",
        "import itertools"
      ],
      "execution_count": 2,
      "outputs": []
    },
    {
      "cell_type": "markdown",
      "metadata": {
        "id": "REhck2ccqVCA"
      },
      "source": [
        "# CLASS : READER"
      ]
    },
    {
      "cell_type": "code",
      "metadata": {
        "id": "e-RmL2riqQ24"
      },
      "source": [
        "#READER CLASS\n",
        "class Reader:\n",
        "  def __init__(self, crema_path):\n",
        "    self.crema_path = crema_path\n",
        "\n",
        "\n",
        "  def readCrema(self):\n",
        "    emotion_df = []\n",
        "\n",
        "    for wav in os.listdir(crema_path):\n",
        "      info = wav.partition(\".wav\")[0].split(\"_\")\n",
        "      if info[2] == 'SAD':\n",
        "        emotion_df.append((\"sad\", crema_path + \"/\" + wav))\n",
        "      elif info[2] == 'ANG':\n",
        "        emotion_df.append((\"angry\", crema_path + \"/\" + wav))\n",
        "      elif info[2] == 'DIS':\n",
        "        emotion_df.append((\"disgust\", crema_path + \"/\" + wav))\n",
        "      elif info[2] == 'FEA':\n",
        "        emotion_df.append((\"fear\", crema_path + \"/\" + wav))\n",
        "      elif info[2] == 'HAP':\n",
        "        emotion_df.append((\"happy\", crema_path + \"/\" + wav))\n",
        "      elif info[2] == 'NEU':\n",
        "        emotion_df.append((\"neutral\", crema_path + \"/\" + wav))\n",
        "      else:\n",
        "        emotion_df.append((\"unknown\", crema_path + \"/\" + wav))\n",
        "\n",
        "\n",
        "    Crema_df = pd.DataFrame.from_dict(emotion_df)\n",
        "    Crema_df.rename(columns={1 : \"Path\", 0 : \"Emotion\"}, inplace=True)\n",
        "\n",
        "    #print(Crema_df.head())\n",
        "    return Crema_df\n",
        "\n",
        " \n",
        "\n",
        "  def read(self):\n",
        "    crema_dataset = self.readCrema()\n",
        "    return crema_dataset\n",
        "    "
      ],
      "execution_count": 123,
      "outputs": []
    },
    {
      "cell_type": "code",
      "metadata": {
        "colab": {
          "base_uri": "https://localhost:8080/"
        },
        "id": "S-QNXEgVr0Iq",
        "outputId": "ac025b37-3aff-45f2-bf75-ba9994672147"
      },
      "source": [
        "crema_path = \"/content/drive/MyDrive/emotionDataset/Crema\"\n",
        "reader = Reader(crema_path)\n",
        "crema_dataset = reader.read()\n",
        "#from sklearn.utils import shuffle\n",
        "#crema_dataset = shuffle(crema_dataset)\n",
        "print(crema_dataset.head(10))"
      ],
      "execution_count": 124,
      "outputs": [
        {
          "output_type": "stream",
          "text": [
            "   Emotion                                               Path\n",
            "0     fear  /content/drive/MyDrive/emotionDataset/Crema/10...\n",
            "1     fear  /content/drive/MyDrive/emotionDataset/Crema/10...\n",
            "2      sad  /content/drive/MyDrive/emotionDataset/Crema/10...\n",
            "3  disgust  /content/drive/MyDrive/emotionDataset/Crema/10...\n",
            "4  disgust  /content/drive/MyDrive/emotionDataset/Crema/10...\n",
            "5    angry  /content/drive/MyDrive/emotionDataset/Crema/10...\n",
            "6      sad  /content/drive/MyDrive/emotionDataset/Crema/10...\n",
            "7  disgust  /content/drive/MyDrive/emotionDataset/Crema/10...\n",
            "8     fear  /content/drive/MyDrive/emotionDataset/Crema/10...\n",
            "9     fear  /content/drive/MyDrive/emotionDataset/Crema/10...\n"
          ],
          "name": "stdout"
        }
      ]
    },
    {
      "cell_type": "code",
      "metadata": {
        "id": "M33xepUItR0h"
      },
      "source": [
        "def energy(data, frame_length=2048, hop_length=512):\n",
        "    en = np.array([np.sum(np.power(np.abs(data[hop:hop+frame_length]), 2)) for hop in range(0, data.shape[0], hop_length)])\n",
        "    return en / frame_length\n",
        "def mel_spc(data, sr, frame_length=2048, hop_length=512, flatten: bool = False):\n",
        "    mel = librosa.feature.melspectrogram(y=data, sr=sr)\n",
        "    return np.squeeze(mel.T) if not flatten else np.ravel(mel.T)"
      ],
      "execution_count": 125,
      "outputs": []
    },
    {
      "cell_type": "code",
      "metadata": {
        "id": "kLFh_zXztUEx"
      },
      "source": [
        "def extract_features(data, sr, frame_length=2048, hop_length=512):\n",
        "    result = np.array([])\n",
        "\n",
        "    return energy(data, frame_length, hop_length),mel_spc(data, sr, frame_length, hop_length)\n",
        "\n",
        "\n",
        "def get_features(path, duration=2.5, offset=0.6):\n",
        "    # duration and offset are used to take care of the no audio in start and the ending of each audio files as seen above.\n",
        "    data, sample_rate = librosa.load(path, duration=duration, offset=offset)\n",
        "\n",
        "    energy_feature,mel_spec_feature = extract_features(data, sample_rate)\n",
        "\n",
        "    return np.array(energy_feature) , np.array(mel_spec_feature)"
      ],
      "execution_count": 126,
      "outputs": []
    },
    {
      "cell_type": "code",
      "metadata": {
        "colab": {
          "base_uri": "https://localhost:8080/"
        },
        "id": "XqsKXQeytW4q",
        "outputId": "89bf0a0b-34b0-4e58-bc0c-bb512916af3a"
      },
      "source": [
        "path = np.array(crema_dataset[\"Path\"])[657]\n",
        "data, sampling_rate = librosa.load(path, duration=2.5, offset=0.6)\n",
        "print(len(data))\n",
        "print(data)\n",
        "print(sampling_rate)\n",
        "enrg = energy(data)\n",
        "mel_spec = mel_spc(data, sampling_rate)\n",
        "print(\"Energy shape: \", enrg.shape)\n",
        "print(\"Energy: \", enrg)\n",
        "print(\"MelSpectrogram shape: \", mel_spec.shape)\n",
        "print(\"MelSpectrogram : \", mel_spec)"
      ],
      "execution_count": 127,
      "outputs": [
        {
          "output_type": "stream",
          "text": [
            "41215\n",
            "[-0.00774202 -0.00921047 -0.00838774 ...  0.          0.\n",
            "  0.        ]\n",
            "22050\n",
            "Energy shape:  (81,)\n",
            "Energy:  [1.25416682e-05 9.00268205e-05 1.85334604e-04 3.20473308e-04\n",
            " 4.43909288e-04 5.84825990e-04 6.93780254e-04 7.57424335e-04\n",
            " 7.28843384e-04 5.22820163e-04 3.26876121e-04 2.08084093e-04\n",
            " 3.37646983e-04 4.53232380e-04 6.37009856e-04 6.90810732e-04\n",
            " 6.26968686e-04 6.22040359e-04 5.71376935e-04 5.53829479e-04\n",
            " 5.40389272e-04 5.17104869e-04 4.33028355e-04 3.69260844e-04\n",
            " 3.49385751e-04 6.80433295e-04 9.92599176e-04 1.06770382e-03\n",
            " 1.07393204e-03 7.50555773e-04 3.96377407e-04 3.65105516e-04\n",
            " 3.75498668e-04 3.81877937e-04 4.22568090e-04 4.03064187e-04\n",
            " 3.02504777e-04 2.81216606e-04 3.60311329e-04 4.31530643e-04\n",
            " 5.63004171e-04 7.37200084e-04 9.54805641e-04 1.11985242e-03\n",
            " 1.10804976e-03 1.04999903e-03 7.55362853e-04 4.82189003e-04\n",
            " 3.56042641e-04 1.70072773e-04 1.18846765e-04 8.40425055e-05\n",
            " 5.14617059e-05 3.80887905e-05 3.09384013e-05 2.71017125e-05\n",
            " 2.12698069e-05 1.17438049e-05 1.07665437e-05 1.08715294e-05\n",
            " 1.23392583e-05 1.23855716e-05 1.46490065e-05 1.33187159e-05\n",
            " 1.21409939e-05 1.05156441e-05 8.16990178e-06 9.15207420e-06\n",
            " 1.02486401e-05 1.11011195e-05 9.76844694e-06 1.15008143e-05\n",
            " 1.33482454e-05 1.73499557e-05 1.92684947e-05 1.94702225e-05\n",
            " 2.03762938e-05 1.50434134e-05 1.19652250e-05 7.26609915e-06\n",
            " 1.04658591e-06]\n",
            "MelSpectrogram shape:  (81, 128)\n",
            "MelSpectrogram :  [[2.82664225e-02 1.04450226e-01 6.14331961e-02 ... 5.19210403e-07\n",
            "  5.07533969e-07 5.00214696e-07]\n",
            " [7.12602446e-03 4.81470935e-02 3.01526450e-02 ... 1.29802174e-07\n",
            "  1.26883037e-07 1.25053234e-07]\n",
            " [3.83137213e-03 1.00347865e-02 1.38565553e-02 ... 5.96826892e-17\n",
            "  4.24376775e-17 4.62865654e-17]\n",
            " ...\n",
            " [2.82532629e-03 2.53526196e-02 4.74306606e-02 ... 7.16526743e-17\n",
            "  6.94315554e-17 6.92266528e-17]\n",
            " [2.75239511e-03 5.80586717e-02 1.01982437e-01 ... 1.25222175e-16\n",
            "  1.17597568e-16 1.20690787e-16]\n",
            " [6.93903305e-03 4.20200638e-02 4.97190244e-02 ... 9.21484827e-17\n",
            "  1.21594888e-16 1.46754586e-16]]\n"
          ],
          "name": "stdout"
        }
      ]
    },
    {
      "cell_type": "code",
      "metadata": {
        "id": "hhIIC10stbZJ"
      },
      "source": [
        "extracted_data_energy, extracted_data_mel_spec = [], []\n",
        "extracted_data_energy_labels, extracted_data_mel_spec_labels = [], []\n",
        "print(\"Feature processing...\")\n",
        "for path, emotion, ind in zip(crema_dataset.Path, crema_dataset.Emotion, range(crema_dataset.Path.shape[0])):\n",
        "    energy_feature,mel_spec_feature = get_features(path)\n",
        "    if ind % 100 == 0:\n",
        "        print(f\"{ind} samples has been processed...\")\n",
        "    extracted_data_energy.append(energy_feature)      \n",
        "    extracted_data_energy_labels.append(emotion)\n",
        "    extracted_data_mel_spec.append(mel_spec_feature)      \n",
        "    extracted_data_mel_spec_labels.append(emotion)\n",
        "\n",
        "print(\"Done.\")"
      ],
      "execution_count": null,
      "outputs": []
    },
    {
      "cell_type": "markdown",
      "metadata": {
        "id": "o6XIfx6TLkFN"
      },
      "source": [
        "# Save ENERGY"
      ]
    },
    {
      "cell_type": "code",
      "metadata": {
        "id": "k_qZsg9stfcU"
      },
      "source": [
        "'''\n",
        "features_path = \"/content/drive/MyDrive/emotionDataset/crema_energy_features.csv\"\n",
        "extracted_df = pd.DataFrame(extracted_data_energy)\n",
        "extracted_df[\"labels\"] = extracted_data_energy_labels\n",
        "extracted_df.to_csv(features_path, index=False)\n",
        "extracted_df.head()\n",
        "'''\n",
        "extracted_data_energy = np.array(extracted_data_energy)\n",
        "\n",
        "features_path = \"/content/drive/MyDrive/emotionDataset/crema_energy_data_feature2.npy\"\n",
        "np.save(features_path, extracted_data_energy)\n",
        "\n",
        "features_path = \"/content/drive/MyDrive/emotionDataset/crema_energy_labels_feature2.npy\"\n",
        "np.save(features_path, extracted_data_mel_spec_labels)\n",
        "#np.savetxt(features_path, np.array(extracted_data_energy_labels), delimiter=\",\",fmt='%s')\n"
      ],
      "execution_count": 160,
      "outputs": []
    },
    {
      "cell_type": "markdown",
      "metadata": {
        "id": "5GjrrS1qLod7"
      },
      "source": [
        "# Save MEL SPECTROGRAM"
      ]
    },
    {
      "cell_type": "code",
      "metadata": {
        "colab": {
          "base_uri": "https://localhost:8080/"
        },
        "id": "fZ5jHHcithc5",
        "outputId": "e53cffd6-f01a-47c0-f4d0-3233a31ee960"
      },
      "source": [
        "'''\n",
        "features_path = \"/content/drive/MyDrive/emotionDataset/crema_mel_spec_features.csv\"\n",
        "extracted_df = pd.DataFrame(extracted_data_mel_spec)\n",
        "extracted_df[\"labels\"] = extracted_data_mel_spec_labels\n",
        "extracted_df.to_csv(features_path, index=False)\n",
        "extracted_df.head()\n",
        "'''\n",
        "extracted_data_mel_spec = np.array(extracted_data_mel_spec)\n",
        "\n",
        "features_path = \"/content/drive/MyDrive/emotionDataset/crema_mel_spec_data_features2.npy\"\n",
        "np.save(features_path, extracted_data_mel_spec)\n",
        "\n",
        "features_path = \"/content/drive/MyDrive/emotionDataset/crema_mel_spec_labels_feature2.npy\"\n",
        "np.save(features_path, extracted_data_energy_labels)"
      ],
      "execution_count": 161,
      "outputs": [
        {
          "output_type": "stream",
          "text": [
            "/usr/local/lib/python3.7/dist-packages/ipykernel_launcher.py:8: VisibleDeprecationWarning: Creating an ndarray from ragged nested sequences (which is a list-or-tuple of lists-or-tuples-or ndarrays with different lengths or shapes) is deprecated. If you meant to do this, you must specify 'dtype=object' when creating the ndarray\n",
            "  \n"
          ],
          "name": "stderr"
        }
      ]
    },
    {
      "cell_type": "markdown",
      "metadata": {
        "id": "OXT6HntNeGvZ"
      },
      "source": [
        "# Prepare ENERGY Feature"
      ]
    },
    {
      "cell_type": "code",
      "metadata": {
        "colab": {
          "base_uri": "https://localhost:8080/",
          "height": 36
        },
        "id": "lx_jx9CLLbqc",
        "outputId": "21172993-66ad-4963-ebba-5306eb138d52"
      },
      "source": [
        "energy_data = np.load(\"/content/drive/MyDrive/emotionDataset/crema_energy_data_feature2.npy\",allow_pickle=True) \n",
        "energy_labels = np.load( \"/content/drive/MyDrive/emotionDataset/crema_energy_labels_feature2.npy\",allow_pickle=True)\n",
        "'''print(energy_data.shape)\n",
        "print(energy_data)\n",
        "print(energy_labels.shape)\n",
        "print(energy_labels)'''\n"
      ],
      "execution_count": 3,
      "outputs": [
        {
          "output_type": "execute_result",
          "data": {
            "application/vnd.google.colaboratory.intrinsic+json": {
              "type": "string"
            },
            "text/plain": [
              "'print(energy_data.shape)\\nprint(energy_data)\\nprint(energy_labels.shape)\\nprint(energy_labels)'"
            ]
          },
          "metadata": {
            "tags": []
          },
          "execution_count": 3
        }
      ]
    },
    {
      "cell_type": "code",
      "metadata": {
        "id": "V2TPSFCPQ7oQ"
      },
      "source": [
        "# FILL NaN\n",
        "def numpy_fillna(data):\n",
        "    # Get lengths of each row of data\n",
        "    lens = np.array([len(i) for i in data])\n",
        "\n",
        "    # Mask of valid places in each row\n",
        "    mask = np.arange(lens.max()) < lens[:,None]\n",
        "\n",
        "    # Setup output array and put elements from data into masked positions\n",
        "    out = np.zeros(mask.shape, dtype=data.dtype)\n",
        "    out[mask] = np.concatenate(data)\n",
        "    return out\n",
        "energy_data = numpy_fillna(energy_data)\n"
      ],
      "execution_count": 4,
      "outputs": []
    },
    {
      "cell_type": "code",
      "metadata": {
        "colab": {
          "base_uri": "https://localhost:8080/"
        },
        "id": "xRn_n_r5NQr_",
        "outputId": "dbf894ef-ecca-485a-e949-cc46e7bed2e6"
      },
      "source": [
        "# Encode labels\n",
        "lb = LabelEncoder()\n",
        "energy_labels = np_utils.to_categorical(lb.fit_transform(energy_labels))\n",
        "print(lb.classes_)\n",
        "print(energy_labels)"
      ],
      "execution_count": 5,
      "outputs": [
        {
          "output_type": "stream",
          "text": [
            "['angry' 'disgust' 'fear' 'happy' 'neutral' 'sad']\n",
            "[[0. 0. 1. 0. 0. 0.]\n",
            " [0. 0. 1. 0. 0. 0.]\n",
            " [0. 0. 0. 0. 0. 1.]\n",
            " ...\n",
            " [0. 1. 0. 0. 0. 0.]\n",
            " [1. 0. 0. 0. 0. 0.]\n",
            " [1. 0. 0. 0. 0. 0.]]\n"
          ],
          "name": "stdout"
        }
      ]
    },
    {
      "cell_type": "code",
      "metadata": {
        "id": "pG35GDzyNZ5I"
      },
      "source": [
        "# Split data\n",
        "energy_train, energy_test, energy_label_train, energy_label_test = train_test_split(energy_data, energy_labels, test_size=0.3, random_state=1)\n",
        "\n",
        "energy_train, energy_vald, energy_label_train, energy_label_vald = train_test_split(energy_train, energy_label_train, test_size=0.05, random_state=1) "
      ],
      "execution_count": 6,
      "outputs": []
    },
    {
      "cell_type": "code",
      "metadata": {
        "colab": {
          "base_uri": "https://localhost:8080/"
        },
        "id": "bmTdwWQHNgRA",
        "outputId": "f495f763-761b-4950-8511-973262a09c0c"
      },
      "source": [
        "# Standardize data\n",
        "print(energy_train)\n",
        "scaler = StandardScaler()\n",
        "energy_train = scaler.fit_transform(energy_train)\n",
        "energy_test = scaler.transform(energy_test)\n",
        "energy_vald = scaler.transform(energy_vald)\n",
        "\n",
        "\n",
        "print(energy_train)\n",
        "print(energy_train.shape)"
      ],
      "execution_count": 7,
      "outputs": [
        {
          "output_type": "stream",
          "text": [
            "[[0.007495223544538021 0.006455752998590469 0.006186658516526222 ... 0 0\n",
            "  0]\n",
            " [3.3847958547994494e-05 3.0064849852351472e-05 0.0004387139924801886 ...\n",
            "  0 0 0]\n",
            " [0.0005620798328891397 0.0010974573669955134 0.0018036244437098503 ... 0\n",
            "  0 0]\n",
            " ...\n",
            " [3.178983024554327e-05 2.239243985968642e-05 2.1651685528922826e-05 ...\n",
            "  0 0 0]\n",
            " [5.2499101002467796e-05 4.992265166947618e-05 4.332196112954989e-05 ...\n",
            "  0 0 0]\n",
            " [0.00037560187047347426 0.0005270219990052283 0.0005730513948947191 ...\n",
            "  0 0 0]]\n",
            "[[ 0.11573338  0.05076604  0.02740831 ... -0.0272409  -0.02680934\n",
            "  -0.02759062]\n",
            " [-0.28167873 -0.28374242 -0.26385252 ... -0.0272409  -0.02680934\n",
            "  -0.02759062]\n",
            " [-0.25354374 -0.2281761  -0.19468954 ... -0.0272409  -0.02680934\n",
            "  -0.02759062]\n",
            " ...\n",
            " [-0.28178835 -0.28414183 -0.28498597 ... -0.0272409  -0.02680934\n",
            "  -0.02759062]\n",
            " [-0.28068532 -0.28270866 -0.28388789 ... -0.0272409  -0.02680934\n",
            "  -0.02759062]\n",
            " [-0.26347603 -0.25787182 -0.25704535 ... -0.0272409  -0.02680934\n",
            "  -0.02759062]]\n",
            "(4948, 108)\n"
          ],
          "name": "stdout"
        }
      ]
    },
    {
      "cell_type": "markdown",
      "metadata": {
        "id": "khKa3WPEVY6I"
      },
      "source": [
        "# DISABLE"
      ]
    },
    {
      "cell_type": "code",
      "metadata": {
        "id": "RGpG03-Itkd5"
      },
      "source": [
        "features_path = \"/content/drive/MyDrive/emotionDataset/crema_energy_features.csv\"\n",
        "energy_labels_data= pd.read_csv(features_path)\n",
        "energy_labels_data.head()\n",
        "# FILL NaN\n",
        "energy_labels_data = energy_labels_data.fillna(0)\n",
        "energy_labels_data.shape\n",
        "\n",
        "#Extract labels\n",
        "energy_data = energy_labels_data.drop(labels=\"labels\", axis=1)\n",
        "energy_labels = energy_labels_data[\"labels\"]\n",
        "\n",
        "# Encode labels\n",
        "lb = LabelEncoder()\n",
        "energy_labels = np_utils.to_categorical(lb.fit_transform(energy_labels))\n",
        "print(lb.classes_)\n",
        "print(energy_labels)\n",
        "\n",
        "# Split data\n",
        "energy_train, energy_test, energy_label_train, energy_label_test = train_test_split(energy_data, energy_labels, test_size=0.3, random_state=1)\n",
        "\n",
        "energy_train, energy_vald, energy_label_train, energy_label_vald = train_test_split(energy_train, energy_label_train, test_size=0.05, random_state=1) \n",
        "\n",
        "\n",
        "# Standardize data\n",
        "scaler = StandardScaler()\n",
        "energy_train = scaler.fit_transform(energy_train)\n",
        "energy_test = scaler.transform(energy_test)\n",
        "energy_vald = scaler.transform(energy_vald)\n",
        "\n",
        "\n",
        "print(energy_train)\n",
        "print(energy_train.shape)"
      ],
      "execution_count": null,
      "outputs": []
    },
    {
      "cell_type": "markdown",
      "metadata": {
        "id": "03XUXLZYeO06"
      },
      "source": [
        "# # Prepare MEL SPECTROGRAM Feature"
      ]
    },
    {
      "cell_type": "code",
      "metadata": {
        "colab": {
          "base_uri": "https://localhost:8080/"
        },
        "id": "4O-vIVu6LWvy",
        "outputId": "c51cc686-ffe0-49f8-db3b-2a29ab19dfe2"
      },
      "source": [
        "mel_spec_data = np.load(\"/content/drive/MyDrive/emotionDataset/crema_mel_spec_data_features2.npy\",allow_pickle=True) \n",
        "mel_spec_labels = np.load( \"/content/drive/MyDrive/emotionDataset/crema_mel_spec_labels_feature2.npy\",allow_pickle=True)\n",
        "\n",
        "print(mel_spec_data[0].shape)"
      ],
      "execution_count": 8,
      "outputs": [
        {
          "output_type": "stream",
          "text": [
            "(67, 128)\n"
          ],
          "name": "stdout"
        }
      ]
    },
    {
      "cell_type": "code",
      "metadata": {
        "colab": {
          "base_uri": "https://localhost:8080/"
        },
        "id": "ttyHJqIiV_fj",
        "outputId": "5f33f888-89f6-4318-821e-0906e7e5527b"
      },
      "source": [
        "# FILL NaN\n",
        "'''\n",
        "def pandas_fill(arr):   \n",
        "    arr = pd.DataFrame(arr)\n",
        "    arr = arr.fillna(0)\n",
        "    return arr\n",
        "\n",
        "print(max(map(len, mel_spec_data)))\n",
        "#mel_spec_data = pandas_fill(mel_spec_data)\n",
        "#mel_spec_data = mel_spec_data.to_numpy()\n",
        "print(mel_spec_data[13].shape)\n",
        "'''\n",
        "mel_spec_data2 = []\n",
        "def numpy_fillna(data):\n",
        "    # Get lengths of each row of data\n",
        "    lens = np.array([len(i) for i in data])\n",
        "\n",
        "    # Mask of valid places in each row\n",
        "    mask = np.arange(lens.max()) < lens[:,None]\n",
        "\n",
        "    # Setup output array and put elements from data into masked positions\n",
        "    out = np.zeros(mask.shape, dtype=data.dtype)\n",
        "    out[mask] = np.concatenate(data)\n",
        "    return out\n",
        "for i in range(0, len(mel_spec_data)):\n",
        "    mel_spec_data[i] = mel_spec_data[i].flatten()\n",
        "print(mel_spec_data[0].shape)\n",
        "\n",
        "mel_spec_data = numpy_fillna(mel_spec_data)\n",
        "print(mel_spec_data[0].shape)\n",
        "\n",
        "for i in range(0, len(mel_spec_data)):\n",
        "    mel_spec_data2.append(np.reshape(mel_spec_data[i], (108,128) ))\n",
        "mel_spec_data = mel_spec_data2\n",
        "print(mel_spec_data[0].shape)\n"
      ],
      "execution_count": 9,
      "outputs": [
        {
          "output_type": "stream",
          "text": [
            "(8576,)\n",
            "(13824,)\n",
            "(108, 128)\n"
          ],
          "name": "stdout"
        }
      ]
    },
    {
      "cell_type": "code",
      "metadata": {
        "colab": {
          "base_uri": "https://localhost:8080/"
        },
        "id": "U0MRAyAJZGUd",
        "outputId": "dcbac671-1b4a-4f64-d184-372939c1b4c7"
      },
      "source": [
        "# Encode labels\n",
        "lb = LabelEncoder()\n",
        "mel_spec_labels = np_utils.to_categorical(lb.fit_transform(mel_spec_labels))\n",
        "print(lb.classes_)\n",
        "print(mel_spec_labels)"
      ],
      "execution_count": 10,
      "outputs": [
        {
          "output_type": "stream",
          "text": [
            "['angry' 'disgust' 'fear' 'happy' 'neutral' 'sad']\n",
            "[[0. 0. 1. 0. 0. 0.]\n",
            " [0. 0. 1. 0. 0. 0.]\n",
            " [0. 0. 0. 0. 0. 1.]\n",
            " ...\n",
            " [0. 1. 0. 0. 0. 0.]\n",
            " [1. 0. 0. 0. 0. 0.]\n",
            " [1. 0. 0. 0. 0. 0.]]\n"
          ],
          "name": "stdout"
        }
      ]
    },
    {
      "cell_type": "code",
      "metadata": {
        "id": "EBSdVj3gZTuY"
      },
      "source": [
        "# Split data\n",
        "mel_spec_train, mel_spec_test, mel_spec_label_train, mel_spec_label_test = train_test_split(mel_spec_data, mel_spec_labels, test_size=0.3, random_state=1)\n",
        "\n",
        "mel_spec_train, mel_spec_vald, mel_spec_label_train, mel_spec_label_vald = train_test_split(mel_spec_train, mel_spec_label_train, test_size=0.05, random_state=1) "
      ],
      "execution_count": 11,
      "outputs": []
    },
    {
      "cell_type": "code",
      "metadata": {
        "colab": {
          "base_uri": "https://localhost:8080/"
        },
        "id": "Nh_Eu6EjZg1v",
        "outputId": "022ff4f8-6f1d-4b9b-914e-8cbce5d0d1c7"
      },
      "source": [
        "# Standardize data\n",
        "print(mel_spec_data[7441].shape)\n",
        "scaler = StandardScaler()\n",
        "for i in range(0, len(mel_spec_train)):\n",
        "    mel_spec_train[i] = scaler.fit_transform(mel_spec_train[i])\n",
        "for i in range(0, len(mel_spec_test)):\n",
        "    mel_spec_test[i] = scaler.transform(mel_spec_test[i])\n",
        "for i in range(0, len(mel_spec_vald)):\n",
        "    mel_spec_vald[i] = scaler.transform(mel_spec_vald[i])"
      ],
      "execution_count": 16,
      "outputs": [
        {
          "output_type": "stream",
          "text": [
            "(108, 128)\n"
          ],
          "name": "stdout"
        }
      ]
    },
    {
      "cell_type": "markdown",
      "metadata": {
        "id": "nskIn1x9pco9"
      },
      "source": [
        "# Disable"
      ]
    },
    {
      "cell_type": "code",
      "metadata": {
        "id": "HXH0f94etmZ7"
      },
      "source": [
        "features_path = \"/content/drive/MyDrive/emotionDataset/crema_mel_spec_features.csv\"\n",
        "mel_spec_labels_data = pd.read_csv(features_path)\n",
        "print(mel_spec_labels_data.head())\n",
        "print(mel_spec_labels_data.values)\n",
        "\n",
        "#Fill NaN\n",
        "mel_spec_labels_data = mel_spec_labels_data.fillna(0)\n",
        "mel_spec_labels_data.shape\n",
        "\n",
        "#Extract labels\n",
        "mel_spec_data = mel_spec_labels_data.drop(labels=\"labels\", axis=1)\n",
        "mel_spec_labels = mel_spec_labels_data[\"labels\"]\n",
        "\n",
        "# Encode labels\n",
        "lb = LabelEncoder()\n",
        "mel_spec_labels = np_utils.to_categorical(lb.fit_transform(mel_spec_labels))\n",
        "print(lb.classes_)\n",
        "print(mel_spec_labels)\n",
        "\n",
        "# Split data\n",
        "mel_spec_train, mel_spec_test, mel_spec_label_train, mel_spec_label_test = train_test_split(mel_spec_data, mel_spec_labels, test_size=0.3, random_state=1)\n",
        "\n",
        "mel_spec_train, mel_spec_vald, mel_spec_label_train, mel_spec_label_vald = train_test_split(mel_spec_train, mel_spec_label_train, test_size=0.05, random_state=1) \n",
        "print(mel_spec_train)\n",
        "'''\n",
        "mel_spec_train.columns = ['spect']\n",
        "mel_spec_train = mel_spec_train['spect'].apply(lambda x: \n",
        "                           np.fromstring(\n",
        "                               x.replace('\\n','')\n",
        "                                .replace('[','')\n",
        "                                .replace(']','')\n",
        "                                .replace('  ',' '), sep=' '))\n",
        "'''\n",
        "'''\n",
        "from ast import literal_eval\n",
        "mel_spec_train= np.array(literal_eval(mel_spec_train))\n",
        "'''\n",
        "\n",
        "for i in range(0, len(mel_spec_train)-1):\n",
        "  mel_spec_train[\"0\"] = np.array(mel_spec_train.iloc[i][\"0\"])\n",
        "  continue\n",
        "\n",
        "\n",
        "print(mel_spec_train)\n",
        "print(type(mel_spec_train))\n",
        "# Standardize data\n",
        "scaler = StandardScaler()\n",
        "mel_spec_train = scaler.fit_transform(mel_spec_train)\n",
        "mel_spec_test = scaler.transform(mel_spec_test)\n",
        "mel_spec_vald = scaler.transform(mel_spec_vald)\n",
        "\n",
        "\n",
        "print(mel_spec_train)\n",
        "print(type(mel_spec_train))"
      ],
      "execution_count": null,
      "outputs": []
    }
  ]
}